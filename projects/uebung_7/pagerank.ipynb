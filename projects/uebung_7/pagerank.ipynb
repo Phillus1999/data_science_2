{
 "cells": [
  {
   "cell_type": "code",
   "execution_count": 20,
   "outputs": [],
   "source": [
    "import json\n",
    "import numpy as np"
   ],
   "metadata": {
    "collapsed": false,
    "ExecuteTime": {
     "end_time": "2023-12-03T20:07:22.367145Z",
     "start_time": "2023-12-03T20:07:22.286068Z"
    }
   },
   "id": "f189dce2276961a1"
  },
  {
   "cell_type": "code",
   "execution_count": 21,
   "id": "initial_id",
   "metadata": {
    "collapsed": true,
    "ExecuteTime": {
     "end_time": "2023-12-03T20:07:22.428711Z",
     "start_time": "2023-12-03T20:07:22.412645Z"
    }
   },
   "outputs": [],
   "source": [
    "lines = []\n",
    "with open('arxiv-metadata-oai-snapshot.json', 'r') as f:\n",
    "    for i in range(1000):\n",
    "        lines.append(f.readline())"
   ]
  },
  {
   "cell_type": "code",
   "execution_count": 22,
   "outputs": [],
   "source": [
    "def line_yielder():\n",
    "    for line in lines:\n",
    "        yield line"
   ],
   "metadata": {
    "collapsed": false,
    "ExecuteTime": {
     "end_time": "2023-12-03T20:07:22.570043Z",
     "start_time": "2023-12-03T20:07:22.568973Z"
    }
   },
   "id": "58b63d17cce6e1be"
  },
  {
   "cell_type": "code",
   "execution_count": 24,
   "outputs": [
    {
     "name": "stdout",
     "output_type": "stream",
     "text": [
      "['hep-ph'] [1]\n",
      "['cs.CG' 'math.CO'] [1 1]\n",
      "['physics.gen-ph'] [1]\n",
      "['math.CO'] [1]\n",
      "['math.CA' 'math.FA'] [1 1]\n",
      "['cond-mat.mes-hall'] [1]\n",
      "['gr-qc'] [1]\n",
      "['cond-mat.mtrl-sci'] [1]\n",
      "['astro-ph'] [1]\n",
      "['math.CO'] [1]\n",
      "['math.AG' 'math.NT'] [1 1]\n",
      "['math.NT'] [1]\n",
      "['math.NT'] [1]\n",
      "['math.AT' 'math.CA'] [1 1]\n",
      "['hep-th'] [1]\n",
      "['hep-ph'] [1]\n",
      "['astro-ph'] [1]\n",
      "['hep-th'] [1]\n",
      "['math.AG' 'math.PR'] [1 1]\n",
      "['hep-ex'] [1]\n",
      "['nlin.PS' 'physics.chem-ph' 'q-bio.MN'] [1 1 1]\n",
      "['math.NA'] [1]\n",
      "['astro-ph'] [1]\n",
      "['nlin.PS'] [1]\n",
      "['cond-mat.stat-mech' 'cond-mat.str-el'] [1 1]\n",
      "['math.RA'] [1]\n",
      "['cond-mat.mes-hall'] [1]\n",
      "['math.CA' 'math.PR'] [1 1]\n",
      "['hep-ph'] [1]\n",
      "['cond-mat.str-el'] [1]\n",
      "['hep-ph'] [1]\n",
      "['hep-ph'] [1]\n",
      "['physics.comp-ph' 'physics.optics'] [1 1]\n",
      "['q-bio.CB' 'q-bio.PE' 'quant-ph'] [1 1 1]\n",
      "['physics.comp-ph' 'physics.optics'] [1 1]\n",
      "['q-bio.MN' 'q-bio.QM'] [1 1]\n",
      "['physics.comp-ph' 'physics.optics'] [1 1]\n",
      "['physics.comp-ph' 'physics.optics'] [1 1]\n",
      "['hep-lat' 'hep-ph' 'nucl-th'] [1 1 1]\n",
      "['math.FA' 'math.OA'] [1 1]\n",
      "['math-ph' 'math.MP' 'math.QA'] [1 1 1]\n",
      "['physics.gen-ph' 'quant-ph'] [1 1]\n",
      "['cond-mat.mtrl-sci' 'cond-mat.stat-mech'] [1 1]\n",
      "['astro-ph' 'nlin.CD' 'physics.plasm-ph' 'physics.space-ph'] [1 1 1 1]\n",
      "['nlin.PS' 'nlin.SI'] [1 1]\n",
      "['cs.IT' 'math.IT' 'quant-ph'] [1 1 1]\n",
      "['cs.AI' 'cs.NE'] [1 1]\n",
      "['astro-ph' 'gr-qc'] [1 1]\n",
      "['math.CO'] [1]\n",
      "['cs.AI' 'cs.NE'] [1 1]\n"
     ]
    }
   ],
   "source": [
    "for i in range(50):    \n",
    "    line = lines[i]\n",
    "    data = json.loads(line)\n",
    "    categories = data['categories'].split(' ')\n",
    "    cat, count = np.unique(categories, return_counts=True)\n",
    "    print(cat, count)"
   ],
   "metadata": {
    "collapsed": false,
    "ExecuteTime": {
     "end_time": "2023-12-03T20:08:10.070872Z",
     "start_time": "2023-12-03T20:08:10.067212Z"
    }
   },
   "id": "b43ced49046e3a43"
  },
  {
   "cell_type": "code",
   "execution_count": null,
   "outputs": [],
   "source": [],
   "metadata": {
    "collapsed": false
   },
   "id": "a5d5d2f1d666bd6b"
  }
 ],
 "metadata": {
  "kernelspec": {
   "display_name": "Python 3",
   "language": "python",
   "name": "python3"
  },
  "language_info": {
   "codemirror_mode": {
    "name": "ipython",
    "version": 2
   },
   "file_extension": ".py",
   "mimetype": "text/x-python",
   "name": "python",
   "nbconvert_exporter": "python",
   "pygments_lexer": "ipython2",
   "version": "2.7.6"
  }
 },
 "nbformat": 4,
 "nbformat_minor": 5
}
