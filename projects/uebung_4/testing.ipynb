{
 "cells": [
  {
   "cell_type": "code",
   "execution_count": 16,
   "id": "initial_id",
   "metadata": {
    "collapsed": true,
    "ExecuteTime": {
     "end_time": "2023-11-13T13:45:36.598964Z",
     "start_time": "2023-11-13T13:45:36.579134Z"
    }
   },
   "outputs": [
    {
     "data": {
      "text/plain": "             0                                                  1\n0      4179045                           [\"You've got it right.\"]\n1      4179327            [\"It's probably just a broken switch.\"]\n2      4180026  [\"What you want to say is that you read a lot....\n3      4180437                    [\"You don't need to prove it.\"]\n4      4180484  [\"If we ask you  to do something, it's because...\n...        ...                                                ...\n16032  2897045                            [\"What are you goals?\"]\n16033   289760  [\"I've been researching for years.\", \"I've bee...\n16034   289761                           [\"It's not your money.\"]\n16035    28979  [\"If you're going to go for well done, you mig...\n16036  2898636  [\"I don't know if you're still watching this q...\n\n[16037 rows x 2 columns]",
      "text/html": "<div>\n<style scoped>\n    .dataframe tbody tr th:only-of-type {\n        vertical-align: middle;\n    }\n\n    .dataframe tbody tr th {\n        vertical-align: top;\n    }\n\n    .dataframe thead th {\n        text-align: right;\n    }\n</style>\n<table border=\"1\" class=\"dataframe\">\n  <thead>\n    <tr style=\"text-align: right;\">\n      <th></th>\n      <th>0</th>\n      <th>1</th>\n    </tr>\n  </thead>\n  <tbody>\n    <tr>\n      <th>0</th>\n      <td>4179045</td>\n      <td>[\"You've got it right.\"]</td>\n    </tr>\n    <tr>\n      <th>1</th>\n      <td>4179327</td>\n      <td>[\"It's probably just a broken switch.\"]</td>\n    </tr>\n    <tr>\n      <th>2</th>\n      <td>4180026</td>\n      <td>[\"What you want to say is that you read a lot....</td>\n    </tr>\n    <tr>\n      <th>3</th>\n      <td>4180437</td>\n      <td>[\"You don't need to prove it.\"]</td>\n    </tr>\n    <tr>\n      <th>4</th>\n      <td>4180484</td>\n      <td>[\"If we ask you  to do something, it's because...</td>\n    </tr>\n    <tr>\n      <th>...</th>\n      <td>...</td>\n      <td>...</td>\n    </tr>\n    <tr>\n      <th>16032</th>\n      <td>2897045</td>\n      <td>[\"What are you goals?\"]</td>\n    </tr>\n    <tr>\n      <th>16033</th>\n      <td>289760</td>\n      <td>[\"I've been researching for years.\", \"I've bee...</td>\n    </tr>\n    <tr>\n      <th>16034</th>\n      <td>289761</td>\n      <td>[\"It's not your money.\"]</td>\n    </tr>\n    <tr>\n      <th>16035</th>\n      <td>28979</td>\n      <td>[\"If you're going to go for well done, you mig...</td>\n    </tr>\n    <tr>\n      <th>16036</th>\n      <td>2898636</td>\n      <td>[\"I don't know if you're still watching this q...</td>\n    </tr>\n  </tbody>\n</table>\n<p>16037 rows × 2 columns</p>\n</div>"
     },
     "execution_count": 16,
     "metadata": {},
     "output_type": "execute_result"
    }
   ],
   "source": [
    "import pandas as pd\n",
    "df = pd.read_csv('this.txt', sep='\\t', header=None)\n",
    "df"
   ]
  },
  {
   "cell_type": "code",
   "execution_count": 17,
   "outputs": [
    {
     "name": "stdout",
     "output_type": "stream",
     "text": [
      "0\n",
      "4179045    1\n",
      "3801619    1\n",
      "3798231    1\n",
      "3798558    1\n",
      "3798659    1\n",
      "          ..\n",
      "4173580    1\n",
      "4173839    1\n",
      "4173967    1\n",
      "41742      1\n",
      "2898636    1\n",
      "Name: count, Length: 16037, dtype: int64\n"
     ]
    }
   ],
   "source": [
    "print(df[0].value_counts())"
   ],
   "metadata": {
    "collapsed": false,
    "ExecuteTime": {
     "end_time": "2023-11-13T13:45:38.766488Z",
     "start_time": "2023-11-13T13:45:38.763082Z"
    }
   },
   "id": "9e9a66e4b781802d"
  },
  {
   "cell_type": "code",
   "execution_count": 18,
   "outputs": [
    {
     "data": {
      "text/plain": "0        False\n1        False\n2        False\n3        False\n4        False\n         ...  \n16032    False\n16033    False\n16034    False\n16035    False\n16036    False\nLength: 16037, dtype: bool"
     },
     "execution_count": 18,
     "metadata": {},
     "output_type": "execute_result"
    }
   ],
   "source": [
    "# show duplicates\n",
    "df_dup = df.duplicated(keep=False)\n",
    "df_dup"
   ],
   "metadata": {
    "collapsed": false,
    "ExecuteTime": {
     "end_time": "2023-11-13T13:45:39.957263Z",
     "start_time": "2023-11-13T13:45:39.945431Z"
    }
   },
   "id": "9506ed129660e98a"
  },
  {
   "cell_type": "code",
   "execution_count": 3,
   "outputs": [
    {
     "name": "stdout",
     "output_type": "stream",
     "text": [
      "\"There is no reason to worry.\"\n",
      "[4106589, 3036911, 2073834, 553922, 923452, 269155, 184755, 2724968, 1198917, 1518685, 16872, 1754702, 1668749, 3640854, 1050251, 1654792, 1177858, 860797, 3157237, 770408, 516079, 1540320, 313307, 2558221, 803984, 3749409, 1141513, 3889806, 5023601, 176704, 484163, 545300, 559164, 6261551, 415660, 342679, 2023439, 782608, 1515891, 1667803, 4291196, 327214, 1562547, 1283251, 2138273, 971974, 587036, 852846, 3770349, 8749159, 882227, 930788, 763701, 311325, 760884, 551769, 465624, 984071, 236709, 877346, 1904394, 776822, 3602740, 1237273, 2931079, 715962, 2270999, 1191022, 1102199, 3471425, 924639, 2596495, 207790, 803207, 487683, 499709, 1681516, 1433970, 1566297, 386366, 3358610, 6744710, 3032143, 2528612, 750546, 4236674, 831876, 2037287, 5148029, 2958645, 680494, 540653, 3470053, 1025316, 2952188, 1252016, 2233475, 913509, 1905184, 2107064, 138681, 810396, 4689892, 474876, 1920238, 861267, 1276250, 7501506, 1230261, 3700870, 281710, 1888305, 2767394, 2191142, 108663, 263611, 1345225, 1870804, 5054673, 1706896, 1171820, 2888301, 818294, 1910717, 1953531, 383933, 2283852, 319654, 259802, 937310, 1243521, 466809, 252371, 326723, 360001, 1291832, 2196630, 539250, 431348, 428355, 1213077, 1418891, 3501407, 845521, 3654644, 962453, 2285242, 1009692, 12545, 2078331, 293739, 2791750, 1252415, 794698, 2041403, 884464, 2016738, 315238, 2462414, 1431270, 1164763, 1520966, 63177, 839672, 412220, 806468, 370874, 883555, 1022288, 1751275, 2378442, 52220, 1237031, 2872522, 345738, 266334, 227318, 1266801, 1824963, 231890, 330400, 1423222, 1733713, 240355, 231509, 45967, 502023, 1505149, 679795, 38628, 22958, 53245, 1544461, 471884, 2572872, 1870231, 1119159, 183761, 32849, 3615207]\n"
     ]
    }
   ],
   "source": [
    "with open('signatures.txt', 'r') as f:\n",
    "    lines = f.readlines()\n",
    "    string, vector = lines[0].split('\\t')\n",
    "    print(string)\n",
    "    print(vector)"
   ],
   "metadata": {
    "collapsed": false,
    "ExecuteTime": {
     "end_time": "2023-11-14T07:37:18.526026Z",
     "start_time": "2023-11-14T07:37:18.480546Z"
    }
   },
   "id": "6c68195c80959b02"
  },
  {
   "cell_type": "code",
   "execution_count": 4,
   "outputs": [],
   "source": [
    "vector = vector.replace('[', '')\n",
    "vector = vector.replace(']', '')\n",
    "vector = vector.split(',')\n",
    "vector = [int(x) for x in vector]"
   ],
   "metadata": {
    "collapsed": false,
    "ExecuteTime": {
     "end_time": "2023-11-14T07:37:56.519432Z",
     "start_time": "2023-11-14T07:37:56.516282Z"
    }
   },
   "id": "34552d8ad86e2f04"
  },
  {
   "cell_type": "code",
   "execution_count": 5,
   "outputs": [
    {
     "data": {
      "text/plain": "[4106589,\n 3036911,\n 2073834,\n 553922,\n 923452,\n 269155,\n 184755,\n 2724968,\n 1198917,\n 1518685,\n 16872,\n 1754702,\n 1668749,\n 3640854,\n 1050251,\n 1654792,\n 1177858,\n 860797,\n 3157237,\n 770408,\n 516079,\n 1540320,\n 313307,\n 2558221,\n 803984,\n 3749409,\n 1141513,\n 3889806,\n 5023601,\n 176704,\n 484163,\n 545300,\n 559164,\n 6261551,\n 415660,\n 342679,\n 2023439,\n 782608,\n 1515891,\n 1667803,\n 4291196,\n 327214,\n 1562547,\n 1283251,\n 2138273,\n 971974,\n 587036,\n 852846,\n 3770349,\n 8749159,\n 882227,\n 930788,\n 763701,\n 311325,\n 760884,\n 551769,\n 465624,\n 984071,\n 236709,\n 877346,\n 1904394,\n 776822,\n 3602740,\n 1237273,\n 2931079,\n 715962,\n 2270999,\n 1191022,\n 1102199,\n 3471425,\n 924639,\n 2596495,\n 207790,\n 803207,\n 487683,\n 499709,\n 1681516,\n 1433970,\n 1566297,\n 386366,\n 3358610,\n 6744710,\n 3032143,\n 2528612,\n 750546,\n 4236674,\n 831876,\n 2037287,\n 5148029,\n 2958645,\n 680494,\n 540653,\n 3470053,\n 1025316,\n 2952188,\n 1252016,\n 2233475,\n 913509,\n 1905184,\n 2107064,\n 138681,\n 810396,\n 4689892,\n 474876,\n 1920238,\n 861267,\n 1276250,\n 7501506,\n 1230261,\n 3700870,\n 281710,\n 1888305,\n 2767394,\n 2191142,\n 108663,\n 263611,\n 1345225,\n 1870804,\n 5054673,\n 1706896,\n 1171820,\n 2888301,\n 818294,\n 1910717,\n 1953531,\n 383933,\n 2283852,\n 319654,\n 259802,\n 937310,\n 1243521,\n 466809,\n 252371,\n 326723,\n 360001,\n 1291832,\n 2196630,\n 539250,\n 431348,\n 428355,\n 1213077,\n 1418891,\n 3501407,\n 845521,\n 3654644,\n 962453,\n 2285242,\n 1009692,\n 12545,\n 2078331,\n 293739,\n 2791750,\n 1252415,\n 794698,\n 2041403,\n 884464,\n 2016738,\n 315238,\n 2462414,\n 1431270,\n 1164763,\n 1520966,\n 63177,\n 839672,\n 412220,\n 806468,\n 370874,\n 883555,\n 1022288,\n 1751275,\n 2378442,\n 52220,\n 1237031,\n 2872522,\n 345738,\n 266334,\n 227318,\n 1266801,\n 1824963,\n 231890,\n 330400,\n 1423222,\n 1733713,\n 240355,\n 231509,\n 45967,\n 502023,\n 1505149,\n 679795,\n 38628,\n 22958,\n 53245,\n 1544461,\n 471884,\n 2572872,\n 1870231,\n 1119159,\n 183761,\n 32849,\n 3615207]"
     },
     "execution_count": 5,
     "metadata": {},
     "output_type": "execute_result"
    }
   ],
   "source": [
    "vector"
   ],
   "metadata": {
    "collapsed": false,
    "ExecuteTime": {
     "end_time": "2023-11-14T07:37:59.506672Z",
     "start_time": "2023-11-14T07:37:59.504229Z"
    }
   },
   "id": "4ade432525cfc721"
  },
  {
   "cell_type": "code",
   "execution_count": null,
   "outputs": [],
   "source": [],
   "metadata": {
    "collapsed": false
   },
   "id": "1509bd38dafe293a"
  }
 ],
 "metadata": {
  "kernelspec": {
   "display_name": "Python 3",
   "language": "python",
   "name": "python3"
  },
  "language_info": {
   "codemirror_mode": {
    "name": "ipython",
    "version": 2
   },
   "file_extension": ".py",
   "mimetype": "text/x-python",
   "name": "python",
   "nbconvert_exporter": "python",
   "pygments_lexer": "ipython2",
   "version": "2.7.6"
  }
 },
 "nbformat": 4,
 "nbformat_minor": 5
}
