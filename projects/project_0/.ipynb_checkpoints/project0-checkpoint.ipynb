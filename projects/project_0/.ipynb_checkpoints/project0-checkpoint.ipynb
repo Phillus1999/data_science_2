{
 "cells": [
  {
   "cell_type": "code",
   "execution_count": 1,
   "metadata": {
    "is_executing": true
   },
   "outputs": [],
   "source": [
    "from numpy.random import random\n",
    "import numpy as np\n",
    "from scipy import sparse"
   ]
  },
  {
   "cell_type": "code",
   "execution_count": 2,
   "metadata": {
    "ExecuteTime": {
     "end_time": "2023-10-19T15:50:49.199480Z",
     "start_time": "2023-10-19T15:50:49.189178Z"
    }
   },
   "outputs": [],
   "source": [
    "def mat_vec(mat, vec):\n",
    "    \"\"\"\n",
    "    Matrix-vector multiplication\n",
    "    mat: 2d array shape = (m, n)\n",
    "    vec: 1d array shape = (n, 1)\n",
    "    result: 1d array shape = (m, 1)\n",
    "    \"\"\"\n",
    "    m = len(mat)\n",
    "    n = len(mat[0])\n",
    "    result = [0 for x in range(m)]\n",
    "    for i in range(m):\n",
    "        for j in range(n):\n",
    "            result[i] += mat[i][j] * vec[j]\n",
    "    return result"
   ]
  },
  {
   "cell_type": "code",
   "execution_count": 3,
   "metadata": {
    "ExecuteTime": {
     "end_time": "2023-10-19T15:50:49.207833Z",
     "start_time": "2023-10-19T15:50:49.197606Z"
    }
   },
   "outputs": [],
   "source": [
    "# test matrix-vector multiplication\n",
    "mat = [[1, 2, 3],\n",
    "       [4, 5, 6]]\n",
    "\n",
    "vec = [1,\n",
    "       2,\n",
    "       3]\n",
    "\n",
    "assert np.allclose(mat_vec(mat, vec), np.matmul(mat, vec))"
   ]
  },
  {
   "cell_type": "code",
   "execution_count": 4,
   "metadata": {
    "ExecuteTime": {
     "end_time": "2023-10-19T15:50:49.211795Z",
     "start_time": "2023-10-19T15:50:49.205502Z"
    }
   },
   "outputs": [],
   "source": [
    "def mat_mat(mat_a, mat_b):\n",
    "    \"\"\"\n",
    "    Matrix-Matrix multiplication\n",
    "    mat_a 2d array shape = (m,n)\n",
    "    mat_a 2d array shape = (n,p)\n",
    "    result: 2d array shape = (m,p)\n",
    "    \"\"\"\n",
    "    m = len(mat_a)\n",
    "    n = len(mat_a[0])\n",
    "    p = len(mat_b[0])\n",
    "    # create result matrix\n",
    "    # (m,p) matrix\n",
    "    result = [[0 for x in range(p)] for y in range(m)]\n",
    "    for i in range(m):\n",
    "        for j in range(p):\n",
    "            for k in range(n):\n",
    "                result[i][j] += mat_a[i][k] * mat_b[k][j]\n",
    "    return result"
   ]
  },
  {
   "cell_type": "code",
   "execution_count": 5,
   "metadata": {
    "ExecuteTime": {
     "end_time": "2023-10-19T15:52:51.360200Z",
     "start_time": "2023-10-19T15:52:51.354444Z"
    }
   },
   "outputs": [],
   "source": [
    "# test matrix matrix multiplication\n",
    "mat_a = [[1, 2, 3, 4],\n",
    "         [4, 5, 6, 4]]\n",
    "\n",
    "mat_b = [[1, 2],\n",
    "         [3, 4],\n",
    "         [5, 6],\n",
    "         [7, 8]]\n",
    "\n",
    "assert np.allclose(mat_mat(mat_a, mat_b), np.matmul(mat_a, mat_b))"
   ]
  },
  {
   "cell_type": "code",
   "execution_count": 6,
   "metadata": {
    "ExecuteTime": {
     "end_time": "2023-10-19T15:53:59.409982Z",
     "start_time": "2023-10-19T15:53:59.406343Z"
    }
   },
   "outputs": [],
   "source": [
    "def make_dok(mat):\n",
    "    \"\"\"\n",
    "    Convert a matrix to dictionary of keys (dok) format\n",
    "    input: sparse matrix\n",
    "    output: dictionary of non-zero elements in the form {(i, j): value}\n",
    "    \"\"\"\n",
    "    # für map reduce sollte nur i der key sein\n",
    "    dok = {}\n",
    "    for i in range(len(mat)):\n",
    "        for j in range(len(mat[0])):\n",
    "            if mat[i][j] != 0:\n",
    "                dok[(i, j)] = mat[i][j]\n",
    "    return dok"
   ]
  },
  {
   "cell_type": "code",
   "execution_count": 7,
   "metadata": {
    "ExecuteTime": {
     "end_time": "2023-10-19T15:54:00.328849Z",
     "start_time": "2023-10-19T15:54:00.318048Z"
    }
   },
   "outputs": [
    {
     "data": {
      "text/plain": [
       "{(0, 0): 1, (1, 1): 2, (2, 2): 3}"
      ]
     },
     "execution_count": 7,
     "metadata": {},
     "output_type": "execute_result"
    }
   ],
   "source": [
    "# test dok\n",
    "mat = [[1, 0, 0],\n",
    "       [0, 2, 0],\n",
    "       [0, 0, 3]]\n",
    "dok = make_dok(mat)\n",
    "dok"
   ]
  },
  {
   "cell_type": "code",
   "execution_count": 8,
   "metadata": {
    "ExecuteTime": {
     "end_time": "2023-10-19T15:54:03.946901Z",
     "start_time": "2023-10-19T15:54:03.940266Z"
    }
   },
   "outputs": [],
   "source": [
    "def mat_vec_sparse(mat, vec):\n",
    "    \"\"\"\n",
    "    Sparse matrix-vector multiplication\n",
    "    mat: 2d array shape = (m, n)\n",
    "    vec: 1d array shape = (n, 1)\n",
    "    result: 1d array shape = (m, 1)\n",
    "    \"\"\"\n",
    "    result = [0 for x in range(len(mat))]\n",
    "    num_of_calculations = 0\n",
    "    dok = make_dok(mat)\n",
    "    for position in dok:\n",
    "        # position = (i,j), dok.get(position) = mat[i][j]\n",
    "        result[position[0]] += dok.get(position) * vec[position[1]]\n",
    "\n",
    "    return result"
   ]
  },
  {
   "cell_type": "code",
   "execution_count": 9,
   "metadata": {
    "ExecuteTime": {
     "end_time": "2023-10-19T15:50:49.242990Z",
     "start_time": "2023-10-19T15:50:49.240075Z"
    }
   },
   "outputs": [],
   "source": [
    "# test sparse matrix-vector multiplication\n",
    "mat = [[1, 0, 0],\n",
    "       [0, 2, 0],\n",
    "       [0, 0, 3],\n",
    "       [0, 0, 2]]\n",
    "\n",
    "vec = [1,\n",
    "       2,\n",
    "       3]\n",
    "\n",
    "assert np.allclose(mat_vec_sparse(mat, vec), np.matmul(mat, vec))"
   ]
  },
  {
   "cell_type": "code",
   "execution_count": 10,
   "metadata": {},
   "outputs": [],
   "source": [
    "def mat_mat_sparse(mat_a, mat_b):\n",
    "    \"\"\"\n",
    "    Sparse Matrix-Matrix multiplication\n",
    "    mat_a 2d array shape = (m,n)\n",
    "    mat_a 2d array shape = (n,p)\n",
    "    result: 2d array shape = (m,p)\n",
    "    \"\"\"\n",
    "    result = [[0 for x in range(len(mat_b[0]))] for y in range(len(mat_a))]\n",
    "    dok_a = make_dok(mat_a)\n",
    "    dok_b = make_dok(mat_b)\n",
    "    for position_a in dok_a:\n",
    "        for position_b in dok_b:\n",
    "            if position_a[1] == position_b[0]:\n",
    "                result[position_a[0]][position_b[1]] += dok_a.get(position_a) * dok_b.get(position_b)\n",
    "    return result"
   ]
  },
  {
   "cell_type": "code",
   "execution_count": 11,
   "metadata": {
    "ExecuteTime": {
     "end_time": "2023-10-19T15:51:15.780755Z",
     "start_time": "2023-10-19T15:51:14.137976Z"
    }
   },
   "outputs": [],
   "source": [
    "#generate sparse mat\n",
    "sparse_mat = sparse.random(5000,5000).toarray()\n",
    "vec = [np.random.random() for x in range(5000)]"
   ]
  },
  {
   "cell_type": "code",
   "execution_count": 12,
   "metadata": {
    "ExecuteTime": {
     "end_time": "2023-10-19T15:51:23.179011Z",
     "start_time": "2023-10-19T15:51:17.387897Z"
    }
   },
   "outputs": [],
   "source": [
    "# runs in O(n^2)\n",
    "res_vec = mat_vec_sparse(sparse_mat, vec)"
   ]
  },
  {
   "cell_type": "code",
   "execution_count": 13,
   "metadata": {
    "ExecuteTime": {
     "end_time": "2023-10-19T15:54:52.987877Z",
     "start_time": "2023-10-19T15:54:42.050179Z"
    }
   },
   "outputs": [],
   "source": [
    "# runs in O(n^3)\n",
    "res_vec2 = mat_vec(sparse_mat, vec)"
   ]
  },
  {
   "cell_type": "code",
   "execution_count": null,
   "metadata": {},
   "outputs": [],
   "source": []
  }
 ],
 "metadata": {
  "kernelspec": {
   "display_name": "Python 3",
   "language": "python",
   "name": "python3"
  },
  "language_info": {
   "codemirror_mode": {
    "name": "ipython",
    "version": 3
   },
   "file_extension": ".py",
   "mimetype": "text/x-python",
   "name": "python",
   "nbconvert_exporter": "python",
   "pygments_lexer": "ipython3",
   "version": "3.8.8"
  }
 },
 "nbformat": 4,
 "nbformat_minor": 1
}
