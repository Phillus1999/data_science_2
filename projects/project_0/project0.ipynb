{
 "cells": [
  {
   "cell_type": "code",
   "execution_count": 1,
   "metadata": {
    "collapsed": true,
    "ExecuteTime": {
     "end_time": "2023-10-20T12:17:41.006295Z",
     "start_time": "2023-10-20T12:17:40.721972Z"
    }
   },
   "outputs": [],
   "source": [
    "from numpy.random import random\n",
    "import numpy as np\n",
    "from scipy import sparse"
   ]
  },
  {
   "cell_type": "code",
   "execution_count": 2,
   "outputs": [],
   "source": [
    "def mat_vec(mat, vec):\n",
    "    \"\"\"\n",
    "    Matrix-vector multiplication\n",
    "    mat: 2d array shape = (m, n)\n",
    "    vec: 1d array shape = (n, 1)\n",
    "    result: 1d array shape = (m, 1)\n",
    "    \"\"\"\n",
    "    m = len(mat)\n",
    "    n = len(mat[0])\n",
    "    result = [0 for x in range(m)]\n",
    "    for i in range(m):\n",
    "        for j in range(n):\n",
    "            result[i] += mat[i][j] * vec[j]\n",
    "    return result"
   ],
   "metadata": {
    "collapsed": false,
    "ExecuteTime": {
     "end_time": "2023-10-20T12:17:42.545330Z",
     "start_time": "2023-10-20T12:17:42.529363Z"
    }
   }
  },
  {
   "cell_type": "code",
   "execution_count": 3,
   "outputs": [],
   "source": [
    "# test matrix-vector multiplication\n",
    "mat = [[1, 2, 3],\n",
    "       [4, 5, 6]]\n",
    "\n",
    "vec = [1,\n",
    "       2,\n",
    "       3]\n",
    "\n",
    "assert np.allclose(mat_vec(mat, vec), np.matmul(mat, vec))"
   ],
   "metadata": {
    "collapsed": false,
    "ExecuteTime": {
     "end_time": "2023-10-20T12:17:43.090837Z",
     "start_time": "2023-10-20T12:17:43.085515Z"
    }
   }
  },
  {
   "cell_type": "code",
   "execution_count": 4,
   "outputs": [],
   "source": [
    "def mat_mat(mat_a, mat_b):\n",
    "    \"\"\"\n",
    "    Matrix-Matrix multiplication\n",
    "    mat_a 2d array shape = (m,n)\n",
    "    mat_a 2d array shape = (n,p)\n",
    "    result: 2d array shape = (m,p)\n",
    "    \"\"\"\n",
    "    m = len(mat_a)\n",
    "    n = len(mat_a[0])\n",
    "    p = len(mat_b[0])\n",
    "    # create result matrix\n",
    "    # (m,p) matrix\n",
    "    result = [[0 for x in range(p)] for y in range(m)]\n",
    "    for i in range(m):\n",
    "        for j in range(p):\n",
    "            for k in range(n):\n",
    "                result[i][j] += mat_a[i][k] * mat_b[k][j]\n",
    "    return result"
   ],
   "metadata": {
    "collapsed": false,
    "ExecuteTime": {
     "end_time": "2023-10-20T12:17:43.446055Z",
     "start_time": "2023-10-20T12:17:43.436255Z"
    }
   }
  },
  {
   "cell_type": "code",
   "execution_count": 5,
   "outputs": [],
   "source": [
    "# test matrix matrix multiplication\n",
    "mat_a = [[1, 2, 3, 4],\n",
    "         [4, 5, 6, 4]]\n",
    "\n",
    "mat_b = [[1, 2],\n",
    "         [3, 4],\n",
    "         [5, 6],\n",
    "         [7, 8]]\n",
    "\n",
    "assert np.allclose(mat_mat(mat_a, mat_b), np.matmul(mat_a, mat_b))"
   ],
   "metadata": {
    "collapsed": false,
    "ExecuteTime": {
     "end_time": "2023-10-20T12:17:43.795193Z",
     "start_time": "2023-10-20T12:17:43.789798Z"
    }
   }
  },
  {
   "cell_type": "code",
   "execution_count": 6,
   "outputs": [],
   "source": [
    "def make_dok(mat):\n",
    "    \"\"\"\n",
    "    Convert a matrix to dictionary of keys (dok) format\n",
    "    input: sparse matrix\n",
    "    output: dictionary of non-zero elements in the form {(i, j): value}\n",
    "    \"\"\"\n",
    "    # für map reduce sollte nur i der key sein\n",
    "    dok = {}\n",
    "    for i in range(len(mat)):\n",
    "        for j in range(len(mat[0])):\n",
    "            if mat[i][j] != 0:\n",
    "                dok[(i, j)] = mat[i][j]\n",
    "    return dok"
   ],
   "metadata": {
    "collapsed": false,
    "ExecuteTime": {
     "end_time": "2023-10-20T12:17:44.132779Z",
     "start_time": "2023-10-20T12:17:44.125168Z"
    }
   }
  },
  {
   "cell_type": "code",
   "execution_count": 7,
   "outputs": [
    {
     "data": {
      "text/plain": "{(0, 0): 1, (1, 1): 2, (2, 2): 3}"
     },
     "execution_count": 7,
     "metadata": {},
     "output_type": "execute_result"
    }
   ],
   "source": [
    "# test dok\n",
    "mat = [[1, 0, 0],\n",
    "       [0, 2, 0],\n",
    "       [0, 0, 3]]\n",
    "dok = make_dok(mat)\n",
    "dok"
   ],
   "metadata": {
    "collapsed": false,
    "ExecuteTime": {
     "end_time": "2023-10-20T12:17:44.425829Z",
     "start_time": "2023-10-20T12:17:44.416967Z"
    }
   }
  },
  {
   "cell_type": "code",
   "execution_count": 8,
   "outputs": [],
   "source": [
    "def mat_vec_sparse(mat, vec):\n",
    "    \"\"\"\n",
    "    Sparse matrix-vector multiplication\n",
    "    mat: 2d array shape = (m, n)\n",
    "    vec: 1d array shape = (n, 1)\n",
    "    result: 1d array shape = (m, 1)\n",
    "    \"\"\"\n",
    "    result = [0 for x in range(len(mat))]\n",
    "    num_of_calculations = 0\n",
    "    dok = make_dok(mat)\n",
    "    for position in dok:\n",
    "        # position = (i,j), dok.get(position) = mat[i][j]\n",
    "        result[position[0]] += dok.get(position) * vec[position[1]]\n",
    "\n",
    "    return result"
   ],
   "metadata": {
    "collapsed": false,
    "ExecuteTime": {
     "end_time": "2023-10-20T12:17:44.734514Z",
     "start_time": "2023-10-20T12:17:44.728176Z"
    }
   }
  },
  {
   "cell_type": "code",
   "execution_count": 9,
   "outputs": [],
   "source": [
    "# test sparse matrix-vector multiplication\n",
    "mat = [[1, 0, 0],\n",
    "       [0, 2, 0],\n",
    "       [0, 0, 3],\n",
    "       [0, 0, 2]]\n",
    "\n",
    "vec = [1,\n",
    "       2,\n",
    "       3]\n",
    "\n",
    "assert np.allclose(mat_vec_sparse(mat, vec), np.matmul(mat, vec))"
   ],
   "metadata": {
    "collapsed": false,
    "ExecuteTime": {
     "end_time": "2023-10-20T12:17:45.049997Z",
     "start_time": "2023-10-20T12:17:45.041699Z"
    }
   }
  },
  {
   "cell_type": "code",
   "execution_count": 10,
   "outputs": [],
   "source": [
    "def mat_mat_sparse(mat_a, mat_b):\n",
    "    \"\"\"\n",
    "    Sparse Matrix-Matrix multiplication\n",
    "    mat_a 2d array shape = (m,n)\n",
    "    mat_a 2d array shape = (n,p)\n",
    "    result: 2d array shape = (m,p)\n",
    "    \"\"\"\n",
    "    result = [[0 for x in range(len(mat_b[0]))] for y in range(len(mat_a))]\n",
    "    dok_a = make_dok(mat_a)\n",
    "    dok_b = make_dok(mat_b)\n",
    "    for position_a in dok_a:\n",
    "        for position_b in dok_b:\n",
    "            if position_a[1] == position_b[0]:\n",
    "                result[position_a[0]][position_b[1]] += dok_a.get(position_a) * dok_b.get(position_b)\n",
    "    return result"
   ],
   "metadata": {
    "collapsed": false,
    "ExecuteTime": {
     "end_time": "2023-10-20T12:17:45.374231Z",
     "start_time": "2023-10-20T12:17:45.367803Z"
    }
   }
  },
  {
   "cell_type": "code",
   "execution_count": 11,
   "outputs": [],
   "source": [
    "#generate sparse mat\n",
    "sparse_mat = sparse.random(2000,2000).toarray()\n",
    "sparse_mat_b = sparse.random(2000,2000).toarray()\n",
    "vec = [np.random.random() for x in range(2000)]"
   ],
   "metadata": {
    "collapsed": false,
    "ExecuteTime": {
     "end_time": "2023-10-20T12:17:47.797921Z",
     "start_time": "2023-10-20T12:17:47.269574Z"
    }
   }
  },
  {
   "cell_type": "code",
   "execution_count": 1,
   "outputs": [],
   "source": [
    "import mrjob"
   ],
   "metadata": {
    "collapsed": false,
    "ExecuteTime": {
     "end_time": "2023-10-21T14:13:17.642843Z",
     "start_time": "2023-10-21T14:13:17.636317Z"
    }
   }
  },
  {
   "cell_type": "code",
   "execution_count": 3,
   "outputs": [],
   "source": [
    "from mrjob.job import MRJob"
   ],
   "metadata": {
    "collapsed": false,
    "ExecuteTime": {
     "end_time": "2023-10-21T14:15:25.225293Z",
     "start_time": "2023-10-21T14:15:25.212527Z"
    }
   }
  },
  {
   "cell_type": "code",
   "execution_count": 5,
   "outputs": [
    {
     "name": "stdout",
     "output_type": "stream",
     "text": [
      "0\n",
      "1\n",
      "2\n"
     ]
    }
   ],
   "source": [
    "string=(\"0 1 2\")\n",
    "a,b,c = string.split()\n",
    "print(a)\n",
    "print(b)\n",
    "print(c)"
   ],
   "metadata": {
    "collapsed": false,
    "ExecuteTime": {
     "end_time": "2023-10-21T16:11:05.107744Z",
     "start_time": "2023-10-21T16:11:05.104351Z"
    }
   }
  },
  {
   "cell_type": "code",
   "execution_count": null,
   "outputs": [],
   "source": [],
   "metadata": {
    "collapsed": false
   }
  }
 ],
 "metadata": {
  "kernelspec": {
   "display_name": "Python 3",
   "language": "python",
   "name": "python3"
  },
  "language_info": {
   "codemirror_mode": {
    "name": "ipython",
    "version": 2
   },
   "file_extension": ".py",
   "mimetype": "text/x-python",
   "name": "python",
   "nbconvert_exporter": "python",
   "pygments_lexer": "ipython2",
   "version": "2.7.6"
  }
 },
 "nbformat": 4,
 "nbformat_minor": 0
}
