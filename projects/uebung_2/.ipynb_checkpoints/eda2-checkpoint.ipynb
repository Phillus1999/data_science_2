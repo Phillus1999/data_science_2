{
 "cells": [
  {
   "cell_type": "code",
   "execution_count": 1,
   "id": "initial_id",
   "metadata": {
    "ExecuteTime": {
     "end_time": "2023-10-30T07:13:16.585977Z",
     "start_time": "2023-10-30T07:13:16.583703Z"
    },
    "collapsed": true
   },
   "outputs": [],
   "source": [
    "import pandas as pd\n",
    "import numpy as np\n",
    "import matplotlib.pyplot as plt\n",
    "import seaborn as sns\n",
    "import re"
   ]
  },
  {
   "cell_type": "markdown",
   "id": "691c614794581799",
   "metadata": {},
   "source": [
    "# 1 Load and clean data"
   ]
  },
  {
   "cell_type": "code",
   "execution_count": 2,
   "id": "a5bae06e0365dc55",
   "metadata": {
    "ExecuteTime": {
     "end_time": "2023-10-30T07:13:16.597261Z",
     "start_time": "2023-10-30T07:13:16.586493Z"
    }
   },
   "outputs": [],
   "source": [
    "# load answer data\n",
    "# deleted line 801 in both files because it caused an error (had no score -> not usable for training anyway)\n",
    "column_names = ['Text String 1', 'Text String 2', 'Metadata 1', 'Metadata 2']\n",
    "df = pd.read_csv('sts2016-english-with-gs-v1.0/STS2016.input.answer-answer.txt', sep='\\t', header=None, names=column_names)\n",
    "# load gs data\n",
    "data = []\n",
    "with open('sts2016-english-with-gs-v1.0/STS2016.gs.answer-answer.txt', 'r') as file:\n",
    "    for line in file:\n",
    "        # If the line is empty or just contains a newline character, add NaN\n",
    "        if line.strip() == '':\n",
    "            data.append([np.nan])\n",
    "        else:\n",
    "            # Otherwise, add the value to the data list\n",
    "            data.append([line.strip()])\n",
    "            \n",
    "gs = pd.DataFrame(data, columns=['score'])"
   ]
  },
  {
   "cell_type": "code",
   "execution_count": 3,
   "id": "9c6f9f12b959cb33",
   "metadata": {
    "ExecuteTime": {
     "end_time": "2023-10-30T07:13:16.628382Z",
     "start_time": "2023-10-30T07:13:16.605434Z"
    }
   },
   "outputs": [
    {
     "name": "stdout",
     "output_type": "stream",
     "text": [
      "<class 'pandas.core.frame.DataFrame'>\n",
      "RangeIndex: 1571 entries, 0 to 1570\n",
      "Data columns (total 4 columns):\n",
      " #   Column         Non-Null Count  Dtype \n",
      "---  ------         --------------  ----- \n",
      " 0   Text String 1  1571 non-null   object\n",
      " 1   Text String 2  1571 non-null   object\n",
      " 2   Metadata 1     1571 non-null   object\n",
      " 3   Metadata 2     1571 non-null   object\n",
      "dtypes: object(4)\n",
      "memory usage: 49.2+ KB\n",
      "<class 'pandas.core.frame.DataFrame'>\n",
      "RangeIndex: 1571 entries, 0 to 1570\n",
      "Data columns (total 1 columns):\n",
      " #   Column  Non-Null Count  Dtype \n",
      "---  ------  --------------  ----- \n",
      " 0   score   254 non-null    object\n",
      "dtypes: object(1)\n",
      "memory usage: 12.4+ KB\n"
     ]
    }
   ],
   "source": [
    "df.info()\n",
    "gs.info()"
   ]
  },
  {
   "cell_type": "code",
   "execution_count": 4,
   "id": "73561f8f130f85d7",
   "metadata": {
    "ExecuteTime": {
     "end_time": "2023-10-30T07:13:16.636307Z",
     "start_time": "2023-10-30T07:13:16.609264Z"
    }
   },
   "outputs": [
    {
     "data": {
      "text/html": [
       "<div>\n",
       "<style scoped>\n",
       "    .dataframe tbody tr th:only-of-type {\n",
       "        vertical-align: middle;\n",
       "    }\n",
       "\n",
       "    .dataframe tbody tr th {\n",
       "        vertical-align: top;\n",
       "    }\n",
       "\n",
       "    .dataframe thead th {\n",
       "        text-align: right;\n",
       "    }\n",
       "</style>\n",
       "<table border=\"1\" class=\"dataframe\">\n",
       "  <thead>\n",
       "    <tr style=\"text-align: right;\">\n",
       "      <th></th>\n",
       "      <th>Text String 1</th>\n",
       "      <th>Text String 2</th>\n",
       "      <th>Metadata 1</th>\n",
       "      <th>Metadata 2</th>\n",
       "      <th>score</th>\n",
       "    </tr>\n",
       "  </thead>\n",
       "  <tbody>\n",
       "    <tr>\n",
       "      <th>0</th>\n",
       "      <td>Tasting it is the only reliable way.</td>\n",
       "      <td>The way you have it is fine.</td>\n",
       "      <td>StackExchange Network: http://cooking.stackexc...</td>\n",
       "      <td>StackExchange Network: http://writers.stackexc...</td>\n",
       "      <td>NaN</td>\n",
       "    </tr>\n",
       "    <tr>\n",
       "      <th>1</th>\n",
       "      <td>I think it probably depends on your money.</td>\n",
       "      <td>It depends on your country.</td>\n",
       "      <td>StackExchange Network: http://workplace.stacke...</td>\n",
       "      <td>StackExchange Network: http://travel.stackexch...</td>\n",
       "      <td>NaN</td>\n",
       "    </tr>\n",
       "    <tr>\n",
       "      <th>2</th>\n",
       "      <td>You need to read a lot to know what you like a...</td>\n",
       "      <td>You don't have to know.</td>\n",
       "      <td>StackExchange Network: http://writers.stackexc...</td>\n",
       "      <td>StackExchange Network: http://academia.stackex...</td>\n",
       "      <td>NaN</td>\n",
       "    </tr>\n",
       "    <tr>\n",
       "      <th>3</th>\n",
       "      <td>Obviously, the best book for you depends a lot...</td>\n",
       "      <td>The answer will depend of course on what you'r...</td>\n",
       "      <td>StackExchange Network: http://travel.stackexch...</td>\n",
       "      <td>StackExchange Network: http://travel.stackexch...</td>\n",
       "      <td>NaN</td>\n",
       "    </tr>\n",
       "    <tr>\n",
       "      <th>4</th>\n",
       "      <td>I've had this same problem.</td>\n",
       "      <td>I had the same problem as you.</td>\n",
       "      <td>StackExchange Network: http://diy.stackexchang...</td>\n",
       "      <td>StackExchange Network: http://cooking.stackexc...</td>\n",
       "      <td>NaN</td>\n",
       "    </tr>\n",
       "  </tbody>\n",
       "</table>\n",
       "</div>"
      ],
      "text/plain": [
       "                                       Text String 1  \\\n",
       "0               Tasting it is the only reliable way.   \n",
       "1         I think it probably depends on your money.   \n",
       "2  You need to read a lot to know what you like a...   \n",
       "3  Obviously, the best book for you depends a lot...   \n",
       "4                        I've had this same problem.   \n",
       "\n",
       "                                       Text String 2  \\\n",
       "0                       The way you have it is fine.   \n",
       "1                        It depends on your country.   \n",
       "2                            You don't have to know.   \n",
       "3  The answer will depend of course on what you'r...   \n",
       "4                     I had the same problem as you.   \n",
       "\n",
       "                                          Metadata 1  \\\n",
       "0  StackExchange Network: http://cooking.stackexc...   \n",
       "1  StackExchange Network: http://workplace.stacke...   \n",
       "2  StackExchange Network: http://writers.stackexc...   \n",
       "3  StackExchange Network: http://travel.stackexch...   \n",
       "4  StackExchange Network: http://diy.stackexchang...   \n",
       "\n",
       "                                          Metadata 2 score  \n",
       "0  StackExchange Network: http://writers.stackexc...   NaN  \n",
       "1  StackExchange Network: http://travel.stackexch...   NaN  \n",
       "2  StackExchange Network: http://academia.stackex...   NaN  \n",
       "3  StackExchange Network: http://travel.stackexch...   NaN  \n",
       "4  StackExchange Network: http://cooking.stackexc...   NaN  "
      ]
     },
     "execution_count": 4,
     "metadata": {},
     "output_type": "execute_result"
    }
   ],
   "source": [
    "# merge dataframes\n",
    "df = pd.concat([df, gs], axis=1) # concat hier, weil wir keine gemeinsame Spalte haben aber die Reihenfolge gleich ist\n",
    "df.head()"
   ]
  },
  {
   "cell_type": "code",
   "execution_count": 5,
   "id": "5f5e9f76028a9d7c",
   "metadata": {
    "ExecuteTime": {
     "end_time": "2023-10-30T07:13:16.636675Z",
     "start_time": "2023-10-30T07:13:16.622160Z"
    }
   },
   "outputs": [],
   "source": [
    "# clean data\n",
    "# 1 convert score to float\n",
    "df['score'] = pd.to_numeric(df['score'], errors='coerce') # coerce -> if error, set to NaN\n",
    "\n",
    "# this is the pattern we want to extract\n",
    "pattern = r'^(.*): (\\bhttps?://\\S+)'\n",
    "\n",
    "# apply regex to metadata1 and metadata2 and store it in source_1 source_1_url source_2 source_2_url\n",
    "df['source_1_url'] = df['Metadata 1'].str.extract(pattern)[1]\n",
    "df['source_2_url'] = df['Metadata 2'].str.extract(pattern)[1]\n",
    "\n",
    "# rename all columns to use snake_case\n",
    "df.columns = df.columns.str.lower().str.replace(' ', '_')\n",
    "df.columns = df.columns.str.strip(' ')"
   ]
  },
  {
   "cell_type": "code",
   "execution_count": 6,
   "id": "ddf27a119c8b708c",
   "metadata": {
    "ExecuteTime": {
     "end_time": "2023-10-30T07:13:16.637869Z",
     "start_time": "2023-10-30T07:13:16.625025Z"
    }
   },
   "outputs": [
    {
     "name": "stdout",
     "output_type": "stream",
     "text": [
      "<class 'pandas.core.frame.DataFrame'>\n",
      "RangeIndex: 1571 entries, 0 to 1570\n",
      "Data columns (total 7 columns):\n",
      " #   Column         Non-Null Count  Dtype  \n",
      "---  ------         --------------  -----  \n",
      " 0   text_string_1  1571 non-null   object \n",
      " 1   text_string_2  1571 non-null   object \n",
      " 2   metadata_1     1571 non-null   object \n",
      " 3   metadata_2     1571 non-null   object \n",
      " 4   score          254 non-null    float64\n",
      " 5   source_1_url   1571 non-null   object \n",
      " 6   source_2_url   1571 non-null   object \n",
      "dtypes: float64(1), object(6)\n",
      "memory usage: 86.0+ KB\n"
     ]
    },
    {
     "data": {
      "text/html": [
       "<div>\n",
       "<style scoped>\n",
       "    .dataframe tbody tr th:only-of-type {\n",
       "        vertical-align: middle;\n",
       "    }\n",
       "\n",
       "    .dataframe tbody tr th {\n",
       "        vertical-align: top;\n",
       "    }\n",
       "\n",
       "    .dataframe thead th {\n",
       "        text-align: right;\n",
       "    }\n",
       "</style>\n",
       "<table border=\"1\" class=\"dataframe\">\n",
       "  <thead>\n",
       "    <tr style=\"text-align: right;\">\n",
       "      <th></th>\n",
       "      <th>text_string_1</th>\n",
       "      <th>text_string_2</th>\n",
       "      <th>metadata_1</th>\n",
       "      <th>metadata_2</th>\n",
       "      <th>score</th>\n",
       "      <th>source_1_url</th>\n",
       "      <th>source_2_url</th>\n",
       "    </tr>\n",
       "  </thead>\n",
       "  <tbody>\n",
       "    <tr>\n",
       "      <th>0</th>\n",
       "      <td>Tasting it is the only reliable way.</td>\n",
       "      <td>The way you have it is fine.</td>\n",
       "      <td>StackExchange Network: http://cooking.stackexc...</td>\n",
       "      <td>StackExchange Network: http://writers.stackexc...</td>\n",
       "      <td>NaN</td>\n",
       "      <td>http://cooking.stackexchange.com/questions/5611</td>\n",
       "      <td>http://writers.stackexchange.com/questions/11017</td>\n",
       "    </tr>\n",
       "    <tr>\n",
       "      <th>1</th>\n",
       "      <td>I think it probably depends on your money.</td>\n",
       "      <td>It depends on your country.</td>\n",
       "      <td>StackExchange Network: http://workplace.stacke...</td>\n",
       "      <td>StackExchange Network: http://travel.stackexch...</td>\n",
       "      <td>NaN</td>\n",
       "      <td>http://workplace.stackexchange.com/questions/1755</td>\n",
       "      <td>http://travel.stackexchange.com/questions/45030</td>\n",
       "    </tr>\n",
       "    <tr>\n",
       "      <th>2</th>\n",
       "      <td>You need to read a lot to know what you like a...</td>\n",
       "      <td>You don't have to know.</td>\n",
       "      <td>StackExchange Network: http://writers.stackexc...</td>\n",
       "      <td>StackExchange Network: http://academia.stackex...</td>\n",
       "      <td>NaN</td>\n",
       "      <td>http://writers.stackexchange.com/questions/12166</td>\n",
       "      <td>http://academia.stackexchange.com/questions/26241</td>\n",
       "    </tr>\n",
       "    <tr>\n",
       "      <th>3</th>\n",
       "      <td>Obviously, the best book for you depends a lot...</td>\n",
       "      <td>The answer will depend of course on what you'r...</td>\n",
       "      <td>StackExchange Network: http://travel.stackexch...</td>\n",
       "      <td>StackExchange Network: http://travel.stackexch...</td>\n",
       "      <td>NaN</td>\n",
       "      <td>http://travel.stackexchange.com/questions/4582</td>\n",
       "      <td>http://travel.stackexchange.com/questions/23436</td>\n",
       "    </tr>\n",
       "    <tr>\n",
       "      <th>4</th>\n",
       "      <td>I've had this same problem.</td>\n",
       "      <td>I had the same problem as you.</td>\n",
       "      <td>StackExchange Network: http://diy.stackexchang...</td>\n",
       "      <td>StackExchange Network: http://cooking.stackexc...</td>\n",
       "      <td>NaN</td>\n",
       "      <td>http://diy.stackexchange.com/questions/2138</td>\n",
       "      <td>http://cooking.stackexchange.com/questions/12500</td>\n",
       "    </tr>\n",
       "  </tbody>\n",
       "</table>\n",
       "</div>"
      ],
      "text/plain": [
       "                                       text_string_1  \\\n",
       "0               Tasting it is the only reliable way.   \n",
       "1         I think it probably depends on your money.   \n",
       "2  You need to read a lot to know what you like a...   \n",
       "3  Obviously, the best book for you depends a lot...   \n",
       "4                        I've had this same problem.   \n",
       "\n",
       "                                       text_string_2  \\\n",
       "0                       The way you have it is fine.   \n",
       "1                        It depends on your country.   \n",
       "2                            You don't have to know.   \n",
       "3  The answer will depend of course on what you'r...   \n",
       "4                     I had the same problem as you.   \n",
       "\n",
       "                                          metadata_1  \\\n",
       "0  StackExchange Network: http://cooking.stackexc...   \n",
       "1  StackExchange Network: http://workplace.stacke...   \n",
       "2  StackExchange Network: http://writers.stackexc...   \n",
       "3  StackExchange Network: http://travel.stackexch...   \n",
       "4  StackExchange Network: http://diy.stackexchang...   \n",
       "\n",
       "                                          metadata_2  score  \\\n",
       "0  StackExchange Network: http://writers.stackexc...    NaN   \n",
       "1  StackExchange Network: http://travel.stackexch...    NaN   \n",
       "2  StackExchange Network: http://academia.stackex...    NaN   \n",
       "3  StackExchange Network: http://travel.stackexch...    NaN   \n",
       "4  StackExchange Network: http://cooking.stackexc...    NaN   \n",
       "\n",
       "                                        source_1_url  \\\n",
       "0    http://cooking.stackexchange.com/questions/5611   \n",
       "1  http://workplace.stackexchange.com/questions/1755   \n",
       "2   http://writers.stackexchange.com/questions/12166   \n",
       "3     http://travel.stackexchange.com/questions/4582   \n",
       "4        http://diy.stackexchange.com/questions/2138   \n",
       "\n",
       "                                        source_2_url  \n",
       "0   http://writers.stackexchange.com/questions/11017  \n",
       "1    http://travel.stackexchange.com/questions/45030  \n",
       "2  http://academia.stackexchange.com/questions/26241  \n",
       "3    http://travel.stackexchange.com/questions/23436  \n",
       "4   http://cooking.stackexchange.com/questions/12500  "
      ]
     },
     "execution_count": 6,
     "metadata": {},
     "output_type": "execute_result"
    }
   ],
   "source": [
    "df.info()\n",
    "df.head()"
   ]
  },
  {
   "cell_type": "code",
   "execution_count": 7,
   "id": "676a4b2150fad0ca",
   "metadata": {
    "ExecuteTime": {
     "end_time": "2023-10-30T07:13:16.637981Z",
     "start_time": "2023-10-30T07:13:16.631400Z"
    }
   },
   "outputs": [],
   "source": [
    "def get_topic(text):\n",
    "    topic_match = re.search(r\"http://([\\w.-]+)\\.stackexchange\", text)\n",
    "    if topic_match:\n",
    "        topic = topic_match.group(1)\n",
    "    else:\n",
    "        topic = np.nan\n",
    "        \n",
    "    return topic"
   ]
  },
  {
   "cell_type": "code",
   "execution_count": 8,
   "id": "7ead0765edb5ec22",
   "metadata": {
    "ExecuteTime": {
     "end_time": "2023-10-30T07:13:16.648583Z",
     "start_time": "2023-10-30T07:13:16.639264Z"
    }
   },
   "outputs": [
    {
     "data": {
      "text/html": [
       "<div>\n",
       "<style scoped>\n",
       "    .dataframe tbody tr th:only-of-type {\n",
       "        vertical-align: middle;\n",
       "    }\n",
       "\n",
       "    .dataframe tbody tr th {\n",
       "        vertical-align: top;\n",
       "    }\n",
       "\n",
       "    .dataframe thead th {\n",
       "        text-align: right;\n",
       "    }\n",
       "</style>\n",
       "<table border=\"1\" class=\"dataframe\">\n",
       "  <thead>\n",
       "    <tr style=\"text-align: right;\">\n",
       "      <th></th>\n",
       "      <th>text_string_1</th>\n",
       "      <th>text_string_2</th>\n",
       "      <th>metadata_1</th>\n",
       "      <th>metadata_2</th>\n",
       "      <th>score</th>\n",
       "      <th>source_1_url</th>\n",
       "      <th>source_2_url</th>\n",
       "      <th>topic_1</th>\n",
       "      <th>topic_2</th>\n",
       "    </tr>\n",
       "  </thead>\n",
       "  <tbody>\n",
       "    <tr>\n",
       "      <th>0</th>\n",
       "      <td>Tasting it is the only reliable way.</td>\n",
       "      <td>The way you have it is fine.</td>\n",
       "      <td>StackExchange Network: http://cooking.stackexc...</td>\n",
       "      <td>StackExchange Network: http://writers.stackexc...</td>\n",
       "      <td>NaN</td>\n",
       "      <td>http://cooking.stackexchange.com/questions/5611</td>\n",
       "      <td>http://writers.stackexchange.com/questions/11017</td>\n",
       "      <td>cooking</td>\n",
       "      <td>writers</td>\n",
       "    </tr>\n",
       "    <tr>\n",
       "      <th>1</th>\n",
       "      <td>I think it probably depends on your money.</td>\n",
       "      <td>It depends on your country.</td>\n",
       "      <td>StackExchange Network: http://workplace.stacke...</td>\n",
       "      <td>StackExchange Network: http://travel.stackexch...</td>\n",
       "      <td>NaN</td>\n",
       "      <td>http://workplace.stackexchange.com/questions/1755</td>\n",
       "      <td>http://travel.stackexchange.com/questions/45030</td>\n",
       "      <td>workplace</td>\n",
       "      <td>travel</td>\n",
       "    </tr>\n",
       "    <tr>\n",
       "      <th>2</th>\n",
       "      <td>You need to read a lot to know what you like a...</td>\n",
       "      <td>You don't have to know.</td>\n",
       "      <td>StackExchange Network: http://writers.stackexc...</td>\n",
       "      <td>StackExchange Network: http://academia.stackex...</td>\n",
       "      <td>NaN</td>\n",
       "      <td>http://writers.stackexchange.com/questions/12166</td>\n",
       "      <td>http://academia.stackexchange.com/questions/26241</td>\n",
       "      <td>writers</td>\n",
       "      <td>academia</td>\n",
       "    </tr>\n",
       "    <tr>\n",
       "      <th>3</th>\n",
       "      <td>Obviously, the best book for you depends a lot...</td>\n",
       "      <td>The answer will depend of course on what you'r...</td>\n",
       "      <td>StackExchange Network: http://travel.stackexch...</td>\n",
       "      <td>StackExchange Network: http://travel.stackexch...</td>\n",
       "      <td>NaN</td>\n",
       "      <td>http://travel.stackexchange.com/questions/4582</td>\n",
       "      <td>http://travel.stackexchange.com/questions/23436</td>\n",
       "      <td>travel</td>\n",
       "      <td>travel</td>\n",
       "    </tr>\n",
       "    <tr>\n",
       "      <th>4</th>\n",
       "      <td>I've had this same problem.</td>\n",
       "      <td>I had the same problem as you.</td>\n",
       "      <td>StackExchange Network: http://diy.stackexchang...</td>\n",
       "      <td>StackExchange Network: http://cooking.stackexc...</td>\n",
       "      <td>NaN</td>\n",
       "      <td>http://diy.stackexchange.com/questions/2138</td>\n",
       "      <td>http://cooking.stackexchange.com/questions/12500</td>\n",
       "      <td>diy</td>\n",
       "      <td>cooking</td>\n",
       "    </tr>\n",
       "  </tbody>\n",
       "</table>\n",
       "</div>"
      ],
      "text/plain": [
       "                                       text_string_1  \\\n",
       "0               Tasting it is the only reliable way.   \n",
       "1         I think it probably depends on your money.   \n",
       "2  You need to read a lot to know what you like a...   \n",
       "3  Obviously, the best book for you depends a lot...   \n",
       "4                        I've had this same problem.   \n",
       "\n",
       "                                       text_string_2  \\\n",
       "0                       The way you have it is fine.   \n",
       "1                        It depends on your country.   \n",
       "2                            You don't have to know.   \n",
       "3  The answer will depend of course on what you'r...   \n",
       "4                     I had the same problem as you.   \n",
       "\n",
       "                                          metadata_1  \\\n",
       "0  StackExchange Network: http://cooking.stackexc...   \n",
       "1  StackExchange Network: http://workplace.stacke...   \n",
       "2  StackExchange Network: http://writers.stackexc...   \n",
       "3  StackExchange Network: http://travel.stackexch...   \n",
       "4  StackExchange Network: http://diy.stackexchang...   \n",
       "\n",
       "                                          metadata_2  score  \\\n",
       "0  StackExchange Network: http://writers.stackexc...    NaN   \n",
       "1  StackExchange Network: http://travel.stackexch...    NaN   \n",
       "2  StackExchange Network: http://academia.stackex...    NaN   \n",
       "3  StackExchange Network: http://travel.stackexch...    NaN   \n",
       "4  StackExchange Network: http://cooking.stackexc...    NaN   \n",
       "\n",
       "                                        source_1_url  \\\n",
       "0    http://cooking.stackexchange.com/questions/5611   \n",
       "1  http://workplace.stackexchange.com/questions/1755   \n",
       "2   http://writers.stackexchange.com/questions/12166   \n",
       "3     http://travel.stackexchange.com/questions/4582   \n",
       "4        http://diy.stackexchange.com/questions/2138   \n",
       "\n",
       "                                        source_2_url    topic_1   topic_2  \n",
       "0   http://writers.stackexchange.com/questions/11017    cooking   writers  \n",
       "1    http://travel.stackexchange.com/questions/45030  workplace    travel  \n",
       "2  http://academia.stackexchange.com/questions/26241    writers  academia  \n",
       "3    http://travel.stackexchange.com/questions/23436     travel    travel  \n",
       "4   http://cooking.stackexchange.com/questions/12500        diy   cooking  "
      ]
     },
     "execution_count": 8,
     "metadata": {},
     "output_type": "execute_result"
    }
   ],
   "source": [
    "df['topic_1'] = df['source_1_url'].apply(get_topic)\n",
    "df['topic_2'] = df['source_2_url'].apply(get_topic)\n",
    "df.head()"
   ]
  },
  {
   "cell_type": "markdown",
   "id": "fd32d6fdd7b21f9d",
   "metadata": {},
   "source": []
  },
  {
   "cell_type": "markdown",
   "id": "7e877e047329693f",
   "metadata": {},
   "source": [
    "# 2 Describe Dataset and explain features (TODO)\n",
    "\n",
    "* was stellen die Scores dar ? (TODO)"
   ]
  },
  {
   "cell_type": "markdown",
   "id": "32ef446c6a97f7b7",
   "metadata": {},
   "source": [
    "# 3 Statistics and Viz (Done)\n",
    "\n",
    "### Univariate Analysis\n",
    "* Text Length (Done)\n",
    "* Source Distribution (Done)\n",
    "* Score Distribution (Done)\n",
    "* (Sätze sind nicht einzigartig, d.h. Sätze können mehrmals vorkommen) (Done)\n",
    "\n",
    "### Bivariate Analysis\n",
    "\n",
    "* Text Length vs Score (Done)"
   ]
  },
  {
   "cell_type": "code",
   "execution_count": 26,
   "id": "d2f2359b4c278c0b",
   "metadata": {
    "ExecuteTime": {
     "end_time": "2023-10-30T07:17:48.643467Z",
     "start_time": "2023-10-30T07:17:48.447602Z"
    }
   },
   "outputs": [
    {
     "data": {
      "image/png": "[encoded data removed]",
      "text/plain": [
       "<Figure size 1500x500 with 1 Axes>"
      ]
     },
     "metadata": {},
     "output_type": "display_data"
    }
   ],
   "source": [
    "# Verteilung der Themen in Text 1 and Text 2\n",
    "df_topics = pd.melt(df, value_vars=['topic_1', 'topic_2'], var_name='Topics', value_name='Category')\n",
    "ax = plt.figure(figsize=(15, 5))\n",
    "sns.countplot(data=df_topics, x='Category', hue='Topics')\n",
    "plt.xticks(rotation=45, size=12)\n",
    "plt.legend(labels=['1. Text', '2. Text'])\n",
    "plt.title('Verteilung der Themen in Text 1 und Text 2', size=15)\n",
    "plt.xlabel('Thema', size=12)\n",
    "plt.ylabel('Anzahl', size=12)\n",
    "plt.show()\n",
    "\n",
    "# Anmerkungen für das PDF\n",
    "# hierbei ist anzumerken, dass die Themen nicht immer gleich sind, d.h es gibt auch Textpaare, die nicht das gleiche Thema haben aber es ist trozdem interessant zu sehen, welche Themen am häufigsten vorkommen"
   ]
  },
  {
   "cell_type": "code",
   "execution_count": 10,
   "id": "a2e18723c71426d7",
   "metadata": {
    "ExecuteTime": {
     "end_time": "2023-10-30T07:13:17.102855Z",
     "start_time": "2023-10-30T07:13:17.024246Z"
    }
   },
   "outputs": [
    {
     "data": {
      "image/png": "[encoded data removed]",
      "text/plain": [
       "<Figure size 640x480 with 1 Axes>"
      ]
     },
     "metadata": {},
     "output_type": "display_data"
    },
    {
     "name": "stdout",
     "output_type": "stream",
     "text": [
      "Anzahl Textpaare: 1571\n",
      "Anzahl fehlender Scores: 1317\n",
      "Anzahl Scores: 254\n",
      "Anteil fehlender Scores: 83.83%\n",
      "Anteil Scores: 16.17%\n"
     ]
    }
   ],
   "source": [
    "# Verteilung der Scores (Anzahl)\n",
    "sns.countplot(data=df, x='score')\n",
    "plt.xticks(size=14)\n",
    "plt.title('Verteilung der Scores', size=15)\n",
    "plt.xlabel('Score', size=12)\n",
    "plt.ylabel('Anzahl', size=12)\n",
    "plt.show()\n",
    "\n",
    "# Anmerkungen für das PDF\n",
    "missing_scores = df['score'].isna().sum()\n",
    "print(f'Anzahl Textpaare: {len(df)}')\n",
    "print(f'Anzahl fehlender Scores: {missing_scores}')\n",
    "print(f'Anzahl Scores: {len(df) - missing_scores}')\n",
    "print(f'Anteil fehlender Scores: {missing_scores / len(df) * 100:.2f}%')\n",
    "print(f'Anteil Scores: {(len(df) - missing_scores) / len(df) * 100:.2f}%')"
   ]
  },
  {
   "cell_type": "code",
   "execution_count": 11,
   "id": "24b136aff977882c",
   "metadata": {
    "ExecuteTime": {
     "end_time": "2023-10-30T07:13:17.232851Z",
     "start_time": "2023-10-30T07:13:17.108478Z"
    }
   },
   "outputs": [
    {
     "data": {
      "image/png": "[encoded data removed]",
      "text/plain": [
       "<Figure size 640x480 with 1 Axes>"
      ]
     },
     "metadata": {},
     "output_type": "display_data"
    },
    {
     "name": "stdout",
     "output_type": "stream",
     "text": [
      "Durchschnittliche Textlänge Text 1: 45.39\n",
      "Durchschnittliche Textlänge Text 2: 45.60\n",
      "Median Textlänge Text 1: 42.00\n",
      "Median Textlänge Text 2: 41.00\n"
     ]
    }
   ],
   "source": [
    "# Text Längen\n",
    "df['text_1_length'] = df['text_string_1'].str.len()\n",
    "df['text_2_length'] = df['text_string_2'].str.len()\n",
    "sns.histplot(data=df, x='text_1_length', bins=25, alpha=0.5, label='Text 1')\n",
    "sns.histplot(data=df, x='text_2_length', bins=25, alpha=0.5, label='Text 2')\n",
    "plt.title('Verteilung der Text Länge (Anzahl der Zeichen)', size=15)\n",
    "plt.xlabel('Länge', size=12)\n",
    "plt.ylabel('Anzahl', size=12)\n",
    "plt.legend()\n",
    "plt.show()\n",
    "\n",
    "# Anmerkungen für das PDF\n",
    "print(f'Durchschnittliche Textlänge Text 1: {df[\"text_1_length\"].mean():.2f}')\n",
    "print(f'Durchschnittliche Textlänge Text 2: {df[\"text_2_length\"].mean():.2f}')\n",
    "print(f'Median Textlänge Text 1: {df[\"text_1_length\"].median():.2f}')\n",
    "print(f'Median Textlänge Text 2: {df[\"text_2_length\"].median():.2f}')"
   ]
  },
  {
   "cell_type": "code",
   "execution_count": 12,
   "id": "e81b32d77efe7fe9",
   "metadata": {
    "ExecuteTime": {
     "end_time": "2023-10-30T07:13:17.329976Z",
     "start_time": "2023-10-30T07:13:17.233920Z"
    }
   },
   "outputs": [
    {
     "data": {
      "image/png": "[encoded data removed]",
      "text/plain": [
       "<Figure size 640x480 with 1 Axes>"
      ]
     },
     "metadata": {},
     "output_type": "display_data"
    },
    {
     "name": "stdout",
     "output_type": "stream",
     "text": [
      "Korrelation zwischen Text Länge und Score: -0.31\n"
     ]
    }
   ],
   "source": [
    "# Text Längen vs Score\n",
    "df_no_nan_scores = df.dropna(subset=['score'])\n",
    "df_no_nan_scores = df_no_nan_scores.copy()\n",
    "df_no_nan_scores['combined_text_length'] = df_no_nan_scores['text_1_length'] + df_no_nan_scores['text_2_length']\n",
    "sns.boxplot(data=df_no_nan_scores, x='score', y='combined_text_length')\n",
    "plt.title('Text Länge vs Score (Kombiniert)', size=15)\n",
    "plt.xlabel('Score', size=12)\n",
    "plt.ylabel('Text Länge', size=12)\n",
    "plt.show()\n",
    "print(f'Korrelation zwischen Text Länge und Score: {df_no_nan_scores[\"combined_text_length\"].corr(df_no_nan_scores[\"score\"]):.2f}')"
   ]
  },
  {
   "cell_type": "code",
   "execution_count": 13,
   "id": "4d9f6baa6f30b55",
   "metadata": {
    "ExecuteTime": {
     "end_time": "2023-10-30T07:13:17.334821Z",
     "start_time": "2023-10-30T07:13:17.331851Z"
    }
   },
   "outputs": [
    {
     "data": {
      "text/html": [
       "<div>\n",
       "<style scoped>\n",
       "    .dataframe tbody tr th:only-of-type {\n",
       "        vertical-align: middle;\n",
       "    }\n",
       "\n",
       "    .dataframe tbody tr th {\n",
       "        vertical-align: top;\n",
       "    }\n",
       "\n",
       "    .dataframe thead th {\n",
       "        text-align: right;\n",
       "    }\n",
       "</style>\n",
       "<table border=\"1\" class=\"dataframe\">\n",
       "  <thead>\n",
       "    <tr style=\"text-align: right;\">\n",
       "      <th></th>\n",
       "      <th>text_string_1</th>\n",
       "      <th>text_string_2</th>\n",
       "      <th>metadata_1</th>\n",
       "      <th>metadata_2</th>\n",
       "      <th>score</th>\n",
       "      <th>source_1_url</th>\n",
       "      <th>source_2_url</th>\n",
       "      <th>topic_1</th>\n",
       "      <th>topic_2</th>\n",
       "      <th>text_1_length</th>\n",
       "      <th>text_2_length</th>\n",
       "    </tr>\n",
       "  </thead>\n",
       "  <tbody>\n",
       "    <tr>\n",
       "      <th>0</th>\n",
       "      <td>Tasting it is the only reliable way.</td>\n",
       "      <td>The way you have it is fine.</td>\n",
       "      <td>StackExchange Network: http://cooking.stackexc...</td>\n",
       "      <td>StackExchange Network: http://writers.stackexc...</td>\n",
       "      <td>NaN</td>\n",
       "      <td>http://cooking.stackexchange.com/questions/5611</td>\n",
       "      <td>http://writers.stackexchange.com/questions/11017</td>\n",
       "      <td>cooking</td>\n",
       "      <td>writers</td>\n",
       "      <td>36</td>\n",
       "      <td>28</td>\n",
       "    </tr>\n",
       "    <tr>\n",
       "      <th>1</th>\n",
       "      <td>I think it probably depends on your money.</td>\n",
       "      <td>It depends on your country.</td>\n",
       "      <td>StackExchange Network: http://workplace.stacke...</td>\n",
       "      <td>StackExchange Network: http://travel.stackexch...</td>\n",
       "      <td>NaN</td>\n",
       "      <td>http://workplace.stackexchange.com/questions/1755</td>\n",
       "      <td>http://travel.stackexchange.com/questions/45030</td>\n",
       "      <td>workplace</td>\n",
       "      <td>travel</td>\n",
       "      <td>42</td>\n",
       "      <td>27</td>\n",
       "    </tr>\n",
       "    <tr>\n",
       "      <th>2</th>\n",
       "      <td>You need to read a lot to know what you like a...</td>\n",
       "      <td>You don't have to know.</td>\n",
       "      <td>StackExchange Network: http://writers.stackexc...</td>\n",
       "      <td>StackExchange Network: http://academia.stackex...</td>\n",
       "      <td>NaN</td>\n",
       "      <td>http://writers.stackexchange.com/questions/12166</td>\n",
       "      <td>http://academia.stackexchange.com/questions/26241</td>\n",
       "      <td>writers</td>\n",
       "      <td>academia</td>\n",
       "      <td>64</td>\n",
       "      <td>23</td>\n",
       "    </tr>\n",
       "    <tr>\n",
       "      <th>3</th>\n",
       "      <td>Obviously, the best book for you depends a lot...</td>\n",
       "      <td>The answer will depend of course on what you'r...</td>\n",
       "      <td>StackExchange Network: http://travel.stackexch...</td>\n",
       "      <td>StackExchange Network: http://travel.stackexch...</td>\n",
       "      <td>NaN</td>\n",
       "      <td>http://travel.stackexchange.com/questions/4582</td>\n",
       "      <td>http://travel.stackexchange.com/questions/23436</td>\n",
       "      <td>travel</td>\n",
       "      <td>travel</td>\n",
       "      <td>75</td>\n",
       "      <td>74</td>\n",
       "    </tr>\n",
       "    <tr>\n",
       "      <th>4</th>\n",
       "      <td>I've had this same problem.</td>\n",
       "      <td>I had the same problem as you.</td>\n",
       "      <td>StackExchange Network: http://diy.stackexchang...</td>\n",
       "      <td>StackExchange Network: http://cooking.stackexc...</td>\n",
       "      <td>NaN</td>\n",
       "      <td>http://diy.stackexchange.com/questions/2138</td>\n",
       "      <td>http://cooking.stackexchange.com/questions/12500</td>\n",
       "      <td>diy</td>\n",
       "      <td>cooking</td>\n",
       "      <td>27</td>\n",
       "      <td>30</td>\n",
       "    </tr>\n",
       "    <tr>\n",
       "      <th>...</th>\n",
       "      <td>...</td>\n",
       "      <td>...</td>\n",
       "      <td>...</td>\n",
       "      <td>...</td>\n",
       "      <td>...</td>\n",
       "      <td>...</td>\n",
       "      <td>...</td>\n",
       "      <td>...</td>\n",
       "      <td>...</td>\n",
       "      <td>...</td>\n",
       "      <td>...</td>\n",
       "    </tr>\n",
       "    <tr>\n",
       "      <th>1566</th>\n",
       "      <td>You are on the right path.</td>\n",
       "      <td>You are right about the overtaking rules.</td>\n",
       "      <td>StackExchange Network: http://money.stackexcha...</td>\n",
       "      <td>StackExchange Network: http://travel.stackexch...</td>\n",
       "      <td>NaN</td>\n",
       "      <td>http://money.stackexchange.com/questions/22386</td>\n",
       "      <td>http://travel.stackexchange.com/questions/13783</td>\n",
       "      <td>money</td>\n",
       "      <td>travel</td>\n",
       "      <td>26</td>\n",
       "      <td>41</td>\n",
       "    </tr>\n",
       "    <tr>\n",
       "      <th>1567</th>\n",
       "      <td>This is a terrible idea.</td>\n",
       "      <td>This is a bad idea.</td>\n",
       "      <td>StackExchange Network: http://fitness.stackexc...</td>\n",
       "      <td>StackExchange Network: http://cooking.stackexc...</td>\n",
       "      <td>5.0</td>\n",
       "      <td>http://fitness.stackexchange.com/questions/23636</td>\n",
       "      <td>http://cooking.stackexchange.com/questions/42032</td>\n",
       "      <td>fitness</td>\n",
       "      <td>cooking</td>\n",
       "      <td>24</td>\n",
       "      <td>19</td>\n",
       "    </tr>\n",
       "    <tr>\n",
       "      <th>1568</th>\n",
       "      <td>I have the same thing.</td>\n",
       "      <td>I have had the same issue last couple of years.</td>\n",
       "      <td>StackExchange Network: http://diy.stackexchang...</td>\n",
       "      <td>StackExchange Network: http://pets.stackexchan...</td>\n",
       "      <td>NaN</td>\n",
       "      <td>http://diy.stackexchange.com/questions/19977</td>\n",
       "      <td>http://pets.stackexchange.com/questions/208</td>\n",
       "      <td>diy</td>\n",
       "      <td>pets</td>\n",
       "      <td>22</td>\n",
       "      <td>47</td>\n",
       "    </tr>\n",
       "    <tr>\n",
       "      <th>1569</th>\n",
       "      <td>I don't think it makes any tremendous difference.</td>\n",
       "      <td>I don't think that there's any.</td>\n",
       "      <td>StackExchange Network: http://cooking.stackexc...</td>\n",
       "      <td>StackExchange Network: http://academia.stackex...</td>\n",
       "      <td>NaN</td>\n",
       "      <td>http://cooking.stackexchange.com/questions/9442</td>\n",
       "      <td>http://academia.stackexchange.com/questions/27341</td>\n",
       "      <td>cooking</td>\n",
       "      <td>academia</td>\n",
       "      <td>49</td>\n",
       "      <td>31</td>\n",
       "    </tr>\n",
       "    <tr>\n",
       "      <th>1570</th>\n",
       "      <td>If you haven't, you should.</td>\n",
       "      <td>If, as you have indicated, you don't want to p...</td>\n",
       "      <td>StackExchange Network: http://workplace.stacke...</td>\n",
       "      <td>StackExchange Network: http://travel.stackexch...</td>\n",
       "      <td>NaN</td>\n",
       "      <td>http://workplace.stackexchange.com/questions/4...</td>\n",
       "      <td>http://travel.stackexchange.com/questions/3377</td>\n",
       "      <td>workplace</td>\n",
       "      <td>travel</td>\n",
       "      <td>27</td>\n",
       "      <td>50</td>\n",
       "    </tr>\n",
       "  </tbody>\n",
       "</table>\n",
       "<p>1571 rows × 11 columns</p>\n",
       "</div>"
      ],
      "text/plain": [
       "                                          text_string_1  \\\n",
       "0                  Tasting it is the only reliable way.   \n",
       "1            I think it probably depends on your money.   \n",
       "2     You need to read a lot to know what you like a...   \n",
       "3     Obviously, the best book for you depends a lot...   \n",
       "4                           I've had this same problem.   \n",
       "...                                                 ...   \n",
       "1566                         You are on the right path.   \n",
       "1567                           This is a terrible idea.   \n",
       "1568                             I have the same thing.   \n",
       "1569  I don't think it makes any tremendous difference.   \n",
       "1570                        If you haven't, you should.   \n",
       "\n",
       "                                          text_string_2  \\\n",
       "0                          The way you have it is fine.   \n",
       "1                           It depends on your country.   \n",
       "2                               You don't have to know.   \n",
       "3     The answer will depend of course on what you'r...   \n",
       "4                        I had the same problem as you.   \n",
       "...                                                 ...   \n",
       "1566          You are right about the overtaking rules.   \n",
       "1567                                This is a bad idea.   \n",
       "1568    I have had the same issue last couple of years.   \n",
       "1569                    I don't think that there's any.   \n",
       "1570  If, as you have indicated, you don't want to p...   \n",
       "\n",
       "                                             metadata_1  \\\n",
       "0     StackExchange Network: http://cooking.stackexc...   \n",
       "1     StackExchange Network: http://workplace.stacke...   \n",
       "2     StackExchange Network: http://writers.stackexc...   \n",
       "3     StackExchange Network: http://travel.stackexch...   \n",
       "4     StackExchange Network: http://diy.stackexchang...   \n",
       "...                                                 ...   \n",
       "1566  StackExchange Network: http://money.stackexcha...   \n",
       "1567  StackExchange Network: http://fitness.stackexc...   \n",
       "1568  StackExchange Network: http://diy.stackexchang...   \n",
       "1569  StackExchange Network: http://cooking.stackexc...   \n",
       "1570  StackExchange Network: http://workplace.stacke...   \n",
       "\n",
       "                                             metadata_2  score  \\\n",
       "0     StackExchange Network: http://writers.stackexc...    NaN   \n",
       "1     StackExchange Network: http://travel.stackexch...    NaN   \n",
       "2     StackExchange Network: http://academia.stackex...    NaN   \n",
       "3     StackExchange Network: http://travel.stackexch...    NaN   \n",
       "4     StackExchange Network: http://cooking.stackexc...    NaN   \n",
       "...                                                 ...    ...   \n",
       "1566  StackExchange Network: http://travel.stackexch...    NaN   \n",
       "1567  StackExchange Network: http://cooking.stackexc...    5.0   \n",
       "1568  StackExchange Network: http://pets.stackexchan...    NaN   \n",
       "1569  StackExchange Network: http://academia.stackex...    NaN   \n",
       "1570  StackExchange Network: http://travel.stackexch...    NaN   \n",
       "\n",
       "                                           source_1_url  \\\n",
       "0       http://cooking.stackexchange.com/questions/5611   \n",
       "1     http://workplace.stackexchange.com/questions/1755   \n",
       "2      http://writers.stackexchange.com/questions/12166   \n",
       "3        http://travel.stackexchange.com/questions/4582   \n",
       "4           http://diy.stackexchange.com/questions/2138   \n",
       "...                                                 ...   \n",
       "1566     http://money.stackexchange.com/questions/22386   \n",
       "1567   http://fitness.stackexchange.com/questions/23636   \n",
       "1568       http://diy.stackexchange.com/questions/19977   \n",
       "1569    http://cooking.stackexchange.com/questions/9442   \n",
       "1570  http://workplace.stackexchange.com/questions/4...   \n",
       "\n",
       "                                           source_2_url    topic_1   topic_2  \\\n",
       "0      http://writers.stackexchange.com/questions/11017    cooking   writers   \n",
       "1       http://travel.stackexchange.com/questions/45030  workplace    travel   \n",
       "2     http://academia.stackexchange.com/questions/26241    writers  academia   \n",
       "3       http://travel.stackexchange.com/questions/23436     travel    travel   \n",
       "4      http://cooking.stackexchange.com/questions/12500        diy   cooking   \n",
       "...                                                 ...        ...       ...   \n",
       "1566    http://travel.stackexchange.com/questions/13783      money    travel   \n",
       "1567   http://cooking.stackexchange.com/questions/42032    fitness   cooking   \n",
       "1568        http://pets.stackexchange.com/questions/208        diy      pets   \n",
       "1569  http://academia.stackexchange.com/questions/27341    cooking  academia   \n",
       "1570     http://travel.stackexchange.com/questions/3377  workplace    travel   \n",
       "\n",
       "      text_1_length  text_2_length  \n",
       "0                36             28  \n",
       "1                42             27  \n",
       "2                64             23  \n",
       "3                75             74  \n",
       "4                27             30  \n",
       "...             ...            ...  \n",
       "1566             26             41  \n",
       "1567             24             19  \n",
       "1568             22             47  \n",
       "1569             49             31  \n",
       "1570             27             50  \n",
       "\n",
       "[1571 rows x 11 columns]"
      ]
     },
     "execution_count": 13,
     "metadata": {},
     "output_type": "execute_result"
    }
   ],
   "source": [
    "df"
   ]
  },
  {
   "cell_type": "code",
   "execution_count": 14,
   "id": "5bce612cd94d21b3",
   "metadata": {
    "ExecuteTime": {
     "end_time": "2023-10-30T07:13:17.342674Z",
     "start_time": "2023-10-30T07:13:17.336243Z"
    }
   },
   "outputs": [
    {
     "name": "stdout",
     "output_type": "stream",
     "text": [
      "Anzahl der Sätze: 3142\n",
      "Anzahl der einzigartigen Sätze: 1607\n",
      "Anzahl der doppelten Sätze: 1535\n",
      "\n",
      "sentence\n",
      "You need to read a lot to know what you like and what you don't.        39\n",
      "It depends on what you want to do next, and where you want to do it.    38\n",
      "You don't have to know.                                                 37\n",
      "Name: count, dtype: int64\n"
     ]
    }
   ],
   "source": [
    "# create a new df with all sentences\n",
    "df_sentences = pd.DataFrame(columns=['sentence'])\n",
    "df_sentences['sentence'] = pd.concat([df['text_string_1'], df['text_string_2']]).reset_index(drop=True)\n",
    "df_sentences['sentence'].value_counts()\n",
    "\n",
    "# Anmerkungen für das PDF\n",
    "print(f'Anzahl der Sätze: {len(df_sentences)}')\n",
    "print(f'Anzahl der einzigartigen Sätze: {len(df_sentences[\"sentence\"].unique())}')\n",
    "print(f'Anzahl der doppelten Sätze: {len(df_sentences) - len(df_sentences[\"sentence\"].unique())}')\n",
    "print()\n",
    "# Die drei meist vorkommenden Sätze\n",
    "print(df_sentences['sentence'].value_counts()[:3])"
   ]
  },
  {
   "cell_type": "markdown",
   "id": "61a96acda47f9128",
   "metadata": {},
   "source": [
    "# Betrachten der anderen Datenstätze"
   ]
  },
  {
   "cell_type": "markdown",
   "id": "823b04fc49369028",
   "metadata": {},
   "source": [
    "Es gibt 4 weitere Datenstätze, die wir uns anschauen können. Diese sind:\n",
    "\n",
    "* sts2016-english-with-gs-v1.0/STS2016.input.headlines.txt\n",
    "* sts2016-english-with-gs-v1.0/STS2016.input.plagiarism.txt\n",
    "* sts2016-english-with-gs-v1.0/STS2016.input.postediting.txt\n",
    "* sts2016-english-with-gs-v1.0/STS2016.input.question-question.txt\n",
    "\n",
    "die jeweiligen gs Dateien sind:\n",
    "\n",
    "* sts2016-english-with-gs-v1.0/STS2016.gs.headlines.txt\n",
    "* sts2016-english-with-gs-v1.0/STS2016.gs.plagiarism.txt\n",
    "* sts2016-english-with-gs-v1.0/STS2016.gs.postediting.txt\n",
    "* sts2016-english-with-gs-v1.0/STS2016.gs.question-question.txt"
   ]
  },
  {
   "cell_type": "markdown",
   "id": "a3dd80c3e71911bc",
   "metadata": {},
   "source": [
    "## plagiarism"
   ]
  },
  {
   "cell_type": "code",
   "execution_count": 15,
   "id": "ea940c0902d02115",
   "metadata": {
    "ExecuteTime": {
     "end_time": "2023-10-30T07:13:17.378859Z",
     "start_time": "2023-10-30T07:13:17.341938Z"
    }
   },
   "outputs": [
    {
     "name": "stdout",
     "output_type": "stream",
     "text": [
      "<class 'pandas.core.frame.DataFrame'>\n",
      "RangeIndex: 1271 entries, 0 to 1270\n",
      "Data columns (total 1 columns):\n",
      " #   Column  Non-Null Count  Dtype \n",
      "---  ------  --------------  ----- \n",
      " 0   score   230 non-null    object\n",
      "dtypes: object(1)\n",
      "memory usage: 10.1+ KB\n",
      "<class 'pandas.core.frame.DataFrame'>\n",
      "RangeIndex: 1271 entries, 0 to 1270\n",
      "Data columns (total 4 columns):\n",
      " #   Column         Non-Null Count  Dtype \n",
      "---  ------         --------------  ----- \n",
      " 0   Text String 1  1271 non-null   object\n",
      " 1   Text String 2  1271 non-null   object\n",
      " 2   Metadata 1     1271 non-null   object\n",
      " 3   Metadata 2     1271 non-null   object\n",
      "dtypes: object(4)\n",
      "memory usage: 39.8+ KB\n"
     ]
    }
   ],
   "source": [
    "# load text data\n",
    "column_names = ['Text String 1', 'Text String 2', 'Metadata 1', 'Metadata 2']\n",
    "df_plagiarism = pd.read_csv('sts2016-english-with-gs-v1.0/STS2016.input.plagiarism.txt', sep='\\t', header=None, names=column_names)\n",
    "# load gs data\n",
    "data = []\n",
    "with open('sts2016-english-with-gs-v1.0/STS2016.gs.plagiarism.txt', 'r') as file:\n",
    "    for line in file:\n",
    "        # If the line is empty or just contains a newline character, add NaN\n",
    "        if line.strip() == '':\n",
    "            data.append([np.nan])\n",
    "        else:\n",
    "            # Otherwise, add the value to the data list\n",
    "            data.append([line.strip()])\n",
    "\n",
    "gs_plagiarism = pd.DataFrame(data, columns=['score'])\n",
    "\n",
    "gs_plagiarism.info()\n",
    "df_plagiarism.info()"
   ]
  },
  {
   "cell_type": "code",
   "execution_count": 16,
   "id": "1497bffd479b58de",
   "metadata": {
    "ExecuteTime": {
     "end_time": "2023-10-30T07:13:17.384843Z",
     "start_time": "2023-10-30T07:13:17.351768Z"
    }
   },
   "outputs": [
    {
     "data": {
      "text/html": [
       "<div>\n",
       "<style scoped>\n",
       "    .dataframe tbody tr th:only-of-type {\n",
       "        vertical-align: middle;\n",
       "    }\n",
       "\n",
       "    .dataframe tbody tr th {\n",
       "        vertical-align: top;\n",
       "    }\n",
       "\n",
       "    .dataframe thead th {\n",
       "        text-align: right;\n",
       "    }\n",
       "</style>\n",
       "<table border=\"1\" class=\"dataframe\">\n",
       "  <thead>\n",
       "    <tr style=\"text-align: right;\">\n",
       "      <th></th>\n",
       "      <th>Text String 1</th>\n",
       "      <th>Text String 2</th>\n",
       "      <th>Metadata 1</th>\n",
       "      <th>Metadata 2</th>\n",
       "      <th>score</th>\n",
       "    </tr>\n",
       "  </thead>\n",
       "  <tbody>\n",
       "    <tr>\n",
       "      <th>0</th>\n",
       "      <td>The vector space model has some limitations: 1.</td>\n",
       "      <td>The vector space model are the documents which...</td>\n",
       "      <td>A Corpus of Plagiarised Short Answers - http:/...</td>\n",
       "      <td>A Corpus of Plagiarised Short Answers - http:/...</td>\n",
       "      <td>NaN</td>\n",
       "    </tr>\n",
       "    <tr>\n",
       "      <th>1</th>\n",
       "      <td>Secondly to define the value of the optimal so...</td>\n",
       "      <td>Define value of optimal solution recursively.</td>\n",
       "      <td>A Corpus of Plagiarised Short Answers - http:/...</td>\n",
       "      <td>A Corpus of Plagiarised Short Answers - http:/...</td>\n",
       "      <td>NaN</td>\n",
       "    </tr>\n",
       "    <tr>\n",
       "      <th>2</th>\n",
       "      <td>Vector space representation results in the los...</td>\n",
       "      <td>If a term occurs in the document, the value wi...</td>\n",
       "      <td>A Corpus of Plagiarised Short Answers - http:/...</td>\n",
       "      <td>A Corpus of Plagiarised Short Answers - http:/...</td>\n",
       "      <td>1</td>\n",
       "    </tr>\n",
       "    <tr>\n",
       "      <th>3</th>\n",
       "      <td>P(B) is the prior or marginal probability of B...</td>\n",
       "      <td>P(A), or the probability that the student is a...</td>\n",
       "      <td>A Corpus of Plagiarised Short Answers - http:/...</td>\n",
       "      <td>A Corpus of Plagiarised Short Answers - http:/...</td>\n",
       "      <td>NaN</td>\n",
       "    </tr>\n",
       "    <tr>\n",
       "      <th>4</th>\n",
       "      <td>It is \"prior\" in the sense that it does not ta...</td>\n",
       "      <td>It is \"previous\" in the sense that it does not...</td>\n",
       "      <td>A Corpus of Plagiarised Short Answers - http:/...</td>\n",
       "      <td>A Corpus of Plagiarised Short Answers - http:/...</td>\n",
       "      <td>NaN</td>\n",
       "    </tr>\n",
       "  </tbody>\n",
       "</table>\n",
       "</div>"
      ],
      "text/plain": [
       "                                       Text String 1  \\\n",
       "0    The vector space model has some limitations: 1.   \n",
       "1  Secondly to define the value of the optimal so...   \n",
       "2  Vector space representation results in the los...   \n",
       "3  P(B) is the prior or marginal probability of B...   \n",
       "4  It is \"prior\" in the sense that it does not ta...   \n",
       "\n",
       "                                       Text String 2  \\\n",
       "0  The vector space model are the documents which...   \n",
       "1      Define value of optimal solution recursively.   \n",
       "2  If a term occurs in the document, the value wi...   \n",
       "3  P(A), or the probability that the student is a...   \n",
       "4  It is \"previous\" in the sense that it does not...   \n",
       "\n",
       "                                          Metadata 1  \\\n",
       "0  A Corpus of Plagiarised Short Answers - http:/...   \n",
       "1  A Corpus of Plagiarised Short Answers - http:/...   \n",
       "2  A Corpus of Plagiarised Short Answers - http:/...   \n",
       "3  A Corpus of Plagiarised Short Answers - http:/...   \n",
       "4  A Corpus of Plagiarised Short Answers - http:/...   \n",
       "\n",
       "                                          Metadata 2 score  \n",
       "0  A Corpus of Plagiarised Short Answers - http:/...   NaN  \n",
       "1  A Corpus of Plagiarised Short Answers - http:/...   NaN  \n",
       "2  A Corpus of Plagiarised Short Answers - http:/...     1  \n",
       "3  A Corpus of Plagiarised Short Answers - http:/...   NaN  \n",
       "4  A Corpus of Plagiarised Short Answers - http:/...   NaN  "
      ]
     },
     "execution_count": 16,
     "metadata": {},
     "output_type": "execute_result"
    }
   ],
   "source": [
    "df_plagiarism = pd.concat([df_plagiarism, gs_plagiarism], axis=1)   \n",
    "df_plagiarism.head()"
   ]
  },
  {
   "cell_type": "code",
   "execution_count": 17,
   "id": "24c8424aaccf7431",
   "metadata": {
    "ExecuteTime": {
     "end_time": "2023-10-30T07:13:17.385725Z",
     "start_time": "2023-10-30T07:13:17.356735Z"
    }
   },
   "outputs": [
    {
     "name": "stdout",
     "output_type": "stream",
     "text": [
      "Anzahl Textpaare: 1271\n",
      "Anzahl fehlender Scores: 1041\n",
      "Anzahl Scores: 230\n"
     ]
    }
   ],
   "source": [
    "print(f'Anzahl Textpaare: {len(df_plagiarism)}')\n",
    "print(f'Anzahl fehlender Scores: {df_plagiarism[\"score\"].isna().sum()}')\n",
    "print(f'Anzahl Scores: {len(df_plagiarism) - df_plagiarism[\"score\"].isna().sum()}')"
   ]
  },
  {
   "cell_type": "markdown",
   "id": "82d3ab201cfef400",
   "metadata": {},
   "source": [
    "## headlines"
   ]
  },
  {
   "cell_type": "code",
   "execution_count": 18,
   "id": "2e800ea64b358198",
   "metadata": {
    "ExecuteTime": {
     "end_time": "2023-10-30T07:13:17.415460Z",
     "start_time": "2023-10-30T07:13:17.360954Z"
    }
   },
   "outputs": [
    {
     "name": "stdout",
     "output_type": "stream",
     "text": [
      "<class 'pandas.core.frame.DataFrame'>\n",
      "RangeIndex: 1498 entries, 0 to 1497\n",
      "Data columns (total 4 columns):\n",
      " #   Column         Non-Null Count  Dtype \n",
      "---  ------         --------------  ----- \n",
      " 0   Text String 1  1498 non-null   object\n",
      " 1   Text String 2  1498 non-null   object\n",
      " 2   Metadata 1     1498 non-null   object\n",
      " 3   Metadata 2     1498 non-null   object\n",
      "dtypes: object(4)\n",
      "memory usage: 46.9+ KB\n",
      "<class 'pandas.core.frame.DataFrame'>\n",
      "RangeIndex: 1498 entries, 0 to 1497\n",
      "Data columns (total 1 columns):\n",
      " #   Column  Non-Null Count  Dtype \n",
      "---  ------  --------------  ----- \n",
      " 0   score   249 non-null    object\n",
      "dtypes: object(1)\n",
      "memory usage: 11.8+ KB\n"
     ]
    }
   ],
   "source": [
    "df_headlines = pd.read_csv('sts2016-english-with-gs-v1.0/STS2016.input.headlines.txt', sep='\\t', header=None, names=column_names)\n",
    "data = []\n",
    "with open('sts2016-english-with-gs-v1.0/STS2016.gs.headlines.txt', 'r') as file:\n",
    "    for line in file:\n",
    "        # If the line is empty or just contains a newline character, add NaN\n",
    "        if line.strip() == '':\n",
    "            data.append([np.nan])\n",
    "        else:\n",
    "            # Otherwise, add the value to the data list\n",
    "            data.append([line.strip()])\n",
    "            \n",
    "gs_headlines = pd.DataFrame(data, columns=['score'])\n",
    "\n",
    "df_headlines.info()\n",
    "gs_headlines.info()"
   ]
  },
  {
   "cell_type": "code",
   "execution_count": 19,
   "id": "c6c698d6acfbb8f1",
   "metadata": {
    "ExecuteTime": {
     "end_time": "2023-10-30T07:13:17.416066Z",
     "start_time": "2023-10-30T07:13:17.372480Z"
    }
   },
   "outputs": [
    {
     "data": {
      "text/html": [
       "<div>\n",
       "<style scoped>\n",
       "    .dataframe tbody tr th:only-of-type {\n",
       "        vertical-align: middle;\n",
       "    }\n",
       "\n",
       "    .dataframe tbody tr th {\n",
       "        vertical-align: top;\n",
       "    }\n",
       "\n",
       "    .dataframe thead th {\n",
       "        text-align: right;\n",
       "    }\n",
       "</style>\n",
       "<table border=\"1\" class=\"dataframe\">\n",
       "  <thead>\n",
       "    <tr style=\"text-align: right;\">\n",
       "      <th></th>\n",
       "      <th>Text String 1</th>\n",
       "      <th>Text String 2</th>\n",
       "      <th>Metadata 1</th>\n",
       "      <th>Metadata 2</th>\n",
       "      <th>score</th>\n",
       "    </tr>\n",
       "  </thead>\n",
       "  <tbody>\n",
       "    <tr>\n",
       "      <th>0</th>\n",
       "      <td>Digital era threatens tenuous future of drive-ins</td>\n",
       "      <td>Digital Era Threatens Future of Drive-Ins</td>\n",
       "      <td>Europe Media Monitor (http://emm.newsbrief.eu)</td>\n",
       "      <td>Europe Media Monitor (http://emm.newsbrief.eu)</td>\n",
       "      <td>NaN</td>\n",
       "    </tr>\n",
       "    <tr>\n",
       "      <th>1</th>\n",
       "      <td>Jessica Lal murder convict Manu Sharma gets 15...</td>\n",
       "      <td>Jessica murder Manu Sharma gets parole</td>\n",
       "      <td>Europe Media Monitor (http://emm.newsbrief.eu)</td>\n",
       "      <td>Europe Media Monitor (http://emm.newsbrief.eu)</td>\n",
       "      <td>NaN</td>\n",
       "    </tr>\n",
       "    <tr>\n",
       "      <th>2</th>\n",
       "      <td>UN to hold emergency DR Congo talks</td>\n",
       "      <td>U.N. Council to Hold Emergency DR Congo Talks</td>\n",
       "      <td>Europe Media Monitor (http://emm.newsbrief.eu)</td>\n",
       "      <td>Europe Media Monitor (http://emm.newsbrief.eu)</td>\n",
       "      <td>NaN</td>\n",
       "    </tr>\n",
       "    <tr>\n",
       "      <th>3</th>\n",
       "      <td>Iran and IAEA resume nuclear talks</td>\n",
       "      <td>Iran, IAEA resume nuclear talks in Tehran</td>\n",
       "      <td>Europe Media Monitor (http://emm.newsbrief.eu)</td>\n",
       "      <td>Europe Media Monitor (http://emm.newsbrief.eu)</td>\n",
       "      <td>NaN</td>\n",
       "    </tr>\n",
       "    <tr>\n",
       "      <th>4</th>\n",
       "      <td>Thai protesters storm army headquarters</td>\n",
       "      <td>Thai protestors storm Royal army headquarters ...</td>\n",
       "      <td>Europe Media Monitor (http://emm.newsbrief.eu)</td>\n",
       "      <td>Europe Media Monitor (http://emm.newsbrief.eu)</td>\n",
       "      <td>NaN</td>\n",
       "    </tr>\n",
       "  </tbody>\n",
       "</table>\n",
       "</div>"
      ],
      "text/plain": [
       "                                       Text String 1  \\\n",
       "0  Digital era threatens tenuous future of drive-ins   \n",
       "1  Jessica Lal murder convict Manu Sharma gets 15...   \n",
       "2                UN to hold emergency DR Congo talks   \n",
       "3                 Iran and IAEA resume nuclear talks   \n",
       "4            Thai protesters storm army headquarters   \n",
       "\n",
       "                                       Text String 2  \\\n",
       "0          Digital Era Threatens Future of Drive-Ins   \n",
       "1             Jessica murder Manu Sharma gets parole   \n",
       "2      U.N. Council to Hold Emergency DR Congo Talks   \n",
       "3          Iran, IAEA resume nuclear talks in Tehran   \n",
       "4  Thai protestors storm Royal army headquarters ...   \n",
       "\n",
       "                                       Metadata 1  \\\n",
       "0  Europe Media Monitor (http://emm.newsbrief.eu)   \n",
       "1  Europe Media Monitor (http://emm.newsbrief.eu)   \n",
       "2  Europe Media Monitor (http://emm.newsbrief.eu)   \n",
       "3  Europe Media Monitor (http://emm.newsbrief.eu)   \n",
       "4  Europe Media Monitor (http://emm.newsbrief.eu)   \n",
       "\n",
       "                                       Metadata 2 score  \n",
       "0  Europe Media Monitor (http://emm.newsbrief.eu)   NaN  \n",
       "1  Europe Media Monitor (http://emm.newsbrief.eu)   NaN  \n",
       "2  Europe Media Monitor (http://emm.newsbrief.eu)   NaN  \n",
       "3  Europe Media Monitor (http://emm.newsbrief.eu)   NaN  \n",
       "4  Europe Media Monitor (http://emm.newsbrief.eu)   NaN  "
      ]
     },
     "execution_count": 19,
     "metadata": {},
     "output_type": "execute_result"
    }
   ],
   "source": [
    "df_headlines = pd.concat([df_headlines, gs_headlines], axis=1)\n",
    "df_headlines.head()"
   ]
  },
  {
   "cell_type": "code",
   "execution_count": 20,
   "id": "4452f1d4046b2977",
   "metadata": {
    "ExecuteTime": {
     "end_time": "2023-10-30T07:13:17.416238Z",
     "start_time": "2023-10-30T07:13:17.375693Z"
    }
   },
   "outputs": [
    {
     "name": "stdout",
     "output_type": "stream",
     "text": [
      "Anzahl Textpaare: 1498\n",
      "Anzahl fehlender Scores: 1249\n",
      "Anzahl Scores: 249\n"
     ]
    }
   ],
   "source": [
    "print(f'Anzahl Textpaare: {len(df_headlines)}')\n",
    "print(f'Anzahl fehlender Scores: {df_headlines[\"score\"].isna().sum()}')\n",
    "print(f'Anzahl Scores: {len(df_headlines) - df_headlines[\"score\"].isna().sum()}')"
   ]
  },
  {
   "cell_type": "markdown",
   "id": "d04acf6f2b975061",
   "metadata": {},
   "source": [
    "## postediting"
   ]
  },
  {
   "cell_type": "code",
   "execution_count": 21,
   "id": "a02442494ce85e67",
   "metadata": {
    "ExecuteTime": {
     "end_time": "2023-10-30T07:13:17.446078Z",
     "start_time": "2023-10-30T07:13:17.379207Z"
    }
   },
   "outputs": [
    {
     "name": "stdout",
     "output_type": "stream",
     "text": [
      "<class 'pandas.core.frame.DataFrame'>\n",
      "RangeIndex: 3033 entries, 0 to 3032\n",
      "Data columns (total 4 columns):\n",
      " #   Column         Non-Null Count  Dtype \n",
      "---  ------         --------------  ----- \n",
      " 0   Text String 1  3033 non-null   object\n",
      " 1   Text String 2  3033 non-null   object\n",
      " 2   Metadata 1     3033 non-null   object\n",
      " 3   Metadata 2     2961 non-null   object\n",
      "dtypes: object(4)\n",
      "memory usage: 94.9+ KB\n",
      "<class 'pandas.core.frame.DataFrame'>\n",
      "RangeIndex: 3287 entries, 0 to 3286\n",
      "Data columns (total 1 columns):\n",
      " #   Column  Non-Null Count  Dtype \n",
      "---  ------  --------------  ----- \n",
      " 0   score   244 non-null    object\n",
      "dtypes: object(1)\n",
      "memory usage: 25.8+ KB\n"
     ]
    },
    {
     "name": "stderr",
     "output_type": "stream",
     "text": [
      "Skipping line 50: expected 4 fields, saw 6\n",
      "Skipping line 196: expected 4 fields, saw 5\n",
      "Skipping line 208: expected 4 fields, saw 5\n",
      "Skipping line 281: expected 4 fields, saw 5\n",
      "Skipping line 344: expected 4 fields, saw 5\n",
      "Skipping line 390: expected 4 fields, saw 5\n",
      "Skipping line 552: expected 4 fields, saw 5\n",
      "Skipping line 705: expected 4 fields, saw 6\n",
      "Skipping line 893: expected 4 fields, saw 5\n",
      "Skipping line 1068: expected 4 fields, saw 5\n",
      "Skipping line 1071: expected 4 fields, saw 5\n",
      "Skipping line 1159: expected 4 fields, saw 5\n",
      "Skipping line 1206: expected 4 fields, saw 5\n",
      "Skipping line 1469: expected 4 fields, saw 5\n",
      "Skipping line 1488: expected 4 fields, saw 6\n",
      "Skipping line 1540: expected 4 fields, saw 5\n",
      "Skipping line 1578: expected 4 fields, saw 5\n",
      "Skipping line 1696: expected 4 fields, saw 5\n",
      "Skipping line 1820: expected 4 fields, saw 5\n",
      "Skipping line 1839: expected 4 fields, saw 5\n",
      "Skipping line 1860: expected 4 fields, saw 5\n",
      "Skipping line 1985: expected 4 fields, saw 5\n",
      "Skipping line 1999: expected 4 fields, saw 5\n",
      "Skipping line 2104: expected 4 fields, saw 6\n",
      "Skipping line 2117: expected 4 fields, saw 5\n",
      "Skipping line 2222: expected 4 fields, saw 5\n",
      "Skipping line 2307: expected 4 fields, saw 6\n",
      "Skipping line 2350: expected 4 fields, saw 5\n",
      "Skipping line 2351: expected 4 fields, saw 5\n",
      "Skipping line 2479: expected 4 fields, saw 5\n",
      "Skipping line 2544: expected 4 fields, saw 5\n",
      "Skipping line 2807: expected 4 fields, saw 5\n",
      "Skipping line 3029: expected 4 fields, saw 5\n",
      "\n"
     ]
    }
   ],
   "source": [
    "df_postediting = pd.read_csv('sts2016-english-with-gs-v1.0/STS2016.input.postediting.txt', sep='\\t', header=None, on_bad_lines='warn', names=column_names)\n",
    "data = []\n",
    "with open('sts2016-english-with-gs-v1.0/STS2016.gs.postediting.txt', 'r') as file:\n",
    "    for line in file:\n",
    "        # If the line is empty or just contains a newline character, add NaN\n",
    "        if line.strip() == '':\n",
    "            data.append([np.nan])\n",
    "        else:\n",
    "            # Otherwise, add the value to the data list\n",
    "            data.append([line.strip()])\n",
    "\n",
    "gs_postediting = pd.DataFrame(data, columns=['score'])\n",
    "\n",
    "df_postediting.info()\n",
    "gs_postediting.info()"
   ]
  },
  {
   "cell_type": "code",
   "execution_count": 22,
   "id": "72c995e6fbac13fa",
   "metadata": {
    "ExecuteTime": {
     "end_time": "2023-10-30T07:13:17.484806Z",
     "start_time": "2023-10-30T07:13:17.398354Z"
    }
   },
   "outputs": [
    {
     "data": {
      "text/html": [
       "<div>\n",
       "<style scoped>\n",
       "    .dataframe tbody tr th:only-of-type {\n",
       "        vertical-align: middle;\n",
       "    }\n",
       "\n",
       "    .dataframe tbody tr th {\n",
       "        vertical-align: top;\n",
       "    }\n",
       "\n",
       "    .dataframe thead th {\n",
       "        text-align: right;\n",
       "    }\n",
       "</style>\n",
       "<table border=\"1\" class=\"dataframe\">\n",
       "  <thead>\n",
       "    <tr style=\"text-align: right;\">\n",
       "      <th></th>\n",
       "      <th>Text String 1</th>\n",
       "      <th>Text String 2</th>\n",
       "      <th>Metadata 1</th>\n",
       "      <th>Metadata 2</th>\n",
       "    </tr>\n",
       "  </thead>\n",
       "  <tbody>\n",
       "    <tr>\n",
       "      <th>0</th>\n",
       "      <td>Not only PAMPLEMOUSSE - according to experts, ...</td>\n",
       "      <td>That FEBRUARY PAMPLEMOUSSE- According to the e...</td>\n",
       "      <td>EAMT11 post-editting dataset (http://staffwww....</td>\n",
       "      <td>EAMT11 post-editting dataset (http://staffwww....</td>\n",
       "    </tr>\n",
       "    <tr>\n",
       "      <th>1</th>\n",
       "      <td>The fact that the OSCE, during the evaluation ...</td>\n",
       "      <td>The fact that the OSCE, during the evaluation ...</td>\n",
       "      <td>EAMT11 post-editting dataset (http://staffwww....</td>\n",
       "      <td>EAMT11 post-editting dataset (http://staffwww....</td>\n",
       "    </tr>\n",
       "    <tr>\n",
       "      <th>2</th>\n",
       "      <td>In the Czech Republic, no chance, say the mobi...</td>\n",
       "      <td>In the Czech Republic, no chance, say the mobi...</td>\n",
       "      <td>EAMT11 post-editting dataset (http://staffwww....</td>\n",
       "      <td>EAMT11 post-editting dataset (http://staffwww....</td>\n",
       "    </tr>\n",
       "    <tr>\n",
       "      <th>3</th>\n",
       "      <td>I already knew the word thanks to my mangas.</td>\n",
       "      <td>I already knew thanks to my mangas.</td>\n",
       "      <td>EAMT11 post-editting dataset (http://staffwww....</td>\n",
       "      <td>EAMT11 post-editting dataset (http://staffwww....</td>\n",
       "    </tr>\n",
       "    <tr>\n",
       "      <th>4</th>\n",
       "      <td>Before off for the US, Nicolas Sarkozy will ta...</td>\n",
       "      <td>Before leaving for the US, Nicolas Sarkozy wil...</td>\n",
       "      <td>EAMT11 post-editting dataset (http://staffwww....</td>\n",
       "      <td>EAMT11 post-editting dataset (http://staffwww....</td>\n",
       "    </tr>\n",
       "  </tbody>\n",
       "</table>\n",
       "</div>"
      ],
      "text/plain": [
       "                                       Text String 1  \\\n",
       "0  Not only PAMPLEMOUSSE - according to experts, ...   \n",
       "1  The fact that the OSCE, during the evaluation ...   \n",
       "2  In the Czech Republic, no chance, say the mobi...   \n",
       "3       I already knew the word thanks to my mangas.   \n",
       "4  Before off for the US, Nicolas Sarkozy will ta...   \n",
       "\n",
       "                                       Text String 2  \\\n",
       "0  That FEBRUARY PAMPLEMOUSSE- According to the e...   \n",
       "1  The fact that the OSCE, during the evaluation ...   \n",
       "2  In the Czech Republic, no chance, say the mobi...   \n",
       "3                I already knew thanks to my mangas.   \n",
       "4  Before leaving for the US, Nicolas Sarkozy wil...   \n",
       "\n",
       "                                          Metadata 1  \\\n",
       "0  EAMT11 post-editting dataset (http://staffwww....   \n",
       "1  EAMT11 post-editting dataset (http://staffwww....   \n",
       "2  EAMT11 post-editting dataset (http://staffwww....   \n",
       "3  EAMT11 post-editting dataset (http://staffwww....   \n",
       "4  EAMT11 post-editting dataset (http://staffwww....   \n",
       "\n",
       "                                          Metadata 2  \n",
       "0  EAMT11 post-editting dataset (http://staffwww....  \n",
       "1  EAMT11 post-editting dataset (http://staffwww....  \n",
       "2  EAMT11 post-editting dataset (http://staffwww....  \n",
       "3  EAMT11 post-editting dataset (http://staffwww....  \n",
       "4  EAMT11 post-editting dataset (http://staffwww....  "
      ]
     },
     "execution_count": 22,
     "metadata": {},
     "output_type": "execute_result"
    }
   ],
   "source": [
    "df_postediting.head()"
   ]
  },
  {
   "cell_type": "markdown",
   "id": "28af8a0725fdf2cf",
   "metadata": {},
   "source": [
    "Das postediting file hat viele Zeilen die nicht richtig eingelesen werden können. Deswegen verzichten wir an dieser Stelle auf eine genaue Analyse dieses Datensatzes."
   ]
  },
  {
   "cell_type": "markdown",
   "id": "e284d9f37fe48e4c",
   "metadata": {},
   "source": [
    "## question-question"
   ]
  },
  {
   "cell_type": "code",
   "execution_count": 23,
   "id": "4f33e528d8ce68ad",
   "metadata": {
    "ExecuteTime": {
     "end_time": "2023-10-30T07:13:17.486172Z",
     "start_time": "2023-10-30T07:13:17.401855Z"
    }
   },
   "outputs": [
    {
     "name": "stdout",
     "output_type": "stream",
     "text": [
      "<class 'pandas.core.frame.DataFrame'>\n",
      "RangeIndex: 1555 entries, 0 to 1554\n",
      "Data columns (total 4 columns):\n",
      " #   Column         Non-Null Count  Dtype \n",
      "---  ------         --------------  ----- \n",
      " 0   Text String 1  1555 non-null   object\n",
      " 1   Text String 2  1555 non-null   object\n",
      " 2   Metadata 1     1555 non-null   object\n",
      " 3   Metadata 2     1555 non-null   object\n",
      "dtypes: object(4)\n",
      "memory usage: 48.7+ KB\n",
      "<class 'pandas.core.frame.DataFrame'>\n",
      "RangeIndex: 1555 entries, 0 to 1554\n",
      "Data columns (total 1 columns):\n",
      " #   Column  Non-Null Count  Dtype \n",
      "---  ------  --------------  ----- \n",
      " 0   score   209 non-null    object\n",
      "dtypes: object(1)\n",
      "memory usage: 12.3+ KB\n"
     ]
    }
   ],
   "source": [
    "df_question_question = pd.read_csv('sts2016-english-with-gs-v1.0/STS2016.input.question-question.txt', sep='\\t', header=None, names=column_names)\n",
    "data = []\n",
    "with open('sts2016-english-with-gs-v1.0/STS2016.gs.question-question.txt', 'r') as file:\n",
    "    for line in file:\n",
    "        # If the line is empty or just contains a newline character, add NaN\n",
    "        if line.strip() == '':\n",
    "            data.append([np.nan])\n",
    "        else:\n",
    "            # Otherwise, add the value to the data list\n",
    "            data.append([line.strip()])\n",
    "\n",
    "gs_question_question = pd.DataFrame(data, columns=['score'])\n",
    "\n",
    "df_question_question.info()\n",
    "gs_question_question.info()"
   ]
  },
  {
   "cell_type": "code",
   "execution_count": 24,
   "id": "c872ae62efb70851",
   "metadata": {
    "ExecuteTime": {
     "end_time": "2023-10-30T07:13:17.503547Z",
     "start_time": "2023-10-30T07:13:17.417304Z"
    }
   },
   "outputs": [
    {
     "data": {
      "text/html": [
       "<div>\n",
       "<style scoped>\n",
       "    .dataframe tbody tr th:only-of-type {\n",
       "        vertical-align: middle;\n",
       "    }\n",
       "\n",
       "    .dataframe tbody tr th {\n",
       "        vertical-align: top;\n",
       "    }\n",
       "\n",
       "    .dataframe thead th {\n",
       "        text-align: right;\n",
       "    }\n",
       "</style>\n",
       "<table border=\"1\" class=\"dataframe\">\n",
       "  <thead>\n",
       "    <tr style=\"text-align: right;\">\n",
       "      <th></th>\n",
       "      <th>Text String 1</th>\n",
       "      <th>Text String 2</th>\n",
       "      <th>Metadata 1</th>\n",
       "      <th>Metadata 2</th>\n",
       "      <th>score</th>\n",
       "    </tr>\n",
       "  </thead>\n",
       "  <tbody>\n",
       "    <tr>\n",
       "      <th>0</th>\n",
       "      <td>Should I drink water during my workout?</td>\n",
       "      <td>How can I get my toddler to drink more water?</td>\n",
       "      <td>StackExchange Network: http://fitness.stackexc...</td>\n",
       "      <td>StackExchange Network: http://parenting.stacke...</td>\n",
       "      <td>NaN</td>\n",
       "    </tr>\n",
       "    <tr>\n",
       "      <th>1</th>\n",
       "      <td>How can I put something in book format without...</td>\n",
       "      <td>How can I \"time-stamp\" my data without publish...</td>\n",
       "      <td>StackExchange Network: http://writers.stackexc...</td>\n",
       "      <td>StackExchange Network: http://academia.stackex...</td>\n",
       "      <td>NaN</td>\n",
       "    </tr>\n",
       "    <tr>\n",
       "      <th>2</th>\n",
       "      <td>How do I stop my dog from jumping on me?</td>\n",
       "      <td>How do I make my dog forget a command?</td>\n",
       "      <td>StackExchange Network: http://pets.stackexchan...</td>\n",
       "      <td>StackExchange Network: http://pets.stackexchan...</td>\n",
       "      <td>NaN</td>\n",
       "    </tr>\n",
       "    <tr>\n",
       "      <th>3</th>\n",
       "      <td>What's the best way to store asparagus?</td>\n",
       "      <td>What's the correct way to store fats?</td>\n",
       "      <td>StackExchange Network: http://cooking.stackexc...</td>\n",
       "      <td>StackExchange Network: http://cooking.stackexc...</td>\n",
       "      <td>NaN</td>\n",
       "    </tr>\n",
       "    <tr>\n",
       "      <th>4</th>\n",
       "      <td>How do I make a height adjustable desk?</td>\n",
       "      <td>How can I build a wall mounted adjustable heig...</td>\n",
       "      <td>StackExchange Network: http://diy.stackexchang...</td>\n",
       "      <td>StackExchange Network: http://diy.stackexchang...</td>\n",
       "      <td>4</td>\n",
       "    </tr>\n",
       "  </tbody>\n",
       "</table>\n",
       "</div>"
      ],
      "text/plain": [
       "                                       Text String 1  \\\n",
       "0            Should I drink water during my workout?   \n",
       "1  How can I put something in book format without...   \n",
       "2           How do I stop my dog from jumping on me?   \n",
       "3            What's the best way to store asparagus?   \n",
       "4            How do I make a height adjustable desk?   \n",
       "\n",
       "                                       Text String 2  \\\n",
       "0      How can I get my toddler to drink more water?   \n",
       "1  How can I \"time-stamp\" my data without publish...   \n",
       "2             How do I make my dog forget a command?   \n",
       "3              What's the correct way to store fats?   \n",
       "4  How can I build a wall mounted adjustable heig...   \n",
       "\n",
       "                                          Metadata 1  \\\n",
       "0  StackExchange Network: http://fitness.stackexc...   \n",
       "1  StackExchange Network: http://writers.stackexc...   \n",
       "2  StackExchange Network: http://pets.stackexchan...   \n",
       "3  StackExchange Network: http://cooking.stackexc...   \n",
       "4  StackExchange Network: http://diy.stackexchang...   \n",
       "\n",
       "                                          Metadata 2 score  \n",
       "0  StackExchange Network: http://parenting.stacke...   NaN  \n",
       "1  StackExchange Network: http://academia.stackex...   NaN  \n",
       "2  StackExchange Network: http://pets.stackexchan...   NaN  \n",
       "3  StackExchange Network: http://cooking.stackexc...   NaN  \n",
       "4  StackExchange Network: http://diy.stackexchang...     4  "
      ]
     },
     "execution_count": 24,
     "metadata": {},
     "output_type": "execute_result"
    }
   ],
   "source": [
    "df_question_question = pd.concat([df_question_question, gs_question_question], axis=1)\n",
    "df_question_question.head()"
   ]
  },
  {
   "cell_type": "code",
   "execution_count": 25,
   "id": "a3b9f60c5a682690",
   "metadata": {
    "ExecuteTime": {
     "end_time": "2023-10-30T07:13:17.504020Z",
     "start_time": "2023-10-30T07:13:17.420554Z"
    }
   },
   "outputs": [
    {
     "name": "stdout",
     "output_type": "stream",
     "text": [
      "Anzahl Textpaare: 1555\n",
      "Anzahl fehlender Scores: 1346\n",
      "Anzahl Scores: 209\n"
     ]
    }
   ],
   "source": [
    "print(f'Anzahl Textpaare: {len(df_question_question)}')\n",
    "print(f'Anzahl fehlender Scores: {df_question_question[\"score\"].isna().sum()}')\n",
    "print(f'Anzahl Scores: {len(df_question_question) - df_question_question[\"score\"].isna().sum()}')"
   ]
  }
 ],
 "metadata": {
  "kernelspec": {
   "display_name": "Python 3",
   "language": "python",
   "name": "python3"
  },
  "language_info": {
   "codemirror_mode": {
    "name": "ipython",
    "version": 3
   },
   "file_extension": ".py",
   "mimetype": "text/x-python",
   "name": "python",
   "nbconvert_exporter": "python",
   "pygments_lexer": "ipython3",
   "version": "3.8.8"
  }
 },
 "nbformat": 4,
 "nbformat_minor": 5
}
