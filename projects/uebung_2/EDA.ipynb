{
 "cells": [
  {
   "cell_type": "code",
   "execution_count": 153,
   "id": "2053829d",
   "metadata": {},
   "outputs": [],
   "source": [
    "import pandas as pd\n",
    "import numpy as np"
   ]
  },
  {
   "cell_type": "code",
   "execution_count": 154,
   "id": "e3075024",
   "metadata": {},
   "outputs": [],
   "source": [
    "input_data_columns = ['Sentence_1', 'Sentence_2', 'Source_1', 'Source_2']\n",
    "input_data = pd.read_csv('STS2016.input.answer-answer.txt', sep='\\t', header=None, names=input_data_columns)"
   ]
  },
  {
   "cell_type": "code",
   "execution_count": 155,
   "id": "5f597948",
   "metadata": {},
   "outputs": [],
   "source": [
    "data = []\n",
    "with open('STS2016.gs.answer-answer.txt', 'r') as file:\n",
    "    for line in file:\n",
    "        # If the line is empty or just contains a newline character, add NaN\n",
    "        if line.strip() == '':\n",
    "            data.append([np.nan])\n",
    "        else:\n",
    "            # Otherwise, add the value to the data list\n",
    "            data.append([line.strip()])\n",
    "    "
   ]
  },
  {
   "cell_type": "code",
   "execution_count": 156,
   "id": "1ab916da",
   "metadata": {},
   "outputs": [
    {
     "name": "stdout",
     "output_type": "stream",
     "text": [
      "1572\n"
     ]
    }
   ],
   "source": [
    "data_label_df = pd.DataFrame(data)\n",
    "data_label_df = pd.DataFrame(data, columns=['Value'])\n",
    "print(len(data_label_df))"
   ]
  },
  {
   "cell_type": "markdown",
   "id": "c90a9df1",
   "metadata": {},
   "source": [
    "Da wir 3 Zeilen zu viel haben, untersuchen wir diese. Wenn diese NaN sind, löschen wir diese."
   ]
  },
  {
   "cell_type": "code",
   "execution_count": 157,
   "id": "da9c5f9a",
   "metadata": {},
   "outputs": [],
   "source": [
    "for i in range(1, 5):\n",
    "    if pd.isna(data_label_df.iloc[-i]).any():  # Überprüfe, ob alle Werte in der Zeile NaN sind\n",
    "        data_label_df = data_label_df.drop(data_label_df.index[-i])"
   ]
  },
  {
   "cell_type": "code",
   "execution_count": 158,
   "id": "5de12e4e",
   "metadata": {},
   "outputs": [
    {
     "name": "stdout",
     "output_type": "stream",
     "text": [
      "<class 'pandas.core.frame.DataFrame'>\n",
      "Int64Index: 1568 entries, 0 to 1570\n",
      "Data columns (total 1 columns):\n",
      " #   Column  Non-Null Count  Dtype \n",
      "---  ------  --------------  ----- \n",
      " 0   Value   254 non-null    object\n",
      "dtypes: object(1)\n",
      "memory usage: 24.5+ KB\n",
      "None\n"
     ]
    }
   ],
   "source": [
    "print(data_label_df.info())"
   ]
  },
  {
   "cell_type": "code",
   "execution_count": 159,
   "id": "260d1fd4",
   "metadata": {},
   "outputs": [
    {
     "name": "stdout",
     "output_type": "stream",
     "text": [
      "                3\n",
      "count  253.000000\n",
      "mean     2.490119\n",
      "std      1.753936\n",
      "min      0.000000\n",
      "25%      1.000000\n",
      "50%      2.000000\n",
      "75%      4.000000\n",
      "max      5.000000\n"
     ]
    }
   ],
   "source": [
    "print(label.describe())"
   ]
  },
  {
   "cell_type": "code",
   "execution_count": 14,
   "id": "b7ece288",
   "metadata": {},
   "outputs": [
    {
     "name": "stdout",
     "output_type": "stream",
     "text": [
      "                                          Sentence_1  \\\n",
      "0               Tasting it is the only reliable way.   \n",
      "1         I think it probably depends on your money.   \n",
      "2  You need to read a lot to know what you like a...   \n",
      "3  Obviously, the best book for you depends a lot...   \n",
      "4                        I've had this same problem.   \n",
      "\n",
      "                                          Sentence_2  \\\n",
      "0                       The way you have it is fine.   \n",
      "1                        It depends on your country.   \n",
      "2                            You don't have to know.   \n",
      "3  The answer will depend of course on what you'r...   \n",
      "4                     I had the same problem as you.   \n",
      "\n",
      "                                            Source_1  \\\n",
      "0  StackExchange Network: http://cooking.stackexc...   \n",
      "1  StackExchange Network: http://workplace.stacke...   \n",
      "2  StackExchange Network: http://writers.stackexc...   \n",
      "3  StackExchange Network: http://travel.stackexch...   \n",
      "4  StackExchange Network: http://diy.stackexchang...   \n",
      "\n",
      "                                            Source_2  \n",
      "0  StackExchange Network: http://writers.stackexc...  \n",
      "1  StackExchange Network: http://travel.stackexch...  \n",
      "2  StackExchange Network: http://academia.stackex...  \n",
      "3  StackExchange Network: http://travel.stackexch...  \n",
      "4  StackExchange Network: http://cooking.stackexc...  \n"
     ]
    }
   ],
   "source": [
    "print(input_data.head())"
   ]
  },
  {
   "cell_type": "code",
   "execution_count": 15,
   "id": "e9974744",
   "metadata": {},
   "outputs": [
    {
     "name": "stdout",
     "output_type": "stream",
     "text": [
      "                                               Sentence_1  \\\n",
      "count                                                1568   \n",
      "unique                                                532   \n",
      "top     You need to read a lot to know what you like a...   \n",
      "freq                                                   38   \n",
      "\n",
      "                         Sentence_2  \\\n",
      "count                          1568   \n",
      "unique                         1190   \n",
      "top     It depends on your country.   \n",
      "freq                             13   \n",
      "\n",
      "                                                 Source_1  \\\n",
      "count                                                1568   \n",
      "unique                                                533   \n",
      "top     StackExchange Network: http://writers.stackexc...   \n",
      "freq                                                   38   \n",
      "\n",
      "                                                 Source_2  \n",
      "count                                                1568  \n",
      "unique                                               1190  \n",
      "top     StackExchange Network: http://travel.stackexch...  \n",
      "freq                                                   13  \n"
     ]
    }
   ],
   "source": [
    "print(input_data.describe())"
   ]
  },
  {
   "cell_type": "code",
   "execution_count": 31,
   "id": "f67adfb8",
   "metadata": {},
   "outputs": [],
   "source": [
    "count_same_elements_sentences = (input_data.Sentence_1 == input_data.Sentence_2).sum()\n",
    "count_same_elements_sources = (input_data.Source_1 == input_data.Sentence_2).sum()"
   ]
  },
  {
   "cell_type": "code",
   "execution_count": 32,
   "id": "d28460df",
   "metadata": {},
   "outputs": [
    {
     "name": "stdout",
     "output_type": "stream",
     "text": [
      "0\n",
      "0\n"
     ]
    }
   ],
   "source": [
    "print(count_same_elements_sentences)\n",
    "print(count_same_elements_sources)"
   ]
  },
  {
   "cell_type": "code",
   "execution_count": 33,
   "id": "f957b74d",
   "metadata": {},
   "outputs": [],
   "source": [
    "freq_sentence1 = input_data.Sentence_1.value_counts()\n",
    "freq_sentence2 = input_data.Sentence_2.value_counts()\n",
    "\n",
    "freq_source1 = input_data.Source_1.value_counts()\n",
    "freq_source2 = input_data.Source_2.value_counts()"
   ]
  },
  {
   "cell_type": "code",
   "execution_count": 28,
   "id": "30ee8bc1",
   "metadata": {},
   "outputs": [
    {
     "name": "stdout",
     "output_type": "stream",
     "text": [
      "You need to read a lot to know what you like and what you don't.                  38\n",
      "It depends on what you want to do next, and where you want to do it.              34\n",
      "You just have to base your answer on what you do know, which is what you want.    30\n",
      "You don't have to know.                                                           28\n",
      "In the first case, I think you don't need it.                                     23\n",
      "                                                                                  ..\n",
      "The meat is definitely worth saving.                                               1\n",
      "That said, I'm guessing the answer is \"no\".                                        1\n",
      "You are not disclosing key info.                                                   1\n",
      "See Wikipedia for average weather stats.                                           1\n",
      "Have you tried beef consommé ?                                                     1\n",
      "Name: Sentence_1, Length: 532, dtype: int64\n",
      "It depends on your country.                           13\n",
      "You don't have to know.                                9\n",
      "I don't think that there's any.                        8\n",
      "You don't have to worry.                               7\n",
      "Depends on what your goal is.                          6\n",
      "                                                      ..\n",
      "There is no name for it that I'm aware of.             1\n",
      "I have applied thinset over paint many many times.     1\n",
      "I think this is a common situation.                    1\n",
      "You can try manager.io.                                1\n",
      "It depends on how the term is used I think.            1\n",
      "Name: Sentence_2, Length: 1190, dtype: int64\n"
     ]
    }
   ],
   "source": [
    "print(freq_sentence1)\n",
    "print(freq_sentence2)"
   ]
  },
  {
   "cell_type": "code",
   "execution_count": 36,
   "id": "e96293b8",
   "metadata": {},
   "outputs": [
    {
     "name": "stdout",
     "output_type": "stream",
     "text": [
      "StackExchange Network: http://writers.stackexchange.com/questions/12166 Author: Lexi (http://writers.stackexchange.com/users/2410)                                                                                 38\n",
      "StackExchange Network: http://academia.stackexchange.com/questions/26950 Author: Dylan Richard Muir (http://academia.stackexchange.com/users/19984)                                                                34\n",
      "StackExchange Network: http://workplace.stackexchange.com/questions/9526 Author: pdr (http://workplace.stackexchange.com/users/759) Last Editor: pdr (http://workplace.stackexchange.com/users/759)                30\n",
      "StackExchange Network: http://academia.stackexchange.com/questions/26241 Author: BigPants (http://academia.stackexchange.com/users/19703) Last Editor: BigPants (http://academia.stackexchange.com/users/19703)    28\n",
      "StackExchange Network: http://writers.stackexchange.com/questions/10368 Author: Driss Zouak (http://writers.stackexchange.com/users/7897)                                                                          23\n",
      "                                                                                                                                                                                                                   ..\n",
      "StackExchange Network: http://workplace.stackexchange.com/questions/52 Author: ReallyTiredOfThisGame (http://workplace.stackexchange.com/users/16)                                                                  1\n",
      "StackExchange Network: http://music.stackexchange.com/questions/16785 Author: Bob Broadley (http://music.stackexchange.com/users/9198) Last Editor: Dom (http://music.stackexchange.com/users/7222)                 1\n",
      "StackExchange Network: http://linguistics.stackexchange.com/questions/2792 Author: Colin Fine (http://linguistics.stackexchange.com/users/718)                                                                      1\n",
      "StackExchange Network: http://writers.stackexchange.com/questions/9186 Author: JBeck (http://writers.stackexchange.com/users/6085)                                                                                  1\n",
      "StackExchange Network: http://writers.stackexchange.com/questions/3 Author: John Smithers (http://writers.stackexchange.com/users/99)                                                                               1\n",
      "Name: Source_1, Length: 533, dtype: int64\n"
     ]
    }
   ],
   "source": [
    "print(freq_source1)"
   ]
  },
  {
   "cell_type": "code",
   "execution_count": 37,
   "id": "eab91fd8",
   "metadata": {
    "scrolled": true
   },
   "outputs": [
    {
     "name": "stdout",
     "output_type": "stream",
     "text": [
      "StackExchange Network: http://travel.stackexchange.com/questions/45030 Author: Vince (http://travel.stackexchange.com/users/3044) Last Editor: Vince (http://travel.stackexchange.com/users/3044)                  13\n",
      "StackExchange Network: http://academia.stackexchange.com/questions/26241 Author: BigPants (http://academia.stackexchange.com/users/19703) Last Editor: BigPants (http://academia.stackexchange.com/users/19703)     9\n",
      "StackExchange Network: http://academia.stackexchange.com/questions/27341 Author: yo' (http://academia.stackexchange.com/users/1471)                                                                                 8\n",
      "StackExchange Network: http://pets.stackexchange.com/questions/6824 Author: Delusion (http://pets.stackexchange.com/users/3783)                                                                                     7\n",
      "StackExchange Network: http://diy.stackexchange.com/questions/60783 Author: Grant (http://diy.stackexchange.com/users/7120) Last Editor: Grant (http://diy.stackexchange.com/users/7120)                            6\n",
      "                                                                                                                                                                                                                   ..\n",
      "StackExchange Network: http://workplace.stackexchange.com/questions/38462 Author: Stephan Kolassa (http://workplace.stackexchange.com/users/17125)                                                                  1\n",
      "StackExchange Network: http://diy.stackexchange.com/questions/20537 Author: Lars (http://diy.stackexchange.com/users/9507)                                                                                          1\n",
      "StackExchange Network: http://music.stackexchange.com/questions/12634 Author: Tim (http://music.stackexchange.com/users/2808)                                                                                       1\n",
      "StackExchange Network: http://diy.stackexchange.com/questions/32324 Author: DMoore (http://diy.stackexchange.com/users/12002)                                                                                       1\n",
      "StackExchange Network: http://academia.stackexchange.com/questions/17230 Author: Thomas (http://academia.stackexchange.com/users/6984)                                                                              1\n",
      "Name: Source_2, Length: 1190, dtype: int64\n"
     ]
    }
   ],
   "source": [
    "print(freq_source2)"
   ]
  },
  {
   "cell_type": "markdown",
   "id": "9e9ac330",
   "metadata": {},
   "source": [
    "Wir können sehen, dass es insgesamt pro Spalte (Sentence_1-2), insgesamt 1568 Sätze gibt.\n",
    "Für die erste Spalte gibt es 532 verschiedene Sätze, und für Spalte 2 533 verschiedene Sätze.\n",
    "Insgesamt sind die Spalten aber Disjunkt, dass heißt, ein Satz in der ersten Spalte kommt NICHT in der zweiten Spalte vor.\n",
    "\n",
    "Der am meisten vorkommende Satz in Spalte 1 ist: \"You need to read a lot to know what you like and what you don't.\" mit Häufigkeit 38 und in Spalte 2 der Satz: \"It depends on your country.\" mit Häufigkeit 13.\n",
    "\n",
    "Ebenfalls sind die Source-Spalten Disjunkt, mit ebenfalls 1568 Einträgen.\n",
    "Für die erste Source-Spalte haben wir 533 diverse, und für die zweite Spalte 1190 diverse Einträge.\n",
    "\n",
    "Die am meisten auftauchende Quelle in Spalte 1 ist (mit Häufigkeit 38): \"http://writers.stackexchange.com/questions/12166\"\n",
    "Die am meisten auftauchende Quelle in Spalte 2 ist (mit Häfugkeit 13):  \"http://travel.stackexchange.com/questions/45030\""
   ]
  },
  {
   "cell_type": "code",
   "execution_count": null,
   "id": "7e81a9ad",
   "metadata": {},
   "outputs": [],
   "source": []
  }
 ],
 "metadata": {
  "kernelspec": {
   "display_name": "Python 3",
   "language": "python",
   "name": "python3"
  },
  "language_info": {
   "codemirror_mode": {
    "name": "ipython",
    "version": 3
   },
   "file_extension": ".py",
   "mimetype": "text/x-python",
   "name": "python",
   "nbconvert_exporter": "python",
   "pygments_lexer": "ipython3",
   "version": "3.8.8"
  }
 },
 "nbformat": 4,
 "nbformat_minor": 5
}
