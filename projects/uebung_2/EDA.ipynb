{
 "cells": [
  {
   "cell_type": "code",
   "execution_count": 12,
   "id": "2053829d",
   "metadata": {
    "ExecuteTime": {
     "end_time": "2023-10-29T09:14:09.408820Z",
     "start_time": "2023-10-29T09:14:09.403136Z"
    }
   },
   "outputs": [],
   "source": [
    "import pandas as pd\n",
    "import numpy as np"
   ]
  },
  {
   "cell_type": "code",
   "execution_count": 13,
   "id": "e3075024",
   "metadata": {
    "ExecuteTime": {
     "end_time": "2023-10-29T09:14:09.591555Z",
     "start_time": "2023-10-29T09:14:09.583275Z"
    }
   },
   "outputs": [],
   "source": [
    "input_data_columns = ['Sentence_1', 'Sentence_2', 'Source_1', 'Source_2']\n",
    "input_data = pd.read_csv('sts2016-english-with-gs-v1.0/STS2016.input.answer-answer.txt', sep='\\t', header=None, names=input_data_columns)"
   ]
  },
  {
   "cell_type": "code",
   "execution_count": 14,
   "id": "5f597948",
   "metadata": {
    "ExecuteTime": {
     "end_time": "2023-10-29T09:14:09.727489Z",
     "start_time": "2023-10-29T09:14:09.723852Z"
    }
   },
   "outputs": [],
   "source": [
    "data = []\n",
    "with open('sts2016-english-with-gs-v1.0/STS2016.gs.answer-answer.txt', 'r') as file:\n",
    "    for line in file:\n",
    "        # If the line is empty or just contains a newline character, add NaN\n",
    "        if line.strip() == '':\n",
    "            data.append([np.nan])\n",
    "        else:\n",
    "            # Otherwise, add the value to the data list\n",
    "            data.append([line.strip()])\n",
    "    "
   ]
  },
  {
   "cell_type": "code",
   "execution_count": 15,
   "id": "1ab916da",
   "metadata": {
    "ExecuteTime": {
     "end_time": "2023-10-29T09:14:10.111061Z",
     "start_time": "2023-10-29T09:14:10.108239Z"
    }
   },
   "outputs": [
    {
     "name": "stdout",
     "output_type": "stream",
     "text": [
      "1571\n"
     ]
    }
   ],
   "source": [
    "data_label_df = pd.DataFrame(data)\n",
    "data_label_df = pd.DataFrame(data, columns=['Value'])\n",
    "print(len(data_label_df))"
   ]
  },
  {
   "cell_type": "markdown",
   "id": "c90a9df1",
   "metadata": {},
   "source": [
    "Da wir 3 Zeilen zu viel haben, untersuchen wir diese. Wenn diese NaN sind, löschen wir diese."
   ]
  },
  {
   "cell_type": "code",
   "execution_count": 16,
   "id": "da9c5f9a",
   "metadata": {
    "ExecuteTime": {
     "end_time": "2023-10-29T09:14:12.652341Z",
     "start_time": "2023-10-29T09:14:12.644142Z"
    }
   },
   "outputs": [],
   "source": [
    "for i in range(1, 5):\n",
    "    if pd.isna(data_label_df.iloc[-i]).any():  # Überprüfe, ob alle Werte in der Zeile NaN sind\n",
    "        data_label_df = data_label_df.drop(data_label_df.index[-i])"
   ]
  },
  {
   "cell_type": "code",
   "execution_count": 17,
   "id": "5de12e4e",
   "metadata": {
    "ExecuteTime": {
     "end_time": "2023-10-29T09:14:14.156006Z",
     "start_time": "2023-10-29T09:14:14.152810Z"
    }
   },
   "outputs": [
    {
     "name": "stdout",
     "output_type": "stream",
     "text": [
      "<class 'pandas.core.frame.DataFrame'>\n",
      "Index: 1567 entries, 0 to 1569\n",
      "Data columns (total 1 columns):\n",
      " #   Column  Non-Null Count  Dtype \n",
      "---  ------  --------------  ----- \n",
      " 0   Value   254 non-null    object\n",
      "dtypes: object(1)\n",
      "memory usage: 24.5+ KB\n",
      "None\n"
     ]
    }
   ],
   "source": [
    "print(data_label_df.info())"
   ]
  },
  {
   "cell_type": "code",
   "execution_count": 18,
   "id": "260d1fd4",
   "metadata": {
    "ExecuteTime": {
     "end_time": "2023-10-29T09:14:16.809987Z",
     "start_time": "2023-10-29T09:14:16.808414Z"
    }
   },
   "outputs": [],
   "source": [
    "# print(label.describe())"
   ]
  },
  {
   "cell_type": "code",
   "execution_count": 19,
   "id": "b7ece288",
   "metadata": {
    "ExecuteTime": {
     "end_time": "2023-10-29T09:14:17.521919Z",
     "start_time": "2023-10-29T09:14:17.518957Z"
    }
   },
   "outputs": [
    {
     "name": "stdout",
     "output_type": "stream",
     "text": [
      "                                          Sentence_1  \\\n",
      "0               Tasting it is the only reliable way.   \n",
      "1         I think it probably depends on your money.   \n",
      "2  You need to read a lot to know what you like a...   \n",
      "3  Obviously, the best book for you depends a lot...   \n",
      "4                        I've had this same problem.   \n",
      "\n",
      "                                          Sentence_2  \\\n",
      "0                       The way you have it is fine.   \n",
      "1                        It depends on your country.   \n",
      "2                            You don't have to know.   \n",
      "3  The answer will depend of course on what you'r...   \n",
      "4                     I had the same problem as you.   \n",
      "\n",
      "                                            Source_1  \\\n",
      "0  StackExchange Network: http://cooking.stackexc...   \n",
      "1  StackExchange Network: http://workplace.stacke...   \n",
      "2  StackExchange Network: http://writers.stackexc...   \n",
      "3  StackExchange Network: http://travel.stackexch...   \n",
      "4  StackExchange Network: http://diy.stackexchang...   \n",
      "\n",
      "                                            Source_2  \n",
      "0  StackExchange Network: http://writers.stackexc...  \n",
      "1  StackExchange Network: http://travel.stackexch...  \n",
      "2  StackExchange Network: http://academia.stackex...  \n",
      "3  StackExchange Network: http://travel.stackexch...  \n",
      "4  StackExchange Network: http://cooking.stackexc...  \n"
     ]
    }
   ],
   "source": [
    "print(input_data.head())"
   ]
  },
  {
   "cell_type": "code",
   "execution_count": 20,
   "id": "e9974744",
   "metadata": {
    "ExecuteTime": {
     "end_time": "2023-10-29T09:14:17.687431Z",
     "start_time": "2023-10-29T09:14:17.676831Z"
    }
   },
   "outputs": [
    {
     "name": "stdout",
     "output_type": "stream",
     "text": [
      "                                               Sentence_1  \\\n",
      "count                                                1571   \n",
      "unique                                                532   \n",
      "top     You need to read a lot to know what you like a...   \n",
      "freq                                                   38   \n",
      "\n",
      "                         Sentence_2  \\\n",
      "count                          1571   \n",
      "unique                         1189   \n",
      "top     It depends on your country.   \n",
      "freq                             13   \n",
      "\n",
      "                                                 Source_1  \\\n",
      "count                                                1571   \n",
      "unique                                                532   \n",
      "top     StackExchange Network: http://writers.stackexc...   \n",
      "freq                                                   38   \n",
      "\n",
      "                                                 Source_2  \n",
      "count                                                1571  \n",
      "unique                                               1189  \n",
      "top     StackExchange Network: http://travel.stackexch...  \n",
      "freq                                                   13  \n"
     ]
    }
   ],
   "source": [
    "print(input_data.describe())"
   ]
  },
  {
   "cell_type": "code",
   "execution_count": 21,
   "id": "f67adfb8",
   "metadata": {
    "ExecuteTime": {
     "end_time": "2023-10-29T09:14:19.267044Z",
     "start_time": "2023-10-29T09:14:19.263280Z"
    }
   },
   "outputs": [],
   "source": [
    "count_same_elements_sentences = (input_data.Sentence_1 == input_data.Sentence_2).sum()\n",
    "count_same_elements_sources = (input_data.Source_1 == input_data.Sentence_2).sum()"
   ]
  },
  {
   "cell_type": "code",
   "execution_count": 22,
   "id": "d28460df",
   "metadata": {
    "ExecuteTime": {
     "end_time": "2023-10-29T09:14:20.216105Z",
     "start_time": "2023-10-29T09:14:20.210809Z"
    }
   },
   "outputs": [
    {
     "name": "stdout",
     "output_type": "stream",
     "text": [
      "0\n",
      "0\n"
     ]
    }
   ],
   "source": [
    "print(count_same_elements_sentences)\n",
    "print(count_same_elements_sources)"
   ]
  },
  {
   "cell_type": "code",
   "execution_count": 23,
   "id": "f957b74d",
   "metadata": {
    "ExecuteTime": {
     "end_time": "2023-10-29T09:14:20.650931Z",
     "start_time": "2023-10-29T09:14:20.647288Z"
    }
   },
   "outputs": [],
   "source": [
    "freq_sentence1 = input_data.Sentence_1.value_counts()\n",
    "freq_sentence2 = input_data.Sentence_2.value_counts()\n",
    "\n",
    "freq_source1 = input_data.Source_1.value_counts()\n",
    "freq_source2 = input_data.Source_2.value_counts()"
   ]
  },
  {
   "cell_type": "code",
   "execution_count": 24,
   "id": "30ee8bc1",
   "metadata": {
    "ExecuteTime": {
     "end_time": "2023-10-29T09:14:21.039311Z",
     "start_time": "2023-10-29T09:14:21.033711Z"
    }
   },
   "outputs": [
    {
     "name": "stdout",
     "output_type": "stream",
     "text": [
      "Sentence_1\n",
      "You need to read a lot to know what you like and what you don't.                  38\n",
      "It depends on what you want to do next, and where you want to do it.              34\n",
      "You just have to base your answer on what you do know, which is what you want.    30\n",
      "You don't have to know.                                                           28\n",
      "In the first case, I think you don't need it.                                     23\n",
      "                                                                                  ..\n",
      "I think you can get away with thinset here.                                        1\n",
      "the best thing to do with toddlers when it comes to food is to stop caring.        1\n",
      "Interesting question but ultimately the answer is no.                              1\n",
      "I'm a huge fan of the vintage glass bowl/reamer combination.                       1\n",
      "Voltron is the name of the show you're looking for                                 1\n",
      "Name: count, Length: 532, dtype: int64\n",
      "Sentence_2\n",
      "It depends on your country.                                                          13\n",
      "You don't have to know.                                                               9\n",
      "I don't think that there's any.                                                       9\n",
      "You don't have to worry.                                                              7\n",
      "I don't think it makes much difference.                                               7\n",
      "                                                                                     ..\n",
      "You do not have to do it and there is no need to do it.                               1\n",
      "If the environment is such that it is inappropriate, you can always take it off.      1\n",
      "Some situations require you to use the thumb, but I don't think this is the case.     1\n",
      "What you need is a good reason to get out of bed.                                     1\n",
      "If, as you have indicated, you don't want to plan.                                    1\n",
      "Name: count, Length: 1189, dtype: int64\n"
     ]
    }
   ],
   "source": [
    "print(freq_sentence1)\n",
    "print(freq_sentence2)"
   ]
  },
  {
   "cell_type": "code",
   "execution_count": 25,
   "id": "e96293b8",
   "metadata": {
    "ExecuteTime": {
     "end_time": "2023-10-29T09:14:21.625684Z",
     "start_time": "2023-10-29T09:14:21.623118Z"
    }
   },
   "outputs": [
    {
     "name": "stdout",
     "output_type": "stream",
     "text": [
      "Source_1\n",
      "StackExchange Network: http://writers.stackexchange.com/questions/12166 Author: Lexi (http://writers.stackexchange.com/users/2410)                                                                                       38\n",
      "StackExchange Network: http://academia.stackexchange.com/questions/26950 Author: Dylan Richard Muir (http://academia.stackexchange.com/users/19984)                                                                      34\n",
      "StackExchange Network: http://workplace.stackexchange.com/questions/9526 Author: pdr (http://workplace.stackexchange.com/users/759) Last Editor: pdr (http://workplace.stackexchange.com/users/759)                      30\n",
      "StackExchange Network: http://academia.stackexchange.com/questions/26241 Author: BigPants (http://academia.stackexchange.com/users/19703) Last Editor: BigPants (http://academia.stackexchange.com/users/19703)          28\n",
      "StackExchange Network: http://writers.stackexchange.com/questions/10368 Author: Driss Zouak (http://writers.stackexchange.com/users/7897)                                                                                23\n",
      "                                                                                                                                                                                                                         ..\n",
      "StackExchange Network: http://diy.stackexchange.com/questions/27915 Author: Chris Cudmore (http://diy.stackexchange.com/users/928)                                                                                        1\n",
      "StackExchange Network: http://parenting.stackexchange.com/questions/18423 Author: cubsker (http://parenting.stackexchange.com/users/13490)                                                                                1\n",
      "StackExchange Network: http://history.stackexchange.com/questions/1373 Author: Felix Goldberg (http://history.stackexchange.com/users/1569) Last Editor: Felix Goldberg (http://history.stackexchange.com/users/1569)     1\n",
      "StackExchange Network: http://cooking.stackexchange.com/questions/4854 Author: stephennmcdonald (http://cooking.stackexchange.com/users/1236)                                                                             1\n",
      "StackExchange Network: http://movies.stackexchange.com/questions/13560 Author: Aisha Smith (http://movies.stackexchange.com/users/14019)                                                                                  1\n",
      "Name: count, Length: 532, dtype: int64\n"
     ]
    }
   ],
   "source": [
    "print(freq_source1)"
   ]
  },
  {
   "cell_type": "code",
   "execution_count": 26,
   "id": "eab91fd8",
   "metadata": {
    "scrolled": true,
    "ExecuteTime": {
     "end_time": "2023-10-29T09:14:22.188031Z",
     "start_time": "2023-10-29T09:14:22.185108Z"
    }
   },
   "outputs": [
    {
     "name": "stdout",
     "output_type": "stream",
     "text": [
      "Source_2\n",
      "StackExchange Network: http://travel.stackexchange.com/questions/45030 Author: Vince (http://travel.stackexchange.com/users/3044) Last Editor: Vince (http://travel.stackexchange.com/users/3044)                                    13\n",
      "StackExchange Network: http://academia.stackexchange.com/questions/26241 Author: BigPants (http://academia.stackexchange.com/users/19703) Last Editor: BigPants (http://academia.stackexchange.com/users/19703)                       9\n",
      "StackExchange Network: http://academia.stackexchange.com/questions/27341 Author: yo' (http://academia.stackexchange.com/users/1471)                                                                                                   9\n",
      "StackExchange Network: http://pets.stackexchange.com/questions/6824 Author: Delusion (http://pets.stackexchange.com/users/3783)                                                                                                       7\n",
      "StackExchange Network: http://diy.stackexchange.com/questions/60783 Author: Grant (http://diy.stackexchange.com/users/7120) Last Editor: Grant (http://diy.stackexchange.com/users/7120)                                              7\n",
      "                                                                                                                                                                                                                                     ..\n",
      "StackExchange Network: http://writers.stackexchange.com/questions/4162 Author: John Smithers (http://writers.stackexchange.com/users/99)                                                                                              1\n",
      "StackExchange Network: http://workplace.stackexchange.com/questions/6500 Author: Affable Geek (http://workplace.stackexchange.com/users/33) Last Editor: Affable Geek (http://workplace.stackexchange.com/users/33)                   1\n",
      "StackExchange Network: http://music.stackexchange.com/questions/14829 Author: JCPedroza (http://music.stackexchange.com/users/7218) Last Editor: JCPedroza (http://music.stackexchange.com/users/7218)                                1\n",
      "StackExchange Network: http://productivity.stackexchange.com/questions/2 Author: TK-421 (http://productivity.stackexchange.com/users/8126) [CommunityWiki] Last Editor: TK-421 (http://productivity.stackexchange.com/users/8126)     1\n",
      "StackExchange Network: http://travel.stackexchange.com/questions/3377 Author: user141 (No OwnerUserId. Deleted?)                                                                                                                      1\n",
      "Name: count, Length: 1189, dtype: int64\n"
     ]
    }
   ],
   "source": [
    "print(freq_source2)"
   ]
  },
  {
   "cell_type": "markdown",
   "id": "9e9ac330",
   "metadata": {},
   "source": [
    "Wir können sehen, dass es insgesamt pro Spalte (Sentence_1-2), insgesamt 1568 Sätze gibt.\n",
    "Für die erste Spalte gibt es 532 verschiedene Sätze, und für Spalte 2 533 verschiedene Sätze.\n",
    "Insgesamt sind die Spalten aber Disjunkt, dass heißt, ein Satz in der ersten Spalte kommt NICHT in der zweiten Spalte vor.\n",
    "\n",
    "Der am meisten vorkommende Satz in Spalte 1 ist: \"You need to read a lot to know what you like and what you don't.\" mit Häufigkeit 38 und in Spalte 2 der Satz: \"It depends on your country.\" mit Häufigkeit 13.\n",
    "\n",
    "Ebenfalls sind die Source-Spalten Disjunkt, mit ebenfalls 1568 Einträgen.\n",
    "Für die erste Source-Spalte haben wir 533 diverse, und für die zweite Spalte 1190 diverse Einträge.\n",
    "\n",
    "Die am meisten auftauchende Quelle in Spalte 1 ist (mit Häufigkeit 38): \"http://writers.stackexchange.com/questions/12166\"\n",
    "Die am meisten auftauchende Quelle in Spalte 2 ist (mit Häfugkeit 13):  \"http://travel.stackexchange.com/questions/45030\""
   ]
  },
  {
   "cell_type": "code",
   "execution_count": null,
   "id": "7e81a9ad",
   "metadata": {},
   "outputs": [],
   "source": []
  }
 ],
 "metadata": {
  "kernelspec": {
   "display_name": "Python 3",
   "language": "python",
   "name": "python3"
  },
  "language_info": {
   "codemirror_mode": {
    "name": "ipython",
    "version": 3
   },
   "file_extension": ".py",
   "mimetype": "text/x-python",
   "name": "python",
   "nbconvert_exporter": "python",
   "pygments_lexer": "ipython3",
   "version": "3.8.8"
  }
 },
 "nbformat": 4,
 "nbformat_minor": 5
}
