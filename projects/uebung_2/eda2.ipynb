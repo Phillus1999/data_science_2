{
 "cells": [
  {
   "cell_type": "code",
   "execution_count": 124,
   "id": "initial_id",
   "metadata": {
    "collapsed": true,
    "ExecuteTime": {
     "end_time": "2023-10-29T08:59:38.589204Z",
     "start_time": "2023-10-29T08:59:38.584065Z"
    }
   },
   "outputs": [],
   "source": [
    "import pandas as pd\n",
    "import numpy as np\n",
    "import matplotlib.pyplot as plt\n",
    "import seaborn as sns\n"
   ]
  },
  {
   "cell_type": "markdown",
   "source": [
    "# 1 Load and clean data"
   ],
   "metadata": {
    "collapsed": false
   },
   "id": "691c614794581799"
  },
  {
   "cell_type": "code",
   "execution_count": 125,
   "outputs": [],
   "source": [
    "# load answer data\n",
    "# deleted line 801 in both files because it caused an error (had no score -> not usable for training)\n",
    "column_names = ['Text String 1', 'Text String 2', 'Metadata 1', 'Metadata 2']\n",
    "df = pd.read_csv('sts2016-english-with-gs-v1.0/STS2016.input.answer-answer.txt', sep='\\t', header=None, names=column_names)\n",
    "# load gs data\n",
    "data = []\n",
    "with open('sts2016-english-with-gs-v1.0/STS2016.gs.answer-answer.txt', 'r') as file:\n",
    "    for line in file:\n",
    "        # If the line is empty or just contains a newline character, add NaN\n",
    "        if line.strip() == '':\n",
    "            data.append([np.nan])\n",
    "        else:\n",
    "            # Otherwise, add the value to the data list\n",
    "            data.append([line.strip()])\n",
    "            \n",
    "gs = pd.DataFrame(data, columns=['score'])"
   ],
   "metadata": {
    "collapsed": false,
    "ExecuteTime": {
     "end_time": "2023-10-29T08:59:38.775380Z",
     "start_time": "2023-10-29T08:59:38.761365Z"
    }
   },
   "id": "a5bae06e0365dc55"
  },
  {
   "cell_type": "code",
   "execution_count": 126,
   "outputs": [
    {
     "name": "stdout",
     "output_type": "stream",
     "text": [
      "<class 'pandas.core.frame.DataFrame'>\n",
      "RangeIndex: 1571 entries, 0 to 1570\n",
      "Data columns (total 4 columns):\n",
      " #   Column         Non-Null Count  Dtype \n",
      "---  ------         --------------  ----- \n",
      " 0   Text String 1  1571 non-null   object\n",
      " 1   Text String 2  1571 non-null   object\n",
      " 2   Metadata 1     1571 non-null   object\n",
      " 3   Metadata 2     1571 non-null   object\n",
      "dtypes: object(4)\n",
      "memory usage: 49.2+ KB\n",
      "<class 'pandas.core.frame.DataFrame'>\n",
      "RangeIndex: 1571 entries, 0 to 1570\n",
      "Data columns (total 1 columns):\n",
      " #   Column  Non-Null Count  Dtype \n",
      "---  ------  --------------  ----- \n",
      " 0   score   254 non-null    object\n",
      "dtypes: object(1)\n",
      "memory usage: 12.4+ KB\n"
     ]
    }
   ],
   "source": [
    "df.info()\n",
    "gs.info()"
   ],
   "metadata": {
    "collapsed": false,
    "ExecuteTime": {
     "end_time": "2023-10-29T08:59:38.896825Z",
     "start_time": "2023-10-29T08:59:38.875538Z"
    }
   },
   "id": "9c6f9f12b959cb33"
  },
  {
   "cell_type": "code",
   "execution_count": 127,
   "outputs": [
    {
     "data": {
      "text/plain": "                                          Text String 1  \\\n0                  Tasting it is the only reliable way.   \n1            I think it probably depends on your money.   \n2     You need to read a lot to know what you like a...   \n3     Obviously, the best book for you depends a lot...   \n4                           I've had this same problem.   \n...                                                 ...   \n1566                         You are on the right path.   \n1567                           This is a terrible idea.   \n1568                             I have the same thing.   \n1569  I don't think it makes any tremendous difference.   \n1570                        If you haven't, you should.   \n\n                                          Text String 2  \\\n0                          The way you have it is fine.   \n1                           It depends on your country.   \n2                               You don't have to know.   \n3     The answer will depend of course on what you'r...   \n4                        I had the same problem as you.   \n...                                                 ...   \n1566          You are right about the overtaking rules.   \n1567                                This is a bad idea.   \n1568    I have had the same issue last couple of years.   \n1569                    I don't think that there's any.   \n1570  If, as you have indicated, you don't want to p...   \n\n                                             Metadata 1  \\\n0     StackExchange Network: http://cooking.stackexc...   \n1     StackExchange Network: http://workplace.stacke...   \n2     StackExchange Network: http://writers.stackexc...   \n3     StackExchange Network: http://travel.stackexch...   \n4     StackExchange Network: http://diy.stackexchang...   \n...                                                 ...   \n1566  StackExchange Network: http://money.stackexcha...   \n1567  StackExchange Network: http://fitness.stackexc...   \n1568  StackExchange Network: http://diy.stackexchang...   \n1569  StackExchange Network: http://cooking.stackexc...   \n1570  StackExchange Network: http://workplace.stacke...   \n\n                                             Metadata 2 score  \n0     StackExchange Network: http://writers.stackexc...   NaN  \n1     StackExchange Network: http://travel.stackexch...   NaN  \n2     StackExchange Network: http://academia.stackex...   NaN  \n3     StackExchange Network: http://travel.stackexch...   NaN  \n4     StackExchange Network: http://cooking.stackexc...   NaN  \n...                                                 ...   ...  \n1566  StackExchange Network: http://travel.stackexch...   NaN  \n1567  StackExchange Network: http://cooking.stackexc...     5  \n1568  StackExchange Network: http://pets.stackexchan...   NaN  \n1569  StackExchange Network: http://academia.stackex...   NaN  \n1570  StackExchange Network: http://travel.stackexch...   NaN  \n\n[1571 rows x 5 columns]",
      "text/html": "<div>\n<style scoped>\n    .dataframe tbody tr th:only-of-type {\n        vertical-align: middle;\n    }\n\n    .dataframe tbody tr th {\n        vertical-align: top;\n    }\n\n    .dataframe thead th {\n        text-align: right;\n    }\n</style>\n<table border=\"1\" class=\"dataframe\">\n  <thead>\n    <tr style=\"text-align: right;\">\n      <th></th>\n      <th>Text String 1</th>\n      <th>Text String 2</th>\n      <th>Metadata 1</th>\n      <th>Metadata 2</th>\n      <th>score</th>\n    </tr>\n  </thead>\n  <tbody>\n    <tr>\n      <th>0</th>\n      <td>Tasting it is the only reliable way.</td>\n      <td>The way you have it is fine.</td>\n      <td>StackExchange Network: http://cooking.stackexc...</td>\n      <td>StackExchange Network: http://writers.stackexc...</td>\n      <td>NaN</td>\n    </tr>\n    <tr>\n      <th>1</th>\n      <td>I think it probably depends on your money.</td>\n      <td>It depends on your country.</td>\n      <td>StackExchange Network: http://workplace.stacke...</td>\n      <td>StackExchange Network: http://travel.stackexch...</td>\n      <td>NaN</td>\n    </tr>\n    <tr>\n      <th>2</th>\n      <td>You need to read a lot to know what you like a...</td>\n      <td>You don't have to know.</td>\n      <td>StackExchange Network: http://writers.stackexc...</td>\n      <td>StackExchange Network: http://academia.stackex...</td>\n      <td>NaN</td>\n    </tr>\n    <tr>\n      <th>3</th>\n      <td>Obviously, the best book for you depends a lot...</td>\n      <td>The answer will depend of course on what you'r...</td>\n      <td>StackExchange Network: http://travel.stackexch...</td>\n      <td>StackExchange Network: http://travel.stackexch...</td>\n      <td>NaN</td>\n    </tr>\n    <tr>\n      <th>4</th>\n      <td>I've had this same problem.</td>\n      <td>I had the same problem as you.</td>\n      <td>StackExchange Network: http://diy.stackexchang...</td>\n      <td>StackExchange Network: http://cooking.stackexc...</td>\n      <td>NaN</td>\n    </tr>\n    <tr>\n      <th>...</th>\n      <td>...</td>\n      <td>...</td>\n      <td>...</td>\n      <td>...</td>\n      <td>...</td>\n    </tr>\n    <tr>\n      <th>1566</th>\n      <td>You are on the right path.</td>\n      <td>You are right about the overtaking rules.</td>\n      <td>StackExchange Network: http://money.stackexcha...</td>\n      <td>StackExchange Network: http://travel.stackexch...</td>\n      <td>NaN</td>\n    </tr>\n    <tr>\n      <th>1567</th>\n      <td>This is a terrible idea.</td>\n      <td>This is a bad idea.</td>\n      <td>StackExchange Network: http://fitness.stackexc...</td>\n      <td>StackExchange Network: http://cooking.stackexc...</td>\n      <td>5</td>\n    </tr>\n    <tr>\n      <th>1568</th>\n      <td>I have the same thing.</td>\n      <td>I have had the same issue last couple of years.</td>\n      <td>StackExchange Network: http://diy.stackexchang...</td>\n      <td>StackExchange Network: http://pets.stackexchan...</td>\n      <td>NaN</td>\n    </tr>\n    <tr>\n      <th>1569</th>\n      <td>I don't think it makes any tremendous difference.</td>\n      <td>I don't think that there's any.</td>\n      <td>StackExchange Network: http://cooking.stackexc...</td>\n      <td>StackExchange Network: http://academia.stackex...</td>\n      <td>NaN</td>\n    </tr>\n    <tr>\n      <th>1570</th>\n      <td>If you haven't, you should.</td>\n      <td>If, as you have indicated, you don't want to p...</td>\n      <td>StackExchange Network: http://workplace.stacke...</td>\n      <td>StackExchange Network: http://travel.stackexch...</td>\n      <td>NaN</td>\n    </tr>\n  </tbody>\n</table>\n<p>1571 rows × 5 columns</p>\n</div>"
     },
     "execution_count": 127,
     "metadata": {},
     "output_type": "execute_result"
    }
   ],
   "source": [
    "# merge dataframes\n",
    "df = pd.concat([df, gs], axis=1) # concat hier, weil wir keine gemeinsame Spalte haben aber die Reihenfolge gleich ist\n",
    "df"
   ],
   "metadata": {
    "collapsed": false,
    "ExecuteTime": {
     "end_time": "2023-10-29T08:59:39.007623Z",
     "start_time": "2023-10-29T08:59:39.002499Z"
    }
   },
   "id": "73561f8f130f85d7"
  },
  {
   "cell_type": "code",
   "execution_count": 128,
   "outputs": [],
   "source": [
    "# clean data\n",
    "# 1 convert score to float\n",
    "df['score'] = pd.to_numeric(df['score'], errors='coerce') # coerce -> if error, set to NaN\n",
    "\n",
    "# this is the pattern we want to extract (made by Chat.GPT)\n",
    "pattern = r'^(.*): (\\bhttps?://\\S+)'\n",
    "\n",
    "# apply regex to metadata1 and metadata2 and store it in source_1 source_1_url source_2 source_2_url\n",
    "df[['source_1', 'source_1_url']] = df['Metadata 1'].str.extract(pattern)\n",
    "df[['source_2', 'source_2_url']] = df['Metadata 2'].str.extract(pattern)\n",
    "\n",
    "# rename all columns to use snake_case\n",
    "df.columns = df.columns.str.lower().str.replace(' ', '_')\n",
    "df.columns = df.columns.str.strip(' ')"
   ],
   "metadata": {
    "collapsed": false,
    "ExecuteTime": {
     "end_time": "2023-10-29T08:59:39.129591Z",
     "start_time": "2023-10-29T08:59:39.127870Z"
    }
   },
   "id": "5f5e9f76028a9d7c"
  },
  {
   "cell_type": "code",
   "execution_count": 129,
   "outputs": [
    {
     "name": "stdout",
     "output_type": "stream",
     "text": [
      "<class 'pandas.core.frame.DataFrame'>\n",
      "RangeIndex: 1571 entries, 0 to 1570\n",
      "Data columns (total 9 columns):\n",
      " #   Column         Non-Null Count  Dtype  \n",
      "---  ------         --------------  -----  \n",
      " 0   text_string_1  1571 non-null   object \n",
      " 1   text_string_2  1571 non-null   object \n",
      " 2   metadata_1     1571 non-null   object \n",
      " 3   metadata_2     1571 non-null   object \n",
      " 4   score          254 non-null    float64\n",
      " 5   source_1       1571 non-null   object \n",
      " 6   source_1_url   1571 non-null   object \n",
      " 7   source_2       1571 non-null   object \n",
      " 8   source_2_url   1571 non-null   object \n",
      "dtypes: float64(1), object(8)\n",
      "memory usage: 110.6+ KB\n"
     ]
    },
    {
     "data": {
      "text/plain": "                                       text_string_1  \\\n0               Tasting it is the only reliable way.   \n1         I think it probably depends on your money.   \n2  You need to read a lot to know what you like a...   \n3  Obviously, the best book for you depends a lot...   \n4                        I've had this same problem.   \n\n                                       text_string_2  \\\n0                       The way you have it is fine.   \n1                        It depends on your country.   \n2                            You don't have to know.   \n3  The answer will depend of course on what you'r...   \n4                     I had the same problem as you.   \n\n                                          metadata_1  \\\n0  StackExchange Network: http://cooking.stackexc...   \n1  StackExchange Network: http://workplace.stacke...   \n2  StackExchange Network: http://writers.stackexc...   \n3  StackExchange Network: http://travel.stackexch...   \n4  StackExchange Network: http://diy.stackexchang...   \n\n                                          metadata_2  score  \\\n0  StackExchange Network: http://writers.stackexc...    NaN   \n1  StackExchange Network: http://travel.stackexch...    NaN   \n2  StackExchange Network: http://academia.stackex...    NaN   \n3  StackExchange Network: http://travel.stackexch...    NaN   \n4  StackExchange Network: http://cooking.stackexc...    NaN   \n\n                source_1                                       source_1_url  \\\n0  StackExchange Network    http://cooking.stackexchange.com/questions/5611   \n1  StackExchange Network  http://workplace.stackexchange.com/questions/1755   \n2  StackExchange Network   http://writers.stackexchange.com/questions/12166   \n3  StackExchange Network     http://travel.stackexchange.com/questions/4582   \n4  StackExchange Network        http://diy.stackexchange.com/questions/2138   \n\n                source_2                                       source_2_url  \n0  StackExchange Network   http://writers.stackexchange.com/questions/11017  \n1  StackExchange Network    http://travel.stackexchange.com/questions/45030  \n2  StackExchange Network  http://academia.stackexchange.com/questions/26241  \n3  StackExchange Network    http://travel.stackexchange.com/questions/23436  \n4  StackExchange Network   http://cooking.stackexchange.com/questions/12500  ",
      "text/html": "<div>\n<style scoped>\n    .dataframe tbody tr th:only-of-type {\n        vertical-align: middle;\n    }\n\n    .dataframe tbody tr th {\n        vertical-align: top;\n    }\n\n    .dataframe thead th {\n        text-align: right;\n    }\n</style>\n<table border=\"1\" class=\"dataframe\">\n  <thead>\n    <tr style=\"text-align: right;\">\n      <th></th>\n      <th>text_string_1</th>\n      <th>text_string_2</th>\n      <th>metadata_1</th>\n      <th>metadata_2</th>\n      <th>score</th>\n      <th>source_1</th>\n      <th>source_1_url</th>\n      <th>source_2</th>\n      <th>source_2_url</th>\n    </tr>\n  </thead>\n  <tbody>\n    <tr>\n      <th>0</th>\n      <td>Tasting it is the only reliable way.</td>\n      <td>The way you have it is fine.</td>\n      <td>StackExchange Network: http://cooking.stackexc...</td>\n      <td>StackExchange Network: http://writers.stackexc...</td>\n      <td>NaN</td>\n      <td>StackExchange Network</td>\n      <td>http://cooking.stackexchange.com/questions/5611</td>\n      <td>StackExchange Network</td>\n      <td>http://writers.stackexchange.com/questions/11017</td>\n    </tr>\n    <tr>\n      <th>1</th>\n      <td>I think it probably depends on your money.</td>\n      <td>It depends on your country.</td>\n      <td>StackExchange Network: http://workplace.stacke...</td>\n      <td>StackExchange Network: http://travel.stackexch...</td>\n      <td>NaN</td>\n      <td>StackExchange Network</td>\n      <td>http://workplace.stackexchange.com/questions/1755</td>\n      <td>StackExchange Network</td>\n      <td>http://travel.stackexchange.com/questions/45030</td>\n    </tr>\n    <tr>\n      <th>2</th>\n      <td>You need to read a lot to know what you like a...</td>\n      <td>You don't have to know.</td>\n      <td>StackExchange Network: http://writers.stackexc...</td>\n      <td>StackExchange Network: http://academia.stackex...</td>\n      <td>NaN</td>\n      <td>StackExchange Network</td>\n      <td>http://writers.stackexchange.com/questions/12166</td>\n      <td>StackExchange Network</td>\n      <td>http://academia.stackexchange.com/questions/26241</td>\n    </tr>\n    <tr>\n      <th>3</th>\n      <td>Obviously, the best book for you depends a lot...</td>\n      <td>The answer will depend of course on what you'r...</td>\n      <td>StackExchange Network: http://travel.stackexch...</td>\n      <td>StackExchange Network: http://travel.stackexch...</td>\n      <td>NaN</td>\n      <td>StackExchange Network</td>\n      <td>http://travel.stackexchange.com/questions/4582</td>\n      <td>StackExchange Network</td>\n      <td>http://travel.stackexchange.com/questions/23436</td>\n    </tr>\n    <tr>\n      <th>4</th>\n      <td>I've had this same problem.</td>\n      <td>I had the same problem as you.</td>\n      <td>StackExchange Network: http://diy.stackexchang...</td>\n      <td>StackExchange Network: http://cooking.stackexc...</td>\n      <td>NaN</td>\n      <td>StackExchange Network</td>\n      <td>http://diy.stackexchange.com/questions/2138</td>\n      <td>StackExchange Network</td>\n      <td>http://cooking.stackexchange.com/questions/12500</td>\n    </tr>\n  </tbody>\n</table>\n</div>"
     },
     "execution_count": 129,
     "metadata": {},
     "output_type": "execute_result"
    }
   ],
   "source": [
    "df.info()\n",
    "df.head()"
   ],
   "metadata": {
    "collapsed": false,
    "ExecuteTime": {
     "end_time": "2023-10-29T08:59:39.283248Z",
     "start_time": "2023-10-29T08:59:39.277695Z"
    }
   },
   "id": "ddf27a119c8b708c"
  },
  {
   "cell_type": "markdown",
   "source": [],
   "metadata": {
    "collapsed": false
   },
   "id": "32ef446c6a97f7b7"
  },
  {
   "cell_type": "code",
   "execution_count": 129,
   "outputs": [],
   "source": [],
   "metadata": {
    "collapsed": false,
    "ExecuteTime": {
     "end_time": "2023-10-29T08:59:39.399499Z",
     "start_time": "2023-10-29T08:59:39.384862Z"
    }
   },
   "id": "d2f2359b4c278c0b"
  }
 ],
 "metadata": {
  "kernelspec": {
   "display_name": "Python 3",
   "language": "python",
   "name": "python3"
  },
  "language_info": {
   "codemirror_mode": {
    "name": "ipython",
    "version": 2
   },
   "file_extension": ".py",
   "mimetype": "text/x-python",
   "name": "python",
   "nbconvert_exporter": "python",
   "pygments_lexer": "ipython2",
   "version": "2.7.6"
  }
 },
 "nbformat": 4,
 "nbformat_minor": 5
}
