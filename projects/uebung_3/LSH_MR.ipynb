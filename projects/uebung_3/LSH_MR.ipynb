{
 "cells": [
  {
   "cell_type": "markdown",
   "source": [
    "# Min-Hashing und LSH mit Map-Reduce\n",
    "Für uns war es einfacher den Plan nicht nur theoretisch zu schreiben, sondern auch direkt einzlene Komponenten in \n",
    "Code umzusetzen, um genau zu Verstehen wie die einzelnen Schritte funktionieren (bzw. ob und wie man dann weiter machen kann). So sind die Code Zellen eine gute Hilfe dann später die Map-Reduce Jobs zu schreiben."
   ],
   "metadata": {
    "collapsed": false
   },
   "id": "4038255798bf0630"
  },
  {
   "cell_type": "markdown",
   "source": [
    "# 1 Laden der Daten (Mapper)\n",
    "Wir Laden die Daten aus dem Chunk Zeile für Zeile aus der Datei und speichern alle Texte in einer Liste für später. Wir haben uns hier dazu entschieden die Whitespaces nicht zu entfernen, da die Texte so oder so schon sehr kurz sind.\n",
    "\n",
    "**Das könnte in etwa so im Code umgesetzt werden**"
   ],
   "metadata": {
    "collapsed": false
   },
   "id": "3edfce3c7e219807"
  },
  {
   "cell_type": "code",
   "execution_count": 180,
   "outputs": [],
   "source": [
    "import numpy as np\n",
    "import scipy.sparse as sp"
   ],
   "metadata": {
    "collapsed": false,
    "ExecuteTime": {
     "end_time": "2023-11-06T13:31:16.302651Z",
     "start_time": "2023-11-06T13:31:16.265892Z"
    }
   },
   "id": "17205310b34a622b"
  },
  {
   "cell_type": "code",
   "execution_count": 181,
   "id": "initial_id",
   "metadata": {
    "collapsed": true,
    "ExecuteTime": {
     "end_time": "2023-11-06T13:31:16.315503Z",
     "start_time": "2023-11-06T13:31:16.270039Z"
    }
   },
   "outputs": [
    {
     "name": "stdout",
     "output_type": "stream",
     "text": [
      "Tasting it is the only reliable way.\n",
      "The way you have it is fine.\n",
      "I think it probably depends on your money.\n",
      "It depends on your country.\n",
      "You need to read a lot to know what you like and what you don't.\n"
     ]
    }
   ],
   "source": [
    "# lese alle Texte aus dem Chunk\n",
    "texts = []\n",
    "with open('sts2016-english-with-gs-v1.0/STS2016.input.answer-answer.txt', 'r') as f:\n",
    "    for line in f:\n",
    "        elements = line.strip().split('\\t')\n",
    "        texts.append(elements[0].replace('\\n', ''))\n",
    "        texts.append(elements[1])\n",
    "        \n",
    "for i in range(5):\n",
    "    print(texts[i])"
   ]
  },
  {
   "cell_type": "markdown",
   "source": [
    "# 2 Erstellen der k-shingles (Mapper)\n",
    "Hier erstellen wir für jeden Text eine Menge von Shingles der Länge k. Diese Mengen speichern wir auch in einer Liste, so kann jeder Mapper für sich in unserem Fall nachvollziehen, welches Shingle zu welchem Text gehört.\n",
    "\n",
    "**Das könnte in etwa so im Code umgesetzt werden**"
   ],
   "metadata": {
    "collapsed": false
   },
   "id": "d70a910a3b3b828"
  },
  {
   "cell_type": "code",
   "execution_count": 182,
   "outputs": [],
   "source": [
    "# erstelle für jeden Text eine Menge von Shingles der Länge k\n",
    "shingles_per_text = []\n",
    "k = 3\n",
    "for text in texts:\n",
    "    shingles_per_text.append(set([text[i:i + k] for i in range(len(text) - k + 1)]))"
   ],
   "metadata": {
    "collapsed": false,
    "ExecuteTime": {
     "end_time": "2023-11-06T13:31:16.355420Z",
     "start_time": "2023-11-06T13:31:16.300326Z"
    }
   },
   "id": "4b8fb92f2b0442b6"
  },
  {
   "cell_type": "markdown",
   "source": [
    "# 3 Erstelle für jede Menge von Shingles einen Bit-Vektor (Mapper)\n",
    "Nun möchten wir jede Menge von Shingels in einen Bit-Vektor umformen, sodass wir später die Min-Hashes berechnen können. Hier haben wir in Map-Reduce das Problem, dass wir das Universum nicht kennen/es nicht in den Speicher passt. An dieser Stelle können wir die Shingels hashen. Solange wir genügnend Buckets beim Hashing verwenden, hat jedes Shingle einen eindeutigen Hash-Value (Wenn man zufällige Hash-Kollisionen ignoriert. *Diese sind aber auch nicht schlimm, da wir durch Kollisionen nur falsch Positive erhalten*).\n",
    "Da dieser Vector sehr Sparse ist, können wir ihn in einer für solche Zwecke optimierten Datenstrucktur speichern. So haben wir mit der Hash-Funktion ein Universum simuliert und alle Bit-Vectoren auf die gleiche Länge gebracht für jeden Mapper.\n",
    "\n",
    "**Das könnte in etwa so im Code umgesetzt werden**"
   ],
   "metadata": {
    "collapsed": false
   },
   "id": "13794d66d7278751"
  },
  {
   "cell_type": "code",
   "execution_count": 183,
   "outputs": [
    {
     "name": "stdout",
     "output_type": "stream",
     "text": [
      "  (0, 4531013)\t1\n",
      "  (0, 1884614)\t1\n",
      "  (0, 1811527)\t1\n",
      "  (0, 2722827)\t1\n",
      "  (0, 4954700)\t1\n",
      "  (0, 1481296)\t1\n",
      "  (0, 1012950)\t1\n",
      "  (0, 3917146)\t1\n",
      "  (0, 3193822)\t1\n",
      "  (0, 4774560)\t1\n",
      "  (0, 1346785)\t1\n",
      "  (0, 1320738)\t1\n",
      "  (0, 635235)\t1\n",
      "  (0, 3235492)\t1\n",
      "  (0, 706151)\t1\n",
      "  (0, 992042)\t1\n",
      "  (0, 209005)\t1\n",
      "  (0, 1490034)\t1\n",
      "  (0, 462579)\t1\n",
      "  (0, 371510)\t1\n",
      "  (0, 2123576)\t1\n",
      "  (0, 4051514)\t1\n",
      "  (0, 2908093)\t1\n",
      "  (0, 4575553)\t1\n",
      "  (0, 1255745)\t1\n",
      "  (0, 110547)\t1\n",
      "  (0, 3712405)\t1\n",
      "  (0, 265883)\t1\n",
      "  (0, 3405602)\t1\n",
      "  (0, 1522852)\t1\n",
      "  (0, 166246)\t1\n",
      "  (0, 4819177)\t1\n",
      "  (0, 4124969)\t1\n",
      "  (0, 1227837)\t1\n"
     ]
    }
   ],
   "source": [
    "universum_dimension = 5000000\n",
    "bit_matrix = []\n",
    "\n",
    "for shingle_set in shingles_per_text:\n",
    "    indices = []\n",
    "    for shingle in shingle_set:\n",
    "        hash_value = hash(shingle) % universum_dimension\n",
    "        indices.append(hash_value)\n",
    "    # Data array filled with ones, same length as indices (for scipy)\n",
    "    data = [1] * len(indices)\n",
    "    # Since each shingle set is independent, indptr just starts at 0 and ends at the length of indices (for scipy)\n",
    "    indptr = [0, len(indices)]\n",
    "    # Construct the sparse vector\n",
    "    sparse_vector = sp.csr_matrix((data, indices, indptr), shape=(1, universum_dimension))\n",
    "    bit_matrix.append(sparse_vector)\n",
    "    \n",
    "# Print the first sparse vector\n",
    "for i in range(1):\n",
    "    print(bit_matrix[i])"
   ],
   "metadata": {
    "collapsed": false,
    "ExecuteTime": {
     "end_time": "2023-11-06T13:31:16.417038Z",
     "start_time": "2023-11-06T13:31:16.351778Z"
    }
   },
   "id": "82b35ff20bc9a96b"
  },
  {
   "cell_type": "markdown",
   "source": [
    "# 4 Berechne die Min-Hashes (Mapper)\n",
    "Nun kann der Mapper aus der Matrix der Signaturen die Min-Hash Signaturen berechnen.\n",
    "\n",
    "**Das könnte in etwa so im Code umgesetzt werden**"
   ],
   "metadata": {
    "collapsed": false
   },
   "id": "d156b104b5c8a921"
  },
  {
   "cell_type": "code",
   "execution_count": 184,
   "outputs": [],
   "source": [
    "# erstelle die hash-funktionen\n",
    "num_hash_functions = 500\n",
    "hash_functions = []\n",
    "for h in range(num_hash_functions):\n",
    "    a = np.random.randint(1, num_hash_functions * 100)\n",
    "    b = np.random.randint(1, num_hash_functions * 100)\n",
    "    # check if the hash function is already in the list\n",
    "    while (a, b) in hash_functions:\n",
    "        a = np.random.randint(1, 1000000)\n",
    "        b = np.random.randint(1, 1000000)\n",
    "    hash_functions.append((a, b))"
   ],
   "metadata": {
    "collapsed": false,
    "ExecuteTime": {
     "end_time": "2023-11-06T13:31:16.421336Z",
     "start_time": "2023-11-06T13:31:16.418250Z"
    }
   },
   "id": "f0b0c56593863d0e"
  },
  {
   "cell_type": "code",
   "execution_count": 185,
   "outputs": [],
   "source": [
    "# berechne die Min-Hashes, für jede hash-funktion\n",
    "from sympy import nextprime\n",
    "p = nextprime(universum_dimension * 10)\n",
    "minhash_signatures = []\n",
    "for vector in bit_matrix:\n",
    "    signature = []\n",
    "    for  a, b in hash_functions:\n",
    "        # berechne den minhash für die aktuelle hash-funktion\n",
    "        minhash = np.inf\n",
    "        for index in vector.indices:\n",
    "            minhash = min(minhash, (a * index + b) % p) % universum_dimension\n",
    "        signature.append(minhash)\n",
    "        \n",
    "    minhash_signatures.append(signature)"
   ],
   "metadata": {
    "collapsed": false,
    "ExecuteTime": {
     "end_time": "2023-11-06T13:32:14.117521Z",
     "start_time": "2023-11-06T13:31:16.429794Z"
    }
   },
   "id": "3dc462ec6685d08d"
  },
  {
   "cell_type": "code",
   "execution_count": 186,
   "outputs": [
    {
     "name": "stdout",
     "output_type": "stream",
     "text": [
      "[753226, 160096, 710873, 719685, 586472, 103637, 647061, 1606443, 655100, 543490]\n",
      "[596219, 836824, 1246461, 1129520, 1548318, 1183407, 35895, 1086999, 437754, 2987636]\n",
      "[801481, 977273, 156669, 427973, 417193, 103637, 281409, 2317197, 1618453, 1767034]\n",
      "[801481, 1931779, 946302, 406628, 1168467, 839500, 281409, 662925, 1854218, 2135914]\n",
      "[138116, 118222, 184785, 612072, 7627, 146793, 281409, 119578, 45588, 473035]\n"
     ]
    }
   ],
   "source": [
    "for i in range(5):\n",
    "    print(minhash_signatures[i][:10])"
   ],
   "metadata": {
    "collapsed": false,
    "ExecuteTime": {
     "end_time": "2023-11-06T13:32:14.122564Z",
     "start_time": "2023-11-06T13:32:14.119168Z"
    }
   },
   "id": "1a6e000ba07ab884"
  },
  {
   "cell_type": "markdown",
   "source": [
    "# 5 Nutze nun LSH und finde die Kandidatenpaare (Mapper)\n",
    "Jetzt können wir mithilfe der Min-Hash Signatuen LSH verwenden, um die Kandidatenpaare zu finden. Dazu müssen wir die Min-Hash Signaturen in Bänder aufteilen und dann die Bänder in Buckets sortieren. Die Buckets sind dann die Kandidatenpaare.\n",
    "\n",
    "**Das könnte in etwa so im Code umgesetzt werden**"
   ],
   "metadata": {
    "collapsed": false
   },
   "id": "456fe8fded6e63d5"
  },
  {
   "cell_type": "code",
   "execution_count": 187,
   "outputs": [],
   "source": [
    "def sort_bands_into_buckets(number_of_buckets=10000000, number_bands=64, number_rows_per_band=len(hash_functions) / 64):\n",
    "    buckets = dict()\n",
    "    # hier entspricht der col_index der text id und so kann der text später wieder gefunden werden\n",
    "    for col_index in range(len(minhash_signatures)):\n",
    "        for band_num in range(number_bands):\n",
    "            # betrachte den signature vector für die aktuelle text id\n",
    "            signature_vector = minhash_signatures[col_index]\n",
    "            \n",
    "            # erstelle das Band\n",
    "            start_index = int(band_num * number_rows_per_band)\n",
    "            end_index = int((band_num + 1) * number_rows_per_band)\n",
    "            band = signature_vector[start_index:end_index]\n",
    "            \n",
    "            # berechne den hash wert für das band\n",
    "            bucket_index = hash(str(band)) % number_of_buckets\n",
    "            \n",
    "            # füge den index des textes und den text in den Bucket hinzu\n",
    "            buckets[bucket_index] = buckets.get(bucket_index, []) + [(col_index, texts[col_index])]\n",
    "            \n",
    "    return buckets\n",
    "       "
   ],
   "metadata": {
    "collapsed": false,
    "ExecuteTime": {
     "end_time": "2023-11-06T13:32:14.127044Z",
     "start_time": "2023-11-06T13:32:14.122362Z"
    }
   },
   "id": "fa83644a9f105511"
  },
  {
   "cell_type": "markdown",
   "source": [
    "## 5.1 Ausgeben der Buckets an die Reducer\n",
    "\n",
    "An dieser Stelle können wir Buckets, die 2 oder mehr Elemente haben an die Reducer übergeben. Wir wählen als key den \"bucket index\", welcher einfach gemeinsame Hash-Wert aller Elemente im Bucket ist. Als value übergeben wir hier den Bucket, also die Liste der Elemente im Bucket.\n",
    "\n",
    "\n",
    "**In anderen Fällen würden wir hier nicht immer den Text in den Buckets speichern, da hierdurch potentiel große Mengen von Daten zwischen Mappern und Reducern getauscht werden. In anderen Anwendungen wäre es besser eine Text/Doc id zu bestimmen, das müsste man dann aber vorher verwalten.**"
   ],
   "metadata": {
    "collapsed": false
   },
   "id": "2558f7535417baec"
  },
  {
   "cell_type": "code",
   "execution_count": 188,
   "outputs": [],
   "source": [
    "buckets = sort_bands_into_buckets()"
   ],
   "metadata": {
    "collapsed": false,
    "ExecuteTime": {
     "end_time": "2023-11-06T13:32:14.558003Z",
     "start_time": "2023-11-06T13:32:14.244034Z"
    }
   },
   "id": "72e5b5ea6df6389f"
  },
  {
   "cell_type": "markdown",
   "source": [
    "# 6 Finde die Kandidatenpaare (Reducer)\n",
    "Da jeder Reducer einen Bucket mit mehreren Elementen bekommt, kann er nun die Kandidatenpaare finden. Dazu müssen wir nur alle Paare in einem Bucket finden und zurückgeben. Im code werden hier zwar die Tupel mit Text ausgegeben. Im Map-Reduce ist es aber sinnvoller folgendes auszugeben: key=(id1, id2), value=(text1,text2). Hierbei entfernen wir sofort duplikate durch die Wahl des Schlüssels, wenn mehrere Reducer die gleichen Paare finden. Auch ist hier wieder anzumerken, dass es in hinsicht auf eine Optimierung auch besser ist als Value nicht den Text zu speichern, sondern eine Text/Doc id. So können wir die Datenmenge die zwischen Mappern und Reducern getauscht wird minimieren."
   ],
   "metadata": {
    "collapsed": false
   },
   "id": "e95c72633634cf93"
  },
  {
   "cell_type": "code",
   "execution_count": 189,
   "outputs": [],
   "source": [
    "def find_candidate_pairs(buckets):    \n",
    "    candidate_pairs = set()\n",
    "    for bucket in buckets.values():\n",
    "        for i in range(len(bucket)):\n",
    "            for j in range(i + 1, len(bucket)):\n",
    "                candidate_pairs.add((bucket[i], bucket[j]))\n",
    "    return candidate_pairs"
   ],
   "metadata": {
    "collapsed": false,
    "ExecuteTime": {
     "end_time": "2023-11-06T13:32:14.562688Z",
     "start_time": "2023-11-06T13:32:14.559050Z"
    }
   },
   "id": "d33f524eda4e4d67"
  },
  {
   "cell_type": "code",
   "execution_count": 190,
   "outputs": [],
   "source": [
    "candidate_pairs = find_candidate_pairs(buckets)"
   ],
   "metadata": {
    "collapsed": false,
    "ExecuteTime": {
     "end_time": "2023-11-06T13:32:14.662327Z",
     "start_time": "2023-11-06T13:32:14.604821Z"
    }
   },
   "id": "d794f4b8be214055"
  },
  {
   "cell_type": "code",
   "execution_count": 191,
   "outputs": [
    {
     "name": "stdout",
     "output_type": "stream",
     "text": [
      "((776, 'There are a few things you can do: '), (1258, 'There are a few things you can do: '))\n",
      "((1515, \"I don't think that there's any.\"), (1916, \"I don't think that there's any.\"))\n",
      "((592, 'It depends on what you want to do next, and where you want to do it.'), (668, 'It depends on what you want to do next, and where you want to do it.'))\n",
      "((1702, \"It depends on how it's used.\"), (1884, \"It depends on how it's used.\"))\n",
      "((230, 'It depends on what they are.'), (1558, 'It depends on what you want to do next, and where you want to do it.'))\n"
     ]
    }
   ],
   "source": [
    "# print the first 10 candidate pairs\n",
    "for i, pair in enumerate(candidate_pairs):\n",
    "    if i == 5:\n",
    "        break\n",
    "    print(pair)"
   ],
   "metadata": {
    "collapsed": false,
    "ExecuteTime": {
     "end_time": "2023-11-06T13:32:14.666940Z",
     "start_time": "2023-11-06T13:32:14.663229Z"
    }
   },
   "id": "40c7243b55756bc8"
  },
  {
   "cell_type": "markdown",
   "source": [
    "# Bonus: Berechnen der Jaccard Similarity für die Paare"
   ],
   "metadata": {
    "collapsed": false
   },
   "id": "dac39d96c2f533b9"
  },
  {
   "cell_type": "code",
   "execution_count": 192,
   "outputs": [],
   "source": [
    "import pandas as pd\n",
    "import matplotlib.pyplot as plt\n",
    "import seaborn as sns"
   ],
   "metadata": {
    "collapsed": false,
    "ExecuteTime": {
     "end_time": "2023-11-06T13:32:14.667546Z",
     "start_time": "2023-11-06T13:32:14.665810Z"
    }
   },
   "id": "50a4d6ab7e94af8c"
  },
  {
   "cell_type": "code",
   "execution_count": 193,
   "outputs": [],
   "source": [
    "# erstelle einen DF mit den Paaren\n",
    "df = pd.DataFrame({'id1': [pair[0][0] for pair in candidate_pairs],\n",
    "                   'text1': [pair[0][1] for pair in candidate_pairs],\n",
    "                   'id2': [pair[1][0] for pair in candidate_pairs],\n",
    "                   'text2': [pair[1][1] for pair in candidate_pairs]})"
   ],
   "metadata": {
    "collapsed": false,
    "ExecuteTime": {
     "end_time": "2023-11-06T13:32:14.677719Z",
     "start_time": "2023-11-06T13:32:14.675563Z"
    }
   },
   "id": "8fd9752b64a99d9c"
  },
  {
   "cell_type": "code",
   "execution_count": 194,
   "outputs": [],
   "source": [
    "def get_jaccard_sim(id1, id2):\n",
    "    # finde die shingles für die beiden texte\n",
    "    shingles1 = shingles_per_text[id1]\n",
    "    shingles2 = shingles_per_text[id2]\n",
    "    \n",
    "    # berechne die Jaccard Similarity\n",
    "    return len(shingles1.intersection(shingles2)) / len(shingles1.union(shingles2))"
   ],
   "metadata": {
    "collapsed": false,
    "ExecuteTime": {
     "end_time": "2023-11-06T13:32:14.681672Z",
     "start_time": "2023-11-06T13:32:14.678819Z"
    }
   },
   "id": "a444547325e2972c"
  },
  {
   "cell_type": "code",
   "execution_count": 195,
   "outputs": [],
   "source": [
    "df['jaccard_sim'] = df.apply(lambda row: get_jaccard_sim(row['id1'], row['id2']), axis=1)"
   ],
   "metadata": {
    "collapsed": false,
    "ExecuteTime": {
     "end_time": "2023-11-06T13:32:14.785137Z",
     "start_time": "2023-11-06T13:32:14.680961Z"
    }
   },
   "id": "afa875c44b8d79cb"
  },
  {
   "cell_type": "code",
   "execution_count": 196,
   "outputs": [
    {
     "data": {
      "text/plain": "        id1                                              text1   id2  \\\n0       776                There are a few things you can do:   1258   \n1      1515                    I don't think that there's any.  1916   \n2       592  It depends on what you want to do next, and wh...   668   \n3      1702                       It depends on how it's used.  1884   \n4       230                       It depends on what they are.  1558   \n...     ...                                                ...   ...   \n15377    96                                  You should do it.  2810   \n15378   834                 All of the answers above are good.  2074   \n15379  2323               They just don't want you to know it.  2555   \n15380   328  You just have to base your answer on what you ...  2032   \n15381   889                          You don't have to prepay.  2808   \n\n                                                   text2  jaccard_sim  \n0                    There are a few things you can do:      1.000000  \n1                        I don't think that there's any.     1.000000  \n2      It depends on what you want to do next, and wh...     1.000000  \n3                           It depends on how it's used.     1.000000  \n4      It depends on what you want to do next, and wh...     0.305085  \n...                                                  ...          ...  \n15377                                  You should do it.     1.000000  \n15378                               Do you have to wait?     0.020833  \n15379               They just don't want you to know it.     1.000000  \n15380  You just have to base your answer on what you ...     1.000000  \n15381                           You don't have to worry.     0.551724  \n\n[15382 rows x 5 columns]",
      "text/html": "<div>\n<style scoped>\n    .dataframe tbody tr th:only-of-type {\n        vertical-align: middle;\n    }\n\n    .dataframe tbody tr th {\n        vertical-align: top;\n    }\n\n    .dataframe thead th {\n        text-align: right;\n    }\n</style>\n<table border=\"1\" class=\"dataframe\">\n  <thead>\n    <tr style=\"text-align: right;\">\n      <th></th>\n      <th>id1</th>\n      <th>text1</th>\n      <th>id2</th>\n      <th>text2</th>\n      <th>jaccard_sim</th>\n    </tr>\n  </thead>\n  <tbody>\n    <tr>\n      <th>0</th>\n      <td>776</td>\n      <td>There are a few things you can do:</td>\n      <td>1258</td>\n      <td>There are a few things you can do:</td>\n      <td>1.000000</td>\n    </tr>\n    <tr>\n      <th>1</th>\n      <td>1515</td>\n      <td>I don't think that there's any.</td>\n      <td>1916</td>\n      <td>I don't think that there's any.</td>\n      <td>1.000000</td>\n    </tr>\n    <tr>\n      <th>2</th>\n      <td>592</td>\n      <td>It depends on what you want to do next, and wh...</td>\n      <td>668</td>\n      <td>It depends on what you want to do next, and wh...</td>\n      <td>1.000000</td>\n    </tr>\n    <tr>\n      <th>3</th>\n      <td>1702</td>\n      <td>It depends on how it's used.</td>\n      <td>1884</td>\n      <td>It depends on how it's used.</td>\n      <td>1.000000</td>\n    </tr>\n    <tr>\n      <th>4</th>\n      <td>230</td>\n      <td>It depends on what they are.</td>\n      <td>1558</td>\n      <td>It depends on what you want to do next, and wh...</td>\n      <td>0.305085</td>\n    </tr>\n    <tr>\n      <th>...</th>\n      <td>...</td>\n      <td>...</td>\n      <td>...</td>\n      <td>...</td>\n      <td>...</td>\n    </tr>\n    <tr>\n      <th>15377</th>\n      <td>96</td>\n      <td>You should do it.</td>\n      <td>2810</td>\n      <td>You should do it.</td>\n      <td>1.000000</td>\n    </tr>\n    <tr>\n      <th>15378</th>\n      <td>834</td>\n      <td>All of the answers above are good.</td>\n      <td>2074</td>\n      <td>Do you have to wait?</td>\n      <td>0.020833</td>\n    </tr>\n    <tr>\n      <th>15379</th>\n      <td>2323</td>\n      <td>They just don't want you to know it.</td>\n      <td>2555</td>\n      <td>They just don't want you to know it.</td>\n      <td>1.000000</td>\n    </tr>\n    <tr>\n      <th>15380</th>\n      <td>328</td>\n      <td>You just have to base your answer on what you ...</td>\n      <td>2032</td>\n      <td>You just have to base your answer on what you ...</td>\n      <td>1.000000</td>\n    </tr>\n    <tr>\n      <th>15381</th>\n      <td>889</td>\n      <td>You don't have to prepay.</td>\n      <td>2808</td>\n      <td>You don't have to worry.</td>\n      <td>0.551724</td>\n    </tr>\n  </tbody>\n</table>\n<p>15382 rows × 5 columns</p>\n</div>"
     },
     "execution_count": 196,
     "metadata": {},
     "output_type": "execute_result"
    }
   ],
   "source": [
    "df"
   ],
   "metadata": {
    "collapsed": false,
    "ExecuteTime": {
     "end_time": "2023-11-06T13:32:14.790563Z",
     "start_time": "2023-11-06T13:32:14.788239Z"
    }
   },
   "id": "9f66ded4322a29f2"
  },
  {
   "cell_type": "code",
   "execution_count": 197,
   "outputs": [
    {
     "name": "stdout",
     "output_type": "stream",
     "text": [
      "Anzahl der Kandidatenpaare: 15382\n",
      "Anzahl der Kandidatenpaare mit Jaccard Similarity 1: 8838\n",
      "Anzahl der Kandidatenpaare mit Jaccard Similarity 0: 557\n",
      "Durchschnittliche Jaccard Similarity: 0.6945414365318491\n"
     ]
    }
   ],
   "source": [
    "print(f'Anzahl der Kandidatenpaare: {len(df)}')\n",
    "print(f'Anzahl der Kandidatenpaare mit Jaccard Similarity 1: {len(df[df[\"jaccard_sim\"] == 1])}')\n",
    "print(f'Anzahl der Kandidatenpaare mit Jaccard Similarity 0: {len(df[df[\"jaccard_sim\"] == 0])}')\n",
    "print(f'Durchschnittliche Jaccard Similarity: {df[\"jaccard_sim\"].mean()}')"
   ],
   "metadata": {
    "collapsed": false,
    "ExecuteTime": {
     "end_time": "2023-11-06T13:32:14.795034Z",
     "start_time": "2023-11-06T13:32:14.791345Z"
    }
   },
   "id": "85070ce73006640c"
  },
  {
   "cell_type": "code",
   "execution_count": 198,
   "outputs": [
    {
     "data": {
      "text/plain": "<Figure size 640x480 with 1 Axes>",
      "image/png": "[encoded data removed]"
     },
     "metadata": {},
     "output_type": "display_data"
    }
   ],
   "source": [
    "# plot die Jaccard Similarity ohne Gleichheit\n",
    "sns.histplot(df[df['jaccard_sim'] != 1]['jaccard_sim'])\n",
    "plt.title('Jaccard Similarity der Kandidatenpaare (ohne Gleichheit)')\n",
    "plt.show()"
   ],
   "metadata": {
    "collapsed": false,
    "ExecuteTime": {
     "end_time": "2023-11-06T13:32:14.902977Z",
     "start_time": "2023-11-06T13:32:14.794886Z"
    }
   },
   "id": "2eb5d7a5de47bdbf"
  },
  {
   "cell_type": "markdown",
   "source": [
    "# Schlusswort\n",
    "Hier sind die Hyperparemeter in keinster Weise optimiert, dennoch war es für die generellen Überlegungen hilfreich das LSH zuerst ohne Map-Reduce zu verwenden um zu prüfen, dass die Ideen umsetzbar sind. Man kann natürlich auch an vielen Stellen für Map-Reduce auch weiter Optimieren, das würde dann aber den Rahmen der Aufgabe sprengen."
   ],
   "metadata": {
    "collapsed": false
   },
   "id": "37abd831732f2ac7"
  },
  {
   "cell_type": "code",
   "execution_count": 198,
   "outputs": [],
   "source": [],
   "metadata": {
    "collapsed": false,
    "ExecuteTime": {
     "end_time": "2023-11-06T13:32:14.903079Z",
     "start_time": "2023-11-06T13:32:14.891127Z"
    }
   },
   "id": "28a2287dcd2009c0"
  }
 ],
 "metadata": {
  "kernelspec": {
   "display_name": "Python 3",
   "language": "python",
   "name": "python3"
  },
  "language_info": {
   "codemirror_mode": {
    "name": "ipython",
    "version": 2
   },
   "file_extension": ".py",
   "mimetype": "text/x-python",
   "name": "python",
   "nbconvert_exporter": "python",
   "pygments_lexer": "ipython2",
   "version": "2.7.6"
  }
 },
 "nbformat": 4,
 "nbformat_minor": 5
}
