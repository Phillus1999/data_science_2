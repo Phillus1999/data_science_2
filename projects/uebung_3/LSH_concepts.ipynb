{
 "cells": [
  {
   "cell_type": "markdown",
   "source": [
    "# Concepts\n",
    "\n",
    "## Mapper - Read file\n",
    "For each Text we create a set of k-shingles\n",
    "we need to pic the k carefulls so any given shingle is unique and we don't have too many shingles k=5 seems to be a good choice\n",
    "\n",
    "## Mapper - make shingle-sets\n",
    "We hash the shingles to reduce data size and to make the comparison of the shingles easier\n",
    "\n",
    "\n",
    "---\n",
    "##### What if all shingle sets don't fit into main memory and we cannot make a universal-set?\n",
    "---\n",
    "\n",
    "*In map reduce we don't need to make a universal-set and calculate Bit-Vectors because we use Min-Hashing to approximate the Jaccard-Distance of two Sets ,this works because if a Hash function can put each shingle into a bucket and we have as many or more buckets then Shingles in the master set, then the hash function simulates the master set and because we use the min() property this is the same as permuting the characteristic Matrix*\n",
    "\n",
    "Hierzu hilft es sich vorzustellen, dass jeder bucket der minhash funktion einer Zeile der Charakteristischen Matrix entspricht, und durch die min() eigenschaft wir dann quasi eine Permutation auf allen Spalten gleichzeitig machen, da gleiche Elemente den gleichen Hashwert haben und somit in den gleichen Bucket kommen, wir ignorieren hier, dass wir auch hash-kollisionen haben können, da wir eine sehr große anzahl an buckets haben und die wahrscheinlichkeit für eine kollision sehr gering ist, oder im Zweifel zu einem Falsch positiven führt, was nicht schlimm ist, da wir ja nur eine Approximation der Jaccard-Distanz wollen.\n",
    "\n",
    "## Mapper - calculate the MinHash-Signature for shingle set\n",
    "We don't need to calculate the Characteristic Matrix because we use Min-Hashing to approximate the Jaccard-Distance of two Sets we just need to find the right bucket-size therfore approximate the maximum number of shingles(or use a very large prime number ?)\n",
    "\n",
    "\n",
    "## Mapper - calculate the LSH-Bucket-number (key= bucket_number, value=doc_id)\n",
    "We use b Bands with size #hash_functions / b and hash each band to a bucket -> we get the following key-value pairs for the reducer (key= bucket_number, value=doc_id)\n",
    "\n",
    "## Reducer - find candidate pairs\n",
    "Since the reducer gets a list of doc_id´s that got hased into the same bucket each reducer can directly emit (yield) all possible pairs of doc_id´s that got hashed into the same bucket and we have the desired output (doc_id1, doc_id2) of a potential pair of similar documents"
   ],
   "metadata": {
    "collapsed": false
   },
   "id": "b6ea51ae415fa1a"
  },
  {
   "cell_type": "markdown",
   "source": [
    "# Load Data\n",
    " * Zuerst laden wir die Daten (Die beiden Texte aus der Eingabedatei)\n",
    " * Jeder Text wird einzeln betrachtet und in einer Liste gespeichert"
   ],
   "metadata": {
    "collapsed": false
   },
   "id": "600e21655e7fdf21"
  },
  {
   "cell_type": "code",
   "execution_count": 1,
   "outputs": [],
   "source": [
    "import numpy as np\n",
    "import pandas as pd\n",
    "import matplotlib.pyplot as plt\n",
    "import seaborn as sns"
   ],
   "metadata": {
    "collapsed": false,
    "ExecuteTime": {
     "end_time": "2023-11-06T10:03:52.189468Z",
     "start_time": "2023-11-06T10:03:52.187236Z"
    }
   },
   "id": "d6e76a28f0ab6ba"
  },
  {
   "cell_type": "code",
   "execution_count": 2,
   "id": "initial_id",
   "metadata": {
    "collapsed": true,
    "ExecuteTime": {
     "end_time": "2023-11-06T10:03:59.383384Z",
     "start_time": "2023-11-06T10:03:59.379630Z"
    }
   },
   "outputs": [],
   "source": [
    "# create a list of all the texts\n",
    "texts = []\n",
    "with open('sts2016-english-with-gs-v1.0/STS2016.input.answer-answer.txt', 'r') as f:\n",
    "    for line in f:\n",
    "        elements = line.strip().split('\\t')\n",
    "        texts.append(elements[0].replace('\\n', ''))\n",
    "        texts.append(elements[1])"
   ]
  },
  {
   "cell_type": "code",
   "execution_count": 3,
   "outputs": [
    {
     "name": "stdout",
     "output_type": "stream",
     "text": [
      "Tasting it is the only reliable way.\n",
      "The way you have it is fine.\n",
      "I think it probably depends on your money.\n",
      "It depends on your country.\n",
      "You need to read a lot to know what you like and what you don't.\n"
     ]
    }
   ],
   "source": [
    "for i in range(0, 5):\n",
    "    print(texts[i])"
   ],
   "metadata": {
    "collapsed": false,
    "ExecuteTime": {
     "end_time": "2023-11-06T10:03:59.938774Z",
     "start_time": "2023-11-06T10:03:59.934350Z"
    }
   },
   "id": "4efb76de42092b15"
  },
  {
   "cell_type": "markdown",
   "source": [
    "# Erstellen der Shingles für jeden Text\n",
    " * Im ersten Map Schritt erstellen wir für jeden Text eine Liste von Shingles\n",
    " * Als key können wir die Texte verwenden, da wir diese später wieder brauchen\n",
    " * Der Value ist eine Liste von Shingles"
   ],
   "metadata": {
    "collapsed": false
   },
   "id": "42174621118a37bf"
  },
  {
   "cell_type": "code",
   "execution_count": 4,
   "outputs": [],
   "source": [
    "shingles_per_text = []\n",
    "k = 3\n",
    "for text in texts:\n",
    "    shingles_per_text.append(set([text[i:i + k] for i in range(len(text) - k + 1)]))"
   ],
   "metadata": {
    "collapsed": false,
    "ExecuteTime": {
     "end_time": "2023-11-06T10:04:00.548737Z",
     "start_time": "2023-11-06T10:04:00.546545Z"
    }
   },
   "id": "29bbd8a3898b7ca0"
  },
  {
   "cell_type": "markdown",
   "source": [
    "# Create Bit-Vector for each text (Matrix of Bit-Vectors [f. 51])"
   ],
   "metadata": {
    "collapsed": false
   },
   "id": "d1d3d69cda4c4ea9"
  },
  {
   "cell_type": "code",
   "execution_count": 5,
   "outputs": [],
   "source": [
    "# create a set of all shingles\n",
    "all_shingles_of_file = set()\n",
    "for shingle_of_text in shingles_per_text:\n",
    "    all_shingles_of_file.update(shingle_of_text)"
   ],
   "metadata": {
    "collapsed": false,
    "ExecuteTime": {
     "end_time": "2023-11-06T10:04:01.515456Z",
     "start_time": "2023-11-06T10:04:01.511139Z"
    }
   },
   "id": "3f2f0cf4dbaa57e0"
  },
  {
   "cell_type": "code",
   "execution_count": 6,
   "outputs": [],
   "source": [
    "# create Bit-Vector for each text -> this will yield the matrix of the bit-vectors\n",
    "bit_Matrix = []\n",
    "for shingle_of_text in shingles_per_text:\n",
    "    bit_vector_for_text = []\n",
    "    \n",
    "    for shingle_of_file in all_shingles_of_file:\n",
    "        \n",
    "        if shingle_of_file in shingle_of_text:\n",
    "            bit_vector_for_text.append(1)\n",
    "        else:\n",
    "            bit_vector_for_text.append(0)\n",
    "            \n",
    "    bit_Matrix.append(bit_vector_for_text)"
   ],
   "metadata": {
    "collapsed": false,
    "ExecuteTime": {
     "end_time": "2023-11-06T10:04:03.277570Z",
     "start_time": "2023-11-06T10:04:02.201152Z"
    }
   },
   "id": "58ffbfd601fb83cb"
  },
  {
   "cell_type": "code",
   "execution_count": 7,
   "outputs": [
    {
     "name": "stdout",
     "output_type": "stream",
     "text": [
      "[0, 0, 0, 0, 0, 0, 0, 0]\n",
      "[0, 0, 0, 0, 0, 0, 0, 0]\n",
      "[0, 0, 0, 0, 0, 0, 0, 0]\n",
      "[0, 0, 0, 0, 0, 0, 0, 0]\n",
      "[0, 0, 0, 0, 0, 0, 0, 0]\n"
     ]
    }
   ],
   "source": [
    "# nur um zz zeigen, dass es funktioniert\n",
    "for i in range(0, 5):\n",
    "    print(bit_Matrix[i][0:8])"
   ],
   "metadata": {
    "collapsed": false,
    "ExecuteTime": {
     "end_time": "2023-11-06T10:04:03.281175Z",
     "start_time": "2023-11-06T10:04:03.278248Z"
    }
   },
   "id": "84585b723508587"
  },
  {
   "cell_type": "markdown",
   "source": [
    "# Calculate MinHash-Signature for each text\n",
    "\n",
    "# Create Hash-Functions (random permutations)"
   ],
   "metadata": {
    "collapsed": false
   },
   "id": "8a3c9497859b3c92"
  },
  {
   "cell_type": "code",
   "execution_count": 8,
   "outputs": [],
   "source": [
    "# generate n hash functions (random permutations)\n",
    "n = 500\n",
    "hash_functions = []\n",
    "for h in range(n):\n",
    "    perm = np.random.permutation(len(all_shingles_of_file))\n",
    "    hash_functions.append(perm)"
   ],
   "metadata": {
    "collapsed": false,
    "ExecuteTime": {
     "end_time": "2023-11-06T10:04:06.757350Z",
     "start_time": "2023-11-06T10:04:06.733102Z"
    }
   },
   "id": "18f06956bcf565f"
  },
  {
   "cell_type": "markdown",
   "source": [
    "# Calculate MinHash-Signature for each text (MinHash Matrix)"
   ],
   "metadata": {
    "collapsed": false
   },
   "id": "34166d5f67254fb9"
  },
  {
   "cell_type": "code",
   "execution_count": 9,
   "outputs": [],
   "source": [
    "signature_matrix = []\n",
    "for bit_vector in bit_Matrix:\n",
    "    signature_vector = []\n",
    "    for hash_function in hash_functions:\n",
    "        # find the first 1 in the bit vector\n",
    "        # we don't permutate the original bit vector, we instead use the hash function and check the bit vector at the permutated index\n",
    "        for col_index in range(len(bit_vector)):\n",
    "            if bit_vector[hash_function[col_index]] == 1:\n",
    "                signature_vector.append(hash_function[col_index])\n",
    "                break\n",
    "    signature_matrix.append(signature_vector)"
   ],
   "metadata": {
    "collapsed": false,
    "ExecuteTime": {
     "end_time": "2023-11-06T10:04:25.674122Z",
     "start_time": "2023-11-06T10:04:08.717234Z"
    }
   },
   "id": "a0b2ec90c8f0699e"
  },
  {
   "cell_type": "code",
   "execution_count": 10,
   "outputs": [
    {
     "name": "stdout",
     "output_type": "stream",
     "text": [
      "[3967, 3488, 1296, 800, 3488, 783, 3839, 1613]\n",
      "[3967, 2170, 1296, 2374, 2348, 231, 126, 1612]\n",
      "[1690, 22, 1076, 1093, 4379, 2294, 190, 76]\n",
      "[2750, 3667, 1076, 1093, 930, 2750, 1076, 76]\n",
      "[2604, 2170, 3284, 3784, 3952, 29, 29, 1996]\n"
     ]
    }
   ],
   "source": [
    "for i in range(0, 5):\n",
    "    print(signature_matrix[i][0:8])"
   ],
   "metadata": {
    "collapsed": false,
    "ExecuteTime": {
     "end_time": "2023-11-06T10:04:33.033290Z",
     "start_time": "2023-11-06T10:04:33.024354Z"
    }
   },
   "id": "6ff016b4cc0e1ced"
  },
  {
   "cell_type": "markdown",
   "source": [
    "### Compare the MinHash-Signatures similarity to the Jaccard-Similarity"
   ],
   "metadata": {
    "collapsed": false
   },
   "id": "819dc3d7a54573e9"
  },
  {
   "cell_type": "code",
   "execution_count": 11,
   "outputs": [],
   "source": [
    "def find_similarities(index=0):\n",
    "    sig_1 = signature_matrix[index]\n",
    "    bit_v_1 = bit_Matrix[index]\n",
    "    sig_sims = []\n",
    "    bit_sims = []\n",
    "    \n",
    "    for col in signature_matrix:\n",
    "        sig_sims.append(np.sum(np.array(sig_1) == np.array(col)) / len(signature_matrix[0]))\n",
    "    \n",
    "    for col in bit_Matrix:\n",
    "        intersection = np.sum(np.array(bit_v_1) & np.array(col))\n",
    "        union = np.sum(np.array(bit_v_1) | np.array(col))\n",
    "        bit_sims.append(intersection / union)\n",
    "        \n",
    "    \n",
    "    return pd.DataFrame({'Jaccard-Similarity': bit_sims, 'MinHash-Similarity': sig_sims, 'Text': texts, 'difference': np.array(sig_sims) - np.array(bit_sims)})"
   ],
   "metadata": {
    "collapsed": false,
    "ExecuteTime": {
     "end_time": "2023-11-06T10:04:35.891603Z",
     "start_time": "2023-11-06T10:04:35.884701Z"
    }
   },
   "id": "a11cb0cbe914553f"
  },
  {
   "cell_type": "code",
   "execution_count": 12,
   "outputs": [
    {
     "data": {
      "text/plain": "      Jaccard-Similarity  MinHash-Similarity  \\\n0               0.088235               0.078   \n1               0.064516               0.056   \n2               1.000000               1.000   \n3               0.300000               0.304   \n4               0.022472               0.028   \n...                  ...                 ...   \n3137            0.012048               0.014   \n3138            0.115385               0.126   \n3139            0.081967               0.106   \n3140            0.033333               0.034   \n3141            0.024096               0.030   \n\n                                                   Text  difference  \n0                  Tasting it is the only reliable way.   -0.010235  \n1                          The way you have it is fine.   -0.008516  \n2            I think it probably depends on your money.    0.000000  \n3                           It depends on your country.    0.004000  \n4     You need to read a lot to know what you like a...    0.005528  \n...                                                 ...         ...  \n3137    I have had the same issue last couple of years.    0.001952  \n3138  I don't think it makes any tremendous difference.    0.010615  \n3139                    I don't think that there's any.    0.024033  \n3140                        If you haven't, you should.    0.000667  \n3141  If, as you have indicated, you don't want to p...    0.005904  \n\n[3142 rows x 4 columns]",
      "text/html": "<div>\n<style scoped>\n    .dataframe tbody tr th:only-of-type {\n        vertical-align: middle;\n    }\n\n    .dataframe tbody tr th {\n        vertical-align: top;\n    }\n\n    .dataframe thead th {\n        text-align: right;\n    }\n</style>\n<table border=\"1\" class=\"dataframe\">\n  <thead>\n    <tr style=\"text-align: right;\">\n      <th></th>\n      <th>Jaccard-Similarity</th>\n      <th>MinHash-Similarity</th>\n      <th>Text</th>\n      <th>difference</th>\n    </tr>\n  </thead>\n  <tbody>\n    <tr>\n      <th>0</th>\n      <td>0.088235</td>\n      <td>0.078</td>\n      <td>Tasting it is the only reliable way.</td>\n      <td>-0.010235</td>\n    </tr>\n    <tr>\n      <th>1</th>\n      <td>0.064516</td>\n      <td>0.056</td>\n      <td>The way you have it is fine.</td>\n      <td>-0.008516</td>\n    </tr>\n    <tr>\n      <th>2</th>\n      <td>1.000000</td>\n      <td>1.000</td>\n      <td>I think it probably depends on your money.</td>\n      <td>0.000000</td>\n    </tr>\n    <tr>\n      <th>3</th>\n      <td>0.300000</td>\n      <td>0.304</td>\n      <td>It depends on your country.</td>\n      <td>0.004000</td>\n    </tr>\n    <tr>\n      <th>4</th>\n      <td>0.022472</td>\n      <td>0.028</td>\n      <td>You need to read a lot to know what you like a...</td>\n      <td>0.005528</td>\n    </tr>\n    <tr>\n      <th>...</th>\n      <td>...</td>\n      <td>...</td>\n      <td>...</td>\n      <td>...</td>\n    </tr>\n    <tr>\n      <th>3137</th>\n      <td>0.012048</td>\n      <td>0.014</td>\n      <td>I have had the same issue last couple of years.</td>\n      <td>0.001952</td>\n    </tr>\n    <tr>\n      <th>3138</th>\n      <td>0.115385</td>\n      <td>0.126</td>\n      <td>I don't think it makes any tremendous difference.</td>\n      <td>0.010615</td>\n    </tr>\n    <tr>\n      <th>3139</th>\n      <td>0.081967</td>\n      <td>0.106</td>\n      <td>I don't think that there's any.</td>\n      <td>0.024033</td>\n    </tr>\n    <tr>\n      <th>3140</th>\n      <td>0.033333</td>\n      <td>0.034</td>\n      <td>If you haven't, you should.</td>\n      <td>0.000667</td>\n    </tr>\n    <tr>\n      <th>3141</th>\n      <td>0.024096</td>\n      <td>0.030</td>\n      <td>If, as you have indicated, you don't want to p...</td>\n      <td>0.005904</td>\n    </tr>\n  </tbody>\n</table>\n<p>3142 rows × 4 columns</p>\n</div>"
     },
     "execution_count": 12,
     "metadata": {},
     "output_type": "execute_result"
    }
   ],
   "source": [
    "similarities = find_similarities(index=2)\n",
    "similarities"
   ],
   "metadata": {
    "collapsed": false,
    "ExecuteTime": {
     "end_time": "2023-11-06T10:04:37.963779Z",
     "start_time": "2023-11-06T10:04:36.487957Z"
    }
   },
   "id": "a701b64c099a197d"
  },
  {
   "cell_type": "markdown",
   "source": [
    "# find possible pairs of similar texts with LSH "
   ],
   "metadata": {
    "collapsed": false
   },
   "id": "e5a5ec041305abb0"
  },
  {
   "cell_type": "markdown",
   "source": [
    "# Create Bands and set Hyperparameters"
   ],
   "metadata": {
    "collapsed": false
   },
   "id": "8b83102284157bfe"
  },
  {
   "cell_type": "markdown",
   "source": [
    "# sort bands into buckets"
   ],
   "metadata": {
    "collapsed": false
   },
   "id": "c62772f951179375"
  },
  {
   "cell_type": "code",
   "execution_count": 13,
   "outputs": [],
   "source": [
    "def lsh_hash_function(band, num_buckets):\n",
    "    # Convert the band (which could be a list or tuple) to a string representation\n",
    "    # since the built-in hash function requires a single immutable argument.\n",
    "    string_band = str(band)\n",
    "\n",
    "    # Use the built-in hash function and take the modulo of the number of buckets\n",
    "    return hash(string_band) % num_buckets"
   ],
   "metadata": {
    "collapsed": false,
    "ExecuteTime": {
     "end_time": "2023-11-06T10:04:37.964323Z",
     "start_time": "2023-11-06T10:04:37.962030Z"
    }
   },
   "id": "51570adfc4bcd660"
  },
  {
   "cell_type": "code",
   "execution_count": 14,
   "outputs": [],
   "source": [
    "def sort_bands_into_buckets(number_of_buckets=10000000, number_bands=64, number_rows_per_band=len(hash_functions) / 64):\n",
    "    buckets = dict()\n",
    "    for col_index in range(len(signature_matrix)):\n",
    "        for band_num in range(number_bands):\n",
    "            # get the signature vector for the current text\n",
    "            signature_vector = signature_matrix[col_index]\n",
    "            # get the current band\n",
    "            start_index = int(band_num * number_rows_per_band)\n",
    "            end_index = int((band_num + 1) * number_rows_per_band)\n",
    "            band = signature_vector[start_index:end_index]\n",
    "            # calculate the hash value for the band\n",
    "            bucket_index = lsh_hash_function(band, number_of_buckets)\n",
    "            # add the text to the bucket\n",
    "            buckets[bucket_index] = buckets.get(bucket_index, []) + [col_index]\n",
    "            \n",
    "    return buckets\n",
    "        "
   ],
   "metadata": {
    "collapsed": false,
    "ExecuteTime": {
     "end_time": "2023-11-06T10:04:37.976074Z",
     "start_time": "2023-11-06T10:04:37.965515Z"
    }
   },
   "id": "b2e2025f2fb01e32"
  },
  {
   "cell_type": "markdown",
   "source": [
    "# find candidate pairs"
   ],
   "metadata": {
    "collapsed": false
   },
   "id": "41f1cb86350d8fb5"
  },
  {
   "cell_type": "code",
   "execution_count": 15,
   "outputs": [],
   "source": [
    "def find_candidate_pairs(buckets):    \n",
    "    candidate_pairs = set()\n",
    "    for bucket in buckets.values():\n",
    "        for i in range(len(bucket)):\n",
    "            for j in range(i + 1, len(bucket)):\n",
    "                candidate_pairs.add((bucket[i], bucket[j]))\n",
    "    return candidate_pairs"
   ],
   "metadata": {
    "collapsed": false,
    "ExecuteTime": {
     "end_time": "2023-11-06T10:04:37.976195Z",
     "start_time": "2023-11-06T10:04:37.968596Z"
    }
   },
   "id": "6db0840eee76ddd2"
  },
  {
   "cell_type": "markdown",
   "source": [
    "# compare number of candidate pairs for hyperparameters n_bands and n_buckets"
   ],
   "metadata": {
    "collapsed": false
   },
   "id": "2d71de27ba014d45"
  },
  {
   "cell_type": "code",
   "execution_count": 16,
   "outputs": [
    {
     "name": "stdout",
     "output_type": "stream",
     "text": [
      "Number of candidate pairs for 2 bands and 10000000 buckets: 8838\n",
      "Number of candidate pairs for 2 bands and 100000000 buckets: 8838\n",
      "Number of candidate pairs for 4 bands and 10000000 buckets: 8840\n",
      "Number of candidate pairs for 4 bands and 100000000 buckets: 8838\n",
      "Number of candidate pairs for 8 bands and 10000000 buckets: 8844\n",
      "Number of candidate pairs for 8 bands and 100000000 buckets: 8839\n",
      "Number of candidate pairs for 16 bands and 10000000 buckets: 8953\n",
      "Number of candidate pairs for 16 bands and 100000000 buckets: 8874\n",
      "Number of candidate pairs for 32 bands and 10000000 buckets: 9472\n",
      "Number of candidate pairs for 32 bands and 100000000 buckets: 8942\n",
      "Number of candidate pairs for 64 bands and 10000000 buckets: 14615\n",
      "Number of candidate pairs for 64 bands and 100000000 buckets: 13244\n"
     ]
    }
   ],
   "source": [
    "number_bands = [2, 4, 8, 16, 32, 64]\n",
    "number_rows_per_band = [len(hash_functions) / number_bands for number_bands in number_bands]\n",
    "number_of_buckets = [10000000, 100000000]\n",
    "\n",
    "# plot number of candidate pairs for number of bands going from 2 to 32 and number of buckets going from 100 to 10000000\n",
    "for n_bands in number_bands:\n",
    "    for n_buckets in number_of_buckets:\n",
    "        buckets = sort_bands_into_buckets(n_buckets, n_bands, len(hash_functions) / n_bands)\n",
    "        candidate_pairs = find_candidate_pairs(buckets)\n",
    "        print(f'Number of candidate pairs for {n_bands} bands and {n_buckets} buckets: {len(candidate_pairs)}')\n"
   ],
   "metadata": {
    "collapsed": false,
    "ExecuteTime": {
     "end_time": "2023-11-06T10:04:40.743427Z",
     "start_time": "2023-11-06T10:04:38.048414Z"
    }
   },
   "id": "233c8c5c10acdc28"
  },
  {
   "cell_type": "markdown",
   "source": [
    "# get jaccard similarity for candidate pairs (this is extremely slow)"
   ],
   "metadata": {
    "collapsed": false
   },
   "id": "d2d492b1e0a09186"
  },
  {
   "cell_type": "code",
   "execution_count": 17,
   "outputs": [],
   "source": [
    "jac_sims = []\n",
    "candidate_pairs = find_candidate_pairs(sort_bands_into_buckets())\n",
    "for pair in candidate_pairs:\n",
    "    jac_sims.append(np.sum(np.array(bit_Matrix[pair[0]]) & np.array(bit_Matrix[pair[1]])) / np.sum(np.array(bit_Matrix[pair[0]]) | np.array(bit_Matrix[pair[1]])))"
   ],
   "metadata": {
    "collapsed": false,
    "ExecuteTime": {
     "end_time": "2023-11-06T10:04:47.163951Z",
     "start_time": "2023-11-06T10:04:40.761692Z"
    }
   },
   "id": "983255b87578d81e"
  },
  {
   "cell_type": "markdown",
   "source": [
    "### create dataframe with jaccard similarities and text pairs"
   ],
   "metadata": {
    "collapsed": false
   },
   "id": "928634294603cb61"
  },
  {
   "cell_type": "code",
   "execution_count": 18,
   "outputs": [],
   "source": [
    "candidate_pairs_df = pd.DataFrame({'Jaccard-Similarity': jac_sims, 'id1': [pair[0] for pair in candidate_pairs], 'Text 1': [texts[pair[0]] for pair in candidate_pairs], 'id2': [pair[1] for pair in candidate_pairs], 'Text 2': [texts[pair[1]] for pair in candidate_pairs]})"
   ],
   "metadata": {
    "collapsed": false,
    "ExecuteTime": {
     "end_time": "2023-11-06T10:04:47.173687Z",
     "start_time": "2023-11-06T10:04:47.171757Z"
    }
   },
   "id": "79cb1368bed701db"
  },
  {
   "cell_type": "code",
   "execution_count": 19,
   "outputs": [
    {
     "name": "stdout",
     "output_type": "stream",
     "text": [
      "Number of possible pairs: 9869022\n",
      "Number of found equals (sim=1): 8838\n",
      "Number of not equal candidate pairs: 5777\n"
     ]
    }
   ],
   "source": [
    "# filter all cells, where id1 == id2\n",
    "candidate_pairs_df = candidate_pairs_df[candidate_pairs_df['id1'] != candidate_pairs_df['id2']]\n",
    "print(f'Number of possible pairs: {len(texts) * (len(texts) - 1)}')\n",
    "print(f'Number of found equals (sim=1): {len(candidate_pairs_df[candidate_pairs_df[\"Jaccard-Similarity\"] == 1])}')\n",
    "\n",
    "# remove jac_sims == 1\n",
    "candidate_pairs_df = candidate_pairs_df[candidate_pairs_df['Jaccard-Similarity'] != 1]\n",
    "\n",
    "print(f'Number of not equal candidate pairs: {len(candidate_pairs_df)}')"
   ],
   "metadata": {
    "collapsed": false,
    "ExecuteTime": {
     "end_time": "2023-11-06T10:04:47.180722Z",
     "start_time": "2023-11-06T10:04:47.175498Z"
    }
   },
   "id": "7a2385ec777d3ecf"
  },
  {
   "cell_type": "code",
   "execution_count": 20,
   "outputs": [
    {
     "data": {
      "text/plain": "       Jaccard-Similarity   id1  \\\n0                0.441176   400   \n2                0.011494  2010   \n4                0.197368  1041   \n5                0.551724   327   \n7                0.692308  2238   \n...                   ...   ...   \n14603            0.666667   864   \n14604            0.028302   148   \n14609            0.037975   569   \n14612            0.000000  2264   \n14614            0.142857  1390   \n\n                                                  Text 1   id2  \\\n0                               You don't have to worry.  1251   \n2                       I've had one for several months.  2866   \n4      If it adheres well, then you know what you'll ...  2479   \n5                              You don't have to retire.  1446   \n7                               This is not a good idea.  2501   \n...                                                  ...   ...   \n14603                              It's not a good idea.  1530   \n14604                  How I should pay the due amount?   1323   \n14609       You could try http://caloriecount.about.com.  1087   \n14612                     You could try BerlinLinienBus.  3012   \n14614                              It's not a good idea.  1990   \n\n                                                  Text 2  \n0                          You definitely don't have to.  \n2      It is more deciding what you should do and wha...  \n4          If you have too much to do, you turn it down.  \n5                               You don't have to worry.  \n7                             But it is not a good idea.  \n...                                                  ...  \n14603                           This is not a good idea.  \n14604  I don't know what is better, but I think it de...  \n14609  You do not have to do it and there is no need ...  \n14612                       There is no reason to worry.  \n14614                           This is a terrible idea.  \n\n[5777 rows x 5 columns]",
      "text/html": "<div>\n<style scoped>\n    .dataframe tbody tr th:only-of-type {\n        vertical-align: middle;\n    }\n\n    .dataframe tbody tr th {\n        vertical-align: top;\n    }\n\n    .dataframe thead th {\n        text-align: right;\n    }\n</style>\n<table border=\"1\" class=\"dataframe\">\n  <thead>\n    <tr style=\"text-align: right;\">\n      <th></th>\n      <th>Jaccard-Similarity</th>\n      <th>id1</th>\n      <th>Text 1</th>\n      <th>id2</th>\n      <th>Text 2</th>\n    </tr>\n  </thead>\n  <tbody>\n    <tr>\n      <th>0</th>\n      <td>0.441176</td>\n      <td>400</td>\n      <td>You don't have to worry.</td>\n      <td>1251</td>\n      <td>You definitely don't have to.</td>\n    </tr>\n    <tr>\n      <th>2</th>\n      <td>0.011494</td>\n      <td>2010</td>\n      <td>I've had one for several months.</td>\n      <td>2866</td>\n      <td>It is more deciding what you should do and wha...</td>\n    </tr>\n    <tr>\n      <th>4</th>\n      <td>0.197368</td>\n      <td>1041</td>\n      <td>If it adheres well, then you know what you'll ...</td>\n      <td>2479</td>\n      <td>If you have too much to do, you turn it down.</td>\n    </tr>\n    <tr>\n      <th>5</th>\n      <td>0.551724</td>\n      <td>327</td>\n      <td>You don't have to retire.</td>\n      <td>1446</td>\n      <td>You don't have to worry.</td>\n    </tr>\n    <tr>\n      <th>7</th>\n      <td>0.692308</td>\n      <td>2238</td>\n      <td>This is not a good idea.</td>\n      <td>2501</td>\n      <td>But it is not a good idea.</td>\n    </tr>\n    <tr>\n      <th>...</th>\n      <td>...</td>\n      <td>...</td>\n      <td>...</td>\n      <td>...</td>\n      <td>...</td>\n    </tr>\n    <tr>\n      <th>14603</th>\n      <td>0.666667</td>\n      <td>864</td>\n      <td>It's not a good idea.</td>\n      <td>1530</td>\n      <td>This is not a good idea.</td>\n    </tr>\n    <tr>\n      <th>14604</th>\n      <td>0.028302</td>\n      <td>148</td>\n      <td>How I should pay the due amount?</td>\n      <td>1323</td>\n      <td>I don't know what is better, but I think it de...</td>\n    </tr>\n    <tr>\n      <th>14609</th>\n      <td>0.037975</td>\n      <td>569</td>\n      <td>You could try http://caloriecount.about.com.</td>\n      <td>1087</td>\n      <td>You do not have to do it and there is no need ...</td>\n    </tr>\n    <tr>\n      <th>14612</th>\n      <td>0.000000</td>\n      <td>2264</td>\n      <td>You could try BerlinLinienBus.</td>\n      <td>3012</td>\n      <td>There is no reason to worry.</td>\n    </tr>\n    <tr>\n      <th>14614</th>\n      <td>0.142857</td>\n      <td>1390</td>\n      <td>It's not a good idea.</td>\n      <td>1990</td>\n      <td>This is a terrible idea.</td>\n    </tr>\n  </tbody>\n</table>\n<p>5777 rows × 5 columns</p>\n</div>"
     },
     "execution_count": 20,
     "metadata": {},
     "output_type": "execute_result"
    }
   ],
   "source": [
    "candidate_pairs_df"
   ],
   "metadata": {
    "collapsed": false,
    "ExecuteTime": {
     "end_time": "2023-11-06T10:04:47.187416Z",
     "start_time": "2023-11-06T10:04:47.182432Z"
    }
   },
   "id": "7729341e93596906"
  },
  {
   "cell_type": "code",
   "execution_count": 21,
   "outputs": [
    {
     "data": {
      "text/plain": "<Figure size 640x480 with 1 Axes>",
      "image/png": "[encoded data removed]"
     },
     "metadata": {},
     "output_type": "display_data"
    }
   ],
   "source": [
    "sns.histplot(candidate_pairs_df['Jaccard-Similarity'])\n",
    "plt.title('Histogram of Jaccard Similarities, buckets=10.000.000, bands=64')\n",
    "plt.show()"
   ],
   "metadata": {
    "collapsed": false,
    "ExecuteTime": {
     "end_time": "2023-11-06T10:04:47.376366Z",
     "start_time": "2023-11-06T10:04:47.187363Z"
    }
   },
   "id": "7f8f17ea292ddb24"
  },
  {
   "cell_type": "code",
   "execution_count": 21,
   "outputs": [],
   "source": [],
   "metadata": {
    "collapsed": false,
    "ExecuteTime": {
     "end_time": "2023-11-06T10:04:47.377539Z",
     "start_time": "2023-11-06T10:04:47.366586Z"
    }
   },
   "id": "a0c2bcadb9ed1eeb"
  },
  {
   "cell_type": "code",
   "execution_count": null,
   "outputs": [],
   "source": [],
   "metadata": {
    "collapsed": false
   },
   "id": "3dc773a014cc17a1"
  }
 ],
 "metadata": {
  "kernelspec": {
   "display_name": "Python 3",
   "language": "python",
   "name": "python3"
  },
  "language_info": {
   "codemirror_mode": {
    "name": "ipython",
    "version": 2
   },
   "file_extension": ".py",
   "mimetype": "text/x-python",
   "name": "python",
   "nbconvert_exporter": "python",
   "pygments_lexer": "ipython2",
   "version": "2.7.6"
  }
 },
 "nbformat": 4,
 "nbformat_minor": 5
}
