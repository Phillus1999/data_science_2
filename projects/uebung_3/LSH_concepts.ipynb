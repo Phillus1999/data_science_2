{
 "cells": [
  {
   "cell_type": "markdown",
   "source": [
    "# Load the Data"
   ],
   "metadata": {
    "collapsed": false
   },
   "id": "600e21655e7fdf21"
  },
  {
   "cell_type": "code",
   "execution_count": 34,
   "id": "initial_id",
   "metadata": {
    "collapsed": true,
    "ExecuteTime": {
     "end_time": "2023-11-04T14:29:04.775042Z",
     "start_time": "2023-11-04T14:29:04.772028Z"
    }
   },
   "outputs": [],
   "source": [
    "# create a list of all the texts\n",
    "texts = []\n",
    "with open('testset.txt', 'r') as f:\n",
    "    for line in f:\n",
    "        elements = line.strip().split('\\t')\n",
    "        texts.append(elements[0].replace('\\n', ''))\n",
    "        texts.append(elements[1])"
   ]
  },
  {
   "cell_type": "code",
   "execution_count": 35,
   "outputs": [
    {
     "name": "stdout",
     "output_type": "stream",
     "text": [
      "Tasting it is the only reliable way.\n",
      "The way you have it is fine.\n",
      "I think it probably depends on your money.\n",
      "It depends on your country.\n",
      "You need to read a lot to know what you like and what you don't.\n",
      "You don't have to know.\n",
      "Obviously, the best book for you depends a lot on what you are looking for.\n",
      "The answer will depend of course on what you're looking for in a vacation.\n",
      "I've had this same problem.\n",
      "I had the same problem as you.\n",
      "If you are not sure how to do it, don't do it at all.\n",
      "Also, if you die, you don't have to repay, don't know if it helps.\n",
      "It is more deciding what you should do and what you should get others to do.\n",
      "What can you do and what should you do to grow more?\n",
      "You need to add this to your resume because it is the only position you have had.\n",
      "You may want it, but the process given to you is what you have to work within.\n",
      "I remained under the banyan tree, exhausted by my daily ritual of dragooning the men every two hours. \n",
      "I remained under the banyan tree, exhausted by my daily ritual of herding the cats every two hours. \n",
      "There are a ton of other examples online.\n",
      "There's a ton of variables:\n"
     ]
    }
   ],
   "source": [
    "for text in texts:\n",
    "    print(text)"
   ],
   "metadata": {
    "collapsed": false,
    "ExecuteTime": {
     "end_time": "2023-11-04T14:29:04.780389Z",
     "start_time": "2023-11-04T14:29:04.776007Z"
    }
   },
   "id": "4efb76de42092b15"
  },
  {
   "cell_type": "markdown",
   "source": [
    "# Create Shingles for each text"
   ],
   "metadata": {
    "collapsed": false
   },
   "id": "42174621118a37bf"
  },
  {
   "cell_type": "code",
   "execution_count": 36,
   "outputs": [
    {
     "name": "stdout",
     "output_type": "stream",
     "text": [
      "{' rel', 'ting', 'y re', ' onl', 'e wa', 's th', 'ing ', 'stin', 'asti', 'le w', ' way', 't is', 'able', 'is t', 'elia', 'only', 'reli', 'he o', 'Tast', 'ble ', 'liab', ' it ', 'iabl', 'ng i', 'way.', 'ly r', 'it i', 'g it', ' the', 'the ', 'nly ', ' is ', 'e on'}\n"
     ]
    }
   ],
   "source": [
    "shingles_per_text = []\n",
    "k = 4\n",
    "for text in texts:\n",
    "    shingles_per_text.append(set([text[i:i + k] for i in range(len(text) - k + 1)]))\n",
    "\n",
    "print(shingles_per_text[0])"
   ],
   "metadata": {
    "collapsed": false,
    "ExecuteTime": {
     "end_time": "2023-11-04T14:29:04.784887Z",
     "start_time": "2023-11-04T14:29:04.780124Z"
    }
   },
   "id": "29bbd8a3898b7ca0"
  },
  {
   "cell_type": "markdown",
   "source": [
    "# Create Bit-Vector for each text (Matrix of Bit-Vectors [f. 51])"
   ],
   "metadata": {
    "collapsed": false
   },
   "id": "d1d3d69cda4c4ea9"
  },
  {
   "cell_type": "code",
   "execution_count": 37,
   "outputs": [
    {
     "name": "stdout",
     "output_type": "stream",
     "text": [
      "{'ant ', 'xhau', 'babl', 'now.', 've t', ' sam', 'g fo', 'nlin', 'r re', 'prob', ' a l', 'e ho', 'ad t', ' you', 'mone', 'e ca', 'ok f', 'on y', 'king', 't it', 'ntry', ' it,', 'ther', 'how ', 'e an', 've h', 'may ', 'iven', ', ex', 'this', 'lps.', ', yo', 'ur r', 'so, ', 's gi', ' tre', ' ans', 've i', 'on o', 'stin', 'answ', 's ev', 'ore ', 'ecau', 'rs. ', 'd un', 'if y', 'work', 'an t', 'urs.', 'onli', ' a t', 'okin', 'elia', ' if ', 'k fo', 'more', 'w mo', 'know', 'a to', 'here', ' nee', 'ld g', \"re's\", ' do.', 't pr', 'o ho', 'd to', 'nk i', 'othe', ' eve', 'If y', 'ily ', 'ly, ', \"u're\", 'yan ', 'sly,', 'aria', 'ends', ' the', 't su', 'ion ', 'ned ', 'ld d', 'r wi', 'ad a', 'ou i', 'tree', 'atio', 'ng t', 'ut t', 'le w', 'ecid', 'sure', 'is s', 'f va', 'a va', 'need', 'ause', 't bo', ' by ', 's yo', 'at c', 'iabl', 're n', 'hat ', ' lik', 'our ', 'al o', 'usly', \"e's \", 'thin', 'itua', 'ney.', 'n ev', \"you'\", 'ay y', 's th', 'asti', 'e no', 'rema', 'nd o', 'on w', \"I've\", ', do', 'or y', 'deci', 'en e', 'o gr', 'use ', 'erdi', 'hers', ' but', 'g th', 'e ar', 'it i', ' hel', 'l of', 'best', \"n't.\", 'and ', 'n to', ' wan', 'wo h', ' var', 'exam', 'grow', 'ee, ', 'coun', 'tual', 'blem', 'o kn', ' her', 'se i', 't do', 'r th', 'acat', ' wha', 'an y', 'ious', 'ow w', 'roba', 'die,', ' get', 'nt i', 't he', ' don', ' und', 'he m', ' rep', 'n a ', ' rea', 'your', ' bec', 'ly r', 'if i', 'ow m', 'est ', ' how', 'rse ', 'nly ', 'nswe', ' sho', 'em a', 'ers ', 'sume', 'row ', ' cou', 'ame ', 'y wa', 'have', 'it h', 't yo', ' die', 'to w', ' bes', ' kno', 'he s', 'rs t', 'nd w', 'k wi', 'onin', 'e, y', 'f co', 'e it', ' had', 'cidi', ' it ', 'er e', 'y yo', 'lem ', 'd a ', 'do i', 'You ', 't at', 'sted', 'ot t', 'ion.', \"'ve \", 'I ha', 'I th', ', if', 'get ', ' oth', 'my d', 'itio', 'ritu', 'ot o', 'e me', 'to r', ' vac', \"'re \", 'e, e', 'or i', 'oney', 'Obvi', 'emai', 'st b', 'not ', 'y po', ' may', 's to', ' for', 'f yo', 'he b', 'o, i', 'you.', 'is m', 'give', 're a', 'beca', 'houl', 'ton ', 'ding', 'but ', 'urse', 'he p', 'like', 'hour', 'ning', ' loo', 't on', 'ven ', 'proc', 'anya', ' all', 'ur c', 'as y', 'y re', 'ed b', 'had ', 't al', 'ike ', 'n tr', ' pro', ' to ', 'u is', 'lem.', ' on ', ' men', ' are', ' of ', 'ever', 'o to', ' hav', 'ooki', 'ou s', 'ted ', ' at ', \"'t d\", 'Tast', ' as ', 'e be', 'ds o', 'epen', 'liab', 'ng f', 'o ad', 's mo', 'help', \"don'\", 'er t', 'f ot', 'is w', 'ume ', 'ou a', 'main', 'r yo', 're h', 'd th', 'ting', 'elps', 'oces', ' rem', 'ork ', 'r mo', 'end ', 'at y', ' ban', 'way ', ', th', 't ca', 'a lo', 'vari', 'It d', 'ot s', ' my ', 'ill ', ' a v', ' and', 'u do', 't, d', 'w wh', 'with', 'agoo', 'd wh', 'to k', 'ess ', 'ual ', 'cats', 'two ', 'y, d', ' rit', 'e sa', 'me p', 'ou m', 'uld ', ' thi', 'o an', ' is ', ' fin', 're l', 'siti', 'ed t', 'ly p', 'e wa', ' in ', 'ably', 'cess', 'bly ', 'f he', 'nder', 'ere ', 'ed u', 'les:', 'y my', 'cour', 'I re', 'ampl', 'it a', 'shou', 'ead ', 't kn', 's a ', 'by m', 'exha', 'e pr', 'idin', 'u ne', 'dd t', \"on't\", 'same', ' res', 'tion', 'r ex', ' hou', 'for.', 'will', 'roce', 'bany', 'nds ', 'to d', ' can', 'in a', 'u di', 'e on', 's fi', 'depe', 'me b', 'ur m', ' dep', 'u de', ' ton', 'of d', ' cat', 'ow t', 'you ', 'her ', 's sa', 'Also', 'oble', 'herd', 'e lo', 'ore?', 'are ', 'ay, ', 'reli', 'e a ', 'y da', 'es o', 'to a', 'at a', 'll d', 'ples', ', bu', 'd do', 'ou d', 'of c', 'ou n', 'ly d', 's on', ' lot', 'read', 'e ba', 'he w', 'eed ', 'posi', 'd by', 'aust', 'e ha', 'mple', 'd of', 'haus', 'n of', \"'t k\", 'pay,', 't to', 'book', ' way', ' dai', ' pos', 's wh', 'riab', 'ss g', 'u li', 'goon', 'o yo', 'd ge', 'ds a', 'en t', 'ount', 'ree,', 'to y', 'dail', 'aily', \"n't \", 'ou l', 'for ', \"'s a\", 're d', ' dra', 't de', ' giv', 'all.', 'way.', 'y de', 'rago', 'of v', 'want', 'ow i', 'men ', ' rel', 't sh', 'he a', 'osit', 'now ', 'ing ', 'it p', 't is', ' exh', 'his ', 'do a', 'he o', 'is f', 'u ma', 'o re', 'drag', 'ld y', 'uste', 'g wh', 'rdin', 'ink ', 'nyan', 'o it', 'ine.', 'add ', 'had.', 'et o', 'pend', 'e to', 'n yo', 'se o', 'What', 'very', 'untr', 'l de', 'ure ', 'line', 'o wo', 'robl', 'caus', 'ousl', 'able', 't ha', 'esum', 'ke a', ' two', 'resu', ' wit', 'only', 'w to', 'm as', 'fine', \"ou'r\", 'ooni', 'he c', 'u ar', ' exa', 'ble ', 'ay w', 'f dr', 'The ', 'ours', 'les ', ' add', ' not', ' gro', ' sur', 'k it', 'ie, ', \"ere'\", 'r in', 'ithi', 'r co', 'ined', ' boo', 'at s', 'vaca', 'try.', 'ery ', 'd yo', 'lso,', \"'t h\", 'w if', 'u sh', 'ts e', 'to g', 't th', 't ot', ' mor', 'hin.', 'y, t', 'is t', 'unde', 'aine', 'repa', ' mon', 'hink', 'ou h', 'er w', 'y tw', ' do ', 'swer', 'it, ', 'y ri', 'It i', 't, b', 'rk w', 'viou', 'bles', 'the ', 'ave ', 'obab', 'f it', 'ould', ' dec', 'do t', 'wer ', ' onl', 'ats ', 'o do', 'ry t', ' wor', 'what', 'n wh', 'u ha', 'lot ', 'ng w', 'bvio', 'Ther', 'xamp', 'can ', 'of h', 'of o', 'ng i', 'cati', 'e de', 'epay', 'look', 'g it', 'ook ', ' wil', 'der '}\n"
     ]
    }
   ],
   "source": [
    "# create a set of all shingles\n",
    "all_shingles_of_file = set()\n",
    "for shingle_of_text in shingles_per_text:\n",
    "    all_shingles_of_file.update(shingle_of_text)\n",
    "print(all_shingles_of_file)"
   ],
   "metadata": {
    "collapsed": false,
    "ExecuteTime": {
     "end_time": "2023-11-04T14:29:04.788070Z",
     "start_time": "2023-11-04T14:29:04.783831Z"
    }
   },
   "id": "3f2f0cf4dbaa57e0"
  },
  {
   "cell_type": "code",
   "execution_count": 38,
   "outputs": [],
   "source": [
    "# create Bit-Vector for each text -> this will yield the matrix of the bit-vectors\n",
    "bit_Matrix = []\n",
    "for shingle_of_text in shingles_per_text:\n",
    "    bit_vector_for_text = []\n",
    "    \n",
    "    for shingle_of_file in all_shingles_of_file:\n",
    "        \n",
    "        if shingle_of_file in shingle_of_text:\n",
    "            bit_vector_for_text.append(1)\n",
    "        else:\n",
    "            bit_vector_for_text.append(0)\n",
    "            \n",
    "    bit_Matrix.append(bit_vector_for_text)"
   ],
   "metadata": {
    "collapsed": false,
    "ExecuteTime": {
     "end_time": "2023-11-04T14:29:04.806438Z",
     "start_time": "2023-11-04T14:29:04.789738Z"
    }
   },
   "id": "58ffbfd601fb83cb"
  },
  {
   "cell_type": "code",
   "execution_count": 43,
   "outputs": [
    {
     "name": "stdout",
     "output_type": "stream",
     "text": [
      "[0, 0, 0, 0, 0, 0, 0, 0, 0, 0, 0, 0, 0, 0, 0, 0]\n",
      "[0, 0, 0, 0, 0, 0, 0, 0, 0, 0, 0, 0, 0, 1, 0, 0]\n",
      "[0, 0, 1, 0, 0, 0, 0, 0, 0, 1, 0, 0, 0, 1, 1, 0]\n",
      "[0, 0, 0, 0, 0, 0, 0, 0, 0, 0, 0, 0, 0, 1, 0, 0]\n",
      "[0, 0, 0, 0, 0, 0, 0, 0, 0, 0, 1, 0, 0, 1, 0, 0]\n",
      "[0, 0, 0, 1, 1, 0, 0, 0, 0, 0, 0, 0, 0, 0, 0, 0]\n",
      "[0, 0, 0, 0, 0, 0, 1, 0, 0, 0, 1, 0, 0, 1, 0, 0]\n",
      "[0, 0, 0, 0, 0, 0, 1, 0, 0, 0, 0, 0, 0, 1, 0, 0]\n",
      "[0, 0, 0, 0, 0, 1, 0, 0, 0, 1, 0, 0, 1, 0, 0, 0]\n",
      "[0, 0, 0, 0, 0, 1, 0, 0, 0, 1, 0, 0, 1, 1, 0, 0]\n",
      "[0, 0, 0, 0, 0, 0, 0, 0, 0, 0, 0, 1, 0, 1, 0, 0]\n",
      "[0, 0, 0, 0, 1, 0, 0, 0, 0, 0, 0, 0, 0, 1, 0, 0]\n",
      "[0, 0, 0, 0, 0, 0, 0, 0, 0, 0, 0, 0, 0, 1, 0, 0]\n",
      "[0, 0, 0, 0, 0, 0, 0, 0, 0, 0, 0, 0, 0, 1, 0, 0]\n",
      "[0, 0, 0, 0, 0, 0, 0, 0, 1, 0, 0, 0, 0, 1, 0, 0]\n",
      "[1, 0, 0, 0, 1, 0, 0, 0, 0, 0, 0, 0, 0, 1, 0, 0]\n",
      "[0, 1, 0, 0, 0, 0, 0, 0, 0, 0, 0, 0, 0, 0, 0, 0]\n",
      "[0, 1, 0, 0, 0, 0, 0, 0, 0, 0, 0, 0, 0, 0, 0, 1]\n",
      "[0, 0, 0, 0, 0, 0, 0, 1, 0, 0, 0, 0, 0, 0, 0, 0]\n",
      "[0, 0, 0, 0, 0, 0, 0, 0, 0, 0, 0, 0, 0, 0, 0, 0]\n"
     ]
    }
   ],
   "source": [
    "# nur um zz zeigen, dass es funktioniert\n",
    "for vector in bit_Matrix:\n",
    "    print(vector[0:16])"
   ],
   "metadata": {
    "collapsed": false,
    "ExecuteTime": {
     "end_time": "2023-11-04T14:34:22.172247Z",
     "start_time": "2023-11-04T14:34:22.167930Z"
    }
   },
   "id": "84585b723508587"
  },
  {
   "cell_type": "code",
   "execution_count": 39,
   "outputs": [],
   "source": [],
   "metadata": {
    "collapsed": false,
    "ExecuteTime": {
     "end_time": "2023-11-04T14:29:04.809894Z",
     "start_time": "2023-11-04T14:29:04.794950Z"
    }
   },
   "id": "18f06956bcf565f"
  }
 ],
 "metadata": {
  "kernelspec": {
   "display_name": "Python 3",
   "language": "python",
   "name": "python3"
  },
  "language_info": {
   "codemirror_mode": {
    "name": "ipython",
    "version": 2
   },
   "file_extension": ".py",
   "mimetype": "text/x-python",
   "name": "python",
   "nbconvert_exporter": "python",
   "pygments_lexer": "ipython2",
   "version": "2.7.6"
  }
 },
 "nbformat": 4,
 "nbformat_minor": 5
}
