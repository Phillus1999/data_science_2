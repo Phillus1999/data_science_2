{
 "cells": [
  {
   "cell_type": "markdown",
   "source": [
    "# Load the Data"
   ],
   "metadata": {
    "collapsed": false
   },
   "id": "600e21655e7fdf21"
  },
  {
   "cell_type": "code",
   "execution_count": 44,
   "outputs": [],
   "source": [
    "import numpy as np"
   ],
   "metadata": {
    "collapsed": false,
    "ExecuteTime": {
     "end_time": "2023-11-04T16:20:26.399376Z",
     "start_time": "2023-11-04T16:20:24.282811Z"
    }
   },
   "id": "d6e76a28f0ab6ba"
  },
  {
   "cell_type": "code",
   "execution_count": 45,
   "id": "initial_id",
   "metadata": {
    "collapsed": true,
    "ExecuteTime": {
     "end_time": "2023-11-04T16:20:26.407093Z",
     "start_time": "2023-11-04T16:20:26.403499Z"
    }
   },
   "outputs": [],
   "source": [
    "# create a list of all the texts\n",
    "texts = []\n",
    "with open('testset.txt', 'r') as f:\n",
    "    for line in f:\n",
    "        elements = line.strip().split('\\t')\n",
    "        texts.append(elements[0].replace('\\n', ''))\n",
    "        texts.append(elements[1])"
   ]
  },
  {
   "cell_type": "code",
   "execution_count": 46,
   "outputs": [
    {
     "name": "stdout",
     "output_type": "stream",
     "text": [
      "Tasting it is the only reliable way.\n",
      "The way you have it is fine.\n",
      "I think it probably depends on your money.\n",
      "It depends on your country.\n",
      "You need to read a lot to know what you like and what you don't.\n",
      "You don't have to know.\n",
      "Obviously, the best book for you depends a lot on what you are looking for.\n",
      "The answer will depend of course on what you're looking for in a vacation.\n",
      "I've had this same problem.\n",
      "I had the same problem as you.\n",
      "If you are not sure how to do it, don't do it at all.\n",
      "Also, if you die, you don't have to repay, don't know if it helps.\n",
      "It is more deciding what you should do and what you should get others to do.\n",
      "What can you do and what should you do to grow more?\n",
      "You need to add this to your resume because it is the only position you have had.\n",
      "You may want it, but the process given to you is what you have to work within.\n",
      "I remained under the banyan tree, exhausted by my daily ritual of dragooning the men every two hours. \n",
      "I remained under the banyan tree, exhausted by my daily ritual of herding the cats every two hours. \n",
      "There are a ton of other examples online.\n",
      "There's a ton of variables:\n"
     ]
    }
   ],
   "source": [
    "for text in texts:\n",
    "    print(text)"
   ],
   "metadata": {
    "collapsed": false,
    "ExecuteTime": {
     "end_time": "2023-11-04T16:20:26.410313Z",
     "start_time": "2023-11-04T16:20:26.405739Z"
    }
   },
   "id": "4efb76de42092b15"
  },
  {
   "cell_type": "markdown",
   "source": [
    "# Create Shingles for each text"
   ],
   "metadata": {
    "collapsed": false
   },
   "id": "42174621118a37bf"
  },
  {
   "cell_type": "code",
   "execution_count": 47,
   "outputs": [
    {
     "name": "stdout",
     "output_type": "stream",
     "text": [
      "{' rel', 'ting', 'y re', ' onl', 'e wa', 's th', 'ing ', 'stin', 'asti', 'le w', ' way', 't is', 'able', 'is t', 'elia', 'only', 'reli', 'he o', 'Tast', 'ble ', 'liab', ' it ', 'iabl', 'ng i', 'way.', 'ly r', 'it i', 'g it', ' the', 'the ', 'nly ', ' is ', 'e on'}\n"
     ]
    }
   ],
   "source": [
    "shingles_per_text = []\n",
    "k = 4\n",
    "for text in texts:\n",
    "    shingles_per_text.append(set([text[i:i + k] for i in range(len(text) - k + 1)]))\n",
    "\n",
    "print(shingles_per_text[0])"
   ],
   "metadata": {
    "collapsed": false,
    "ExecuteTime": {
     "end_time": "2023-11-04T16:20:26.415716Z",
     "start_time": "2023-11-04T16:20:26.411314Z"
    }
   },
   "id": "29bbd8a3898b7ca0"
  },
  {
   "cell_type": "markdown",
   "source": [
    "# Create Bit-Vector for each text (Matrix of Bit-Vectors [f. 51])"
   ],
   "metadata": {
    "collapsed": false
   },
   "id": "d1d3d69cda4c4ea9"
  },
  {
   "cell_type": "code",
   "execution_count": 48,
   "outputs": [
    {
     "name": "stdout",
     "output_type": "stream",
     "text": [
      "{'ant ', 'xhau', 'babl', 'now.', 've t', ' sam', 'g fo', 'nlin', 'r re', 'prob', ' a l', 'e ho', 'ad t', ' you', 'mone', 'e ca', 'ok f', 'on y', 'king', 't it', 'ntry', ' it,', 'ther', 'how ', 'e an', 've h', 'may ', 'iven', ', ex', 'this', 'lps.', ', yo', 'ur r', 'so, ', 's gi', ' tre', ' ans', 've i', 'on o', 'stin', 'answ', 's ev', 'ore ', 'ecau', 'rs. ', 'd un', 'if y', 'work', 'an t', 'urs.', 'onli', ' a t', 'okin', 'elia', ' if ', 'k fo', 'more', 'w mo', 'know', 'a to', 'here', ' nee', 'ld g', \"re's\", ' do.', 't pr', 'o ho', 'd to', 'nk i', 'othe', ' eve', 'If y', 'ily ', 'ly, ', \"u're\", 'yan ', 'sly,', 'aria', 'ends', ' the', 't su', 'ion ', 'ned ', 'ld d', 'r wi', 'ad a', 'ou i', 'tree', 'atio', 'ng t', 'ut t', 'le w', 'ecid', 'sure', 'is s', 'f va', 'a va', 'need', 'ause', 't bo', ' by ', 's yo', 'at c', 'iabl', 're n', 'hat ', ' lik', 'our ', 'al o', 'usly', \"e's \", 'thin', 'itua', 'ney.', 'n ev', \"you'\", 'ay y', 's th', 'asti', 'e no', 'rema', 'nd o', 'on w', \"I've\", ', do', 'or y', 'deci', 'en e', 'o gr', 'use ', 'erdi', 'hers', ' but', 'g th', 'e ar', 'it i', ' hel', 'l of', 'best', \"n't.\", 'and ', 'n to', ' wan', 'wo h', ' var', 'exam', 'grow', 'ee, ', 'coun', 'tual', 'blem', 'o kn', ' her', 'se i', 't do', 'r th', 'acat', ' wha', 'an y', 'ious', 'ow w', 'roba', 'die,', ' get', 'nt i', 't he', ' don', ' und', 'he m', ' rep', 'n a ', ' rea', 'your', ' bec', 'ly r', 'if i', 'ow m', 'est ', ' how', 'rse ', 'nly ', 'nswe', ' sho', 'em a', 'ers ', 'sume', 'row ', ' cou', 'ame ', 'y wa', 'have', 'it h', 't yo', ' die', 'to w', ' bes', ' kno', 'he s', 'rs t', 'nd w', 'k wi', 'onin', 'e, y', 'f co', 'e it', ' had', 'cidi', ' it ', 'er e', 'y yo', 'lem ', 'd a ', 'do i', 'You ', 't at', 'sted', 'ot t', 'ion.', \"'ve \", 'I ha', 'I th', ', if', 'get ', ' oth', 'my d', 'itio', 'ritu', 'ot o', 'e me', 'to r', ' vac', \"'re \", 'e, e', 'or i', 'oney', 'Obvi', 'emai', 'st b', 'not ', 'y po', ' may', 's to', ' for', 'f yo', 'he b', 'o, i', 'you.', 'is m', 'give', 're a', 'beca', 'houl', 'ton ', 'ding', 'but ', 'urse', 'he p', 'like', 'hour', 'ning', ' loo', 't on', 'ven ', 'proc', 'anya', ' all', 'ur c', 'as y', 'y re', 'ed b', 'had ', 't al', 'ike ', 'n tr', ' pro', ' to ', 'u is', 'lem.', ' on ', ' men', ' are', ' of ', 'ever', 'o to', ' hav', 'ooki', 'ou s', 'ted ', ' at ', \"'t d\", 'Tast', ' as ', 'e be', 'ds o', 'epen', 'liab', 'ng f', 'o ad', 's mo', 'help', \"don'\", 'er t', 'f ot', 'is w', 'ume ', 'ou a', 'main', 'r yo', 're h', 'd th', 'ting', 'elps', 'oces', ' rem', 'ork ', 'r mo', 'end ', 'at y', ' ban', 'way ', ', th', 't ca', 'a lo', 'vari', 'It d', 'ot s', ' my ', 'ill ', ' a v', ' and', 'u do', 't, d', 'w wh', 'with', 'agoo', 'd wh', 'to k', 'ess ', 'ual ', 'cats', 'two ', 'y, d', ' rit', 'e sa', 'me p', 'ou m', 'uld ', ' thi', 'o an', ' is ', ' fin', 're l', 'siti', 'ed t', 'ly p', 'e wa', ' in ', 'ably', 'cess', 'bly ', 'f he', 'nder', 'ere ', 'ed u', 'les:', 'y my', 'cour', 'I re', 'ampl', 'it a', 'shou', 'ead ', 't kn', 's a ', 'by m', 'exha', 'e pr', 'idin', 'u ne', 'dd t', \"on't\", 'same', ' res', 'tion', 'r ex', ' hou', 'for.', 'will', 'roce', 'bany', 'nds ', 'to d', ' can', 'in a', 'u di', 'e on', 's fi', 'depe', 'me b', 'ur m', ' dep', 'u de', ' ton', 'of d', ' cat', 'ow t', 'you ', 'her ', 's sa', 'Also', 'oble', 'herd', 'e lo', 'ore?', 'are ', 'ay, ', 'reli', 'e a ', 'y da', 'es o', 'to a', 'at a', 'll d', 'ples', ', bu', 'd do', 'ou d', 'of c', 'ou n', 'ly d', 's on', ' lot', 'read', 'e ba', 'he w', 'eed ', 'posi', 'd by', 'aust', 'e ha', 'mple', 'd of', 'haus', 'n of', \"'t k\", 'pay,', 't to', 'book', ' way', ' dai', ' pos', 's wh', 'riab', 'ss g', 'u li', 'goon', 'o yo', 'd ge', 'ds a', 'en t', 'ount', 'ree,', 'to y', 'dail', 'aily', \"n't \", 'ou l', 'for ', \"'s a\", 're d', ' dra', 't de', ' giv', 'all.', 'way.', 'y de', 'rago', 'of v', 'want', 'ow i', 'men ', ' rel', 't sh', 'he a', 'osit', 'now ', 'ing ', 'it p', 't is', ' exh', 'his ', 'do a', 'he o', 'is f', 'u ma', 'o re', 'drag', 'ld y', 'uste', 'g wh', 'rdin', 'ink ', 'nyan', 'o it', 'ine.', 'add ', 'had.', 'et o', 'pend', 'e to', 'n yo', 'se o', 'What', 'very', 'untr', 'l de', 'ure ', 'line', 'o wo', 'robl', 'caus', 'ousl', 'able', 't ha', 'esum', 'ke a', ' two', 'resu', ' wit', 'only', 'w to', 'm as', 'fine', \"ou'r\", 'ooni', 'he c', 'u ar', ' exa', 'ble ', 'ay w', 'f dr', 'The ', 'ours', 'les ', ' add', ' not', ' gro', ' sur', 'k it', 'ie, ', \"ere'\", 'r in', 'ithi', 'r co', 'ined', ' boo', 'at s', 'vaca', 'try.', 'ery ', 'd yo', 'lso,', \"'t h\", 'w if', 'u sh', 'ts e', 'to g', 't th', 't ot', ' mor', 'hin.', 'y, t', 'is t', 'unde', 'aine', 'repa', ' mon', 'hink', 'ou h', 'er w', 'y tw', ' do ', 'swer', 'it, ', 'y ri', 'It i', 't, b', 'rk w', 'viou', 'bles', 'the ', 'ave ', 'obab', 'f it', 'ould', ' dec', 'do t', 'wer ', ' onl', 'ats ', 'o do', 'ry t', ' wor', 'what', 'n wh', 'u ha', 'lot ', 'ng w', 'bvio', 'Ther', 'xamp', 'can ', 'of h', 'of o', 'ng i', 'cati', 'e de', 'epay', 'look', 'g it', 'ook ', ' wil', 'der '}\n"
     ]
    }
   ],
   "source": [
    "# create a set of all shingles\n",
    "all_shingles_of_file = set()\n",
    "for shingle_of_text in shingles_per_text:\n",
    "    all_shingles_of_file.update(shingle_of_text)\n",
    "print(all_shingles_of_file)"
   ],
   "metadata": {
    "collapsed": false,
    "ExecuteTime": {
     "end_time": "2023-11-04T16:20:26.418291Z",
     "start_time": "2023-11-04T16:20:26.414770Z"
    }
   },
   "id": "3f2f0cf4dbaa57e0"
  },
  {
   "cell_type": "code",
   "execution_count": 49,
   "outputs": [],
   "source": [
    "# create Bit-Vector for each text -> this will yield the matrix of the bit-vectors\n",
    "bit_Matrix = []\n",
    "for shingle_of_text in shingles_per_text:\n",
    "    bit_vector_for_text = []\n",
    "    \n",
    "    for shingle_of_file in all_shingles_of_file:\n",
    "        \n",
    "        if shingle_of_file in shingle_of_text:\n",
    "            bit_vector_for_text.append(1)\n",
    "        else:\n",
    "            bit_vector_for_text.append(0)\n",
    "            \n",
    "    bit_Matrix.append(bit_vector_for_text)"
   ],
   "metadata": {
    "collapsed": false,
    "ExecuteTime": {
     "end_time": "2023-11-04T16:20:26.421733Z",
     "start_time": "2023-11-04T16:20:26.419856Z"
    }
   },
   "id": "58ffbfd601fb83cb"
  },
  {
   "cell_type": "code",
   "execution_count": 50,
   "outputs": [
    {
     "name": "stdout",
     "output_type": "stream",
     "text": [
      "[0, 0, 0, 0, 0, 0, 0, 0, 0, 0, 0, 0, 0, 0, 0, 0]\n",
      "[0, 0, 0, 0, 0, 0, 0, 0, 0, 0, 0, 0, 0, 1, 0, 0]\n",
      "[0, 0, 1, 0, 0, 0, 0, 0, 0, 1, 0, 0, 0, 1, 1, 0]\n",
      "[0, 0, 0, 0, 0, 0, 0, 0, 0, 0, 0, 0, 0, 1, 0, 0]\n",
      "[0, 0, 0, 0, 0, 0, 0, 0, 0, 0, 1, 0, 0, 1, 0, 0]\n",
      "[0, 0, 0, 1, 1, 0, 0, 0, 0, 0, 0, 0, 0, 0, 0, 0]\n",
      "[0, 0, 0, 0, 0, 0, 1, 0, 0, 0, 1, 0, 0, 1, 0, 0]\n",
      "[0, 0, 0, 0, 0, 0, 1, 0, 0, 0, 0, 0, 0, 1, 0, 0]\n",
      "[0, 0, 0, 0, 0, 1, 0, 0, 0, 1, 0, 0, 1, 0, 0, 0]\n",
      "[0, 0, 0, 0, 0, 1, 0, 0, 0, 1, 0, 0, 1, 1, 0, 0]\n",
      "[0, 0, 0, 0, 0, 0, 0, 0, 0, 0, 0, 1, 0, 1, 0, 0]\n",
      "[0, 0, 0, 0, 1, 0, 0, 0, 0, 0, 0, 0, 0, 1, 0, 0]\n",
      "[0, 0, 0, 0, 0, 0, 0, 0, 0, 0, 0, 0, 0, 1, 0, 0]\n",
      "[0, 0, 0, 0, 0, 0, 0, 0, 0, 0, 0, 0, 0, 1, 0, 0]\n",
      "[0, 0, 0, 0, 0, 0, 0, 0, 1, 0, 0, 0, 0, 1, 0, 0]\n",
      "[1, 0, 0, 0, 1, 0, 0, 0, 0, 0, 0, 0, 0, 1, 0, 0]\n",
      "[0, 1, 0, 0, 0, 0, 0, 0, 0, 0, 0, 0, 0, 0, 0, 0]\n",
      "[0, 1, 0, 0, 0, 0, 0, 0, 0, 0, 0, 0, 0, 0, 0, 1]\n",
      "[0, 0, 0, 0, 0, 0, 0, 1, 0, 0, 0, 0, 0, 0, 0, 0]\n",
      "[0, 0, 0, 0, 0, 0, 0, 0, 0, 0, 0, 0, 0, 0, 0, 0]\n"
     ]
    }
   ],
   "source": [
    "# nur um zz zeigen, dass es funktioniert\n",
    "for vector in bit_Matrix:\n",
    "    print(vector[0:16])"
   ],
   "metadata": {
    "collapsed": false,
    "ExecuteTime": {
     "end_time": "2023-11-04T16:20:26.425468Z",
     "start_time": "2023-11-04T16:20:26.422324Z"
    }
   },
   "id": "84585b723508587"
  },
  {
   "cell_type": "markdown",
   "source": [
    "# Calculate MinHash-Signature for each text\n",
    "\n",
    "# Create Hash-Functions"
   ],
   "metadata": {
    "collapsed": false
   },
   "id": "8a3c9497859b3c92"
  },
  {
   "cell_type": "code",
   "execution_count": 59,
   "outputs": [
    {
     "name": "stdout",
     "output_type": "stream",
     "text": [
      "[621 175 574 249 439 363 519   7 264 391 256 569 287  76 370 366 413 253\n",
      "  20 342 499 176   9 577 526 431  16 218 277 289  51  75   6 198  96 310\n",
      " 319 440 183 243  94   8 550 357 367 296 261 173 300 451 371  17 461  97\n",
      " 622 315 589 442 293 449 571   0 332 435 316 116 128 563 153 488 229 263\n",
      " 590 216 373 361  30 103 164 497 533  32 374 309 324  45  67 123 358 548\n",
      " 354 520 408  41 393 114 388 257 294 196 510 348 375 214 547 194 535 549\n",
      " 436 611 447 562 469 450 302 207 384 567 239 311 297 250 338 507 344 396\n",
      "   4  35  62 438 146 322 336  14 406 508 434  57 185 291 543 304 529 275\n",
      "  65  98 140 131 190 129 134 335 270 493  83  73 599 428 516 504 356 328\n",
      " 352  95 286 292 506 227 573  66 433 583 187 339 290 578 108 232 209 189\n",
      " 612 323 139 109 423 166 441 455 205 552 399 530 527  39 340 295 409 446\n",
      "  37 593 496 597 151  80 359 518  71  81 584  99 237 211 387 502  89 203\n",
      " 337 407 598  13 607 517 514 238  54 372 610 169 111 466 420 538 561 259\n",
      " 231 260 532 405 606  38  52  36 512 195 414 285 186 138 306 117  11 299\n",
      " 245 430  55 415 553   2 334 279 604 222 478 305 618 157 467 343 119 603\n",
      " 148 403 509 246 472 228 206  68 133 178 484 417 394 100 303 505 161 485\n",
      " 582 141 280 523 524 594 572 392 544 432  85 242 168 531 541 156 105  86\n",
      "  22 377 233 314 235   5 110 170 418 580  58 308 136 616 560  21 172 617\n",
      " 587  33 274  12 165 347 204 252 498 491 122 479 197 364 402 605 265 576\n",
      " 212 267 557 521 525 389 570  70  23 489 579 321 558 421   3 200  92 559\n",
      " 470  44 167  47 307 326 258  56 477 272  93 118 365 492 158  74 556 445\n",
      " 528 155 513  34 376 468 144  59 588  10 112 120 486 564 483 379 143 188\n",
      "  72 248 503 150 429 115 515 448 317 460 615 230  84 452 463 236 419  60\n",
      " 327 255 219 426 609 362 147 312 234 416 380 404  53  42 192 351 539 101\n",
      " 177 355 325 410  15 482 135  87 385 390 226 124 600 444 223  24 210 395\n",
      " 220 411 349 540  90  69 330 163 542 213 191 382 458 481 427 269 401 142\n",
      " 241 247 368 412 534 273 281 453 224 586 501 350 386 341  61 271 378 182\n",
      " 596  29 585 121 107 475 592 546  40 244  82  79 132 554 160 601  18 591\n",
      " 199 495 581 106 333 353 179 208 471 459 298  25  49 159 225 215 487 251\n",
      " 276 465 288  48 473 193  50 102  28 181 555  88 398 174 464 462 162 320\n",
      " 283   1 113 602 313 268 619 457 201  78 318 284 180 282 331 545 154  77\n",
      " 397  31 149 137 494 171 456 568  27 104 537 262 522 266 614 424 346 511\n",
      " 608 221 443 329 490 202 184 369 480 620 551 566 400 425 345  64 301 127\n",
      " 254 240 474 536  91 125 454 217 130 360  63 476  26 575  46 152 437 422\n",
      " 126 613 278 595  43 381 383 145 565 500  19]\n"
     ]
    }
   ],
   "source": [
    "# generate n hash functions (random permutations)\n",
    "n = 100\n",
    "hash_functions = []\n",
    "for h in range(n):\n",
    "    perm = np.random.permutation(len(all_shingles_of_file))\n",
    "    hash_functions.append(perm)\n",
    "\n",
    "print(hash_functions[0])"
   ],
   "metadata": {
    "collapsed": false,
    "ExecuteTime": {
     "end_time": "2023-11-04T16:24:52.343430Z",
     "start_time": "2023-11-04T16:24:52.340508Z"
    }
   },
   "id": "18f06956bcf565f"
  },
  {
   "cell_type": "markdown",
   "source": [
    "# Calculate MinHash-Signature for each text (MinHash Matrix)"
   ],
   "metadata": {
    "collapsed": false
   },
   "id": "34166d5f67254fb9"
  },
  {
   "cell_type": "code",
   "execution_count": 62,
   "outputs": [],
   "source": [
    "signature_matrix = []\n",
    "for hash_function in hash_functions:\n",
    "    signature_vector = []\n",
    "    for bit_vector in bit_Matrix:\n",
    "        # find the first 1 in the bit vector\n",
    "        # we don't permutate the original bit vector, we instead use the hash function and check the bit vector at the permutated index\n",
    "        for i in range(len(bit_vector)):\n",
    "            if bit_vector[hash_function[i]] == 1:\n",
    "                signature_vector.append(hash_function[i])\n",
    "                break\n",
    "    signature_matrix.append(signature_vector)"
   ],
   "metadata": {
    "collapsed": false,
    "ExecuteTime": {
     "end_time": "2023-11-04T16:30:34.660064Z",
     "start_time": "2023-11-04T16:30:34.653272Z"
    }
   },
   "id": "a0b2ec90c8f0699e"
  },
  {
   "cell_type": "code",
   "execution_count": 61,
   "outputs": [
    {
     "name": "stdout",
     "output_type": "stream",
     "text": [
      "[310, 319, 9, 20, 431, 300, 76, 621, 439, 519, 391, 175, 391, 569, 439, 256]\n",
      "[474, 284, 107, 107, 157, 151, 373, 157, 376, 291, 421, 58, 157, 157, 225, 552]\n",
      "[91, 541, 294, 294, 192, 426, 412, 412, 519, 519, 421, 372, 192, 57, 239, 262]\n",
      "[492, 13, 65, 187, 428, 426, 458, 422, 5, 79, 214, 136, 607, 611, 492, 142]\n",
      "[349, 349, 107, 107, 106, 284, 588, 618, 408, 291, 288, 284, 349, 566, 506, 240]\n",
      "[614, 319, 475, 460, 380, 380, 138, 231, 29, 344, 154, 299, 348, 348, 239, 105]\n",
      "[590, 37, 475, 293, 606, 465, 447, 121, 439, 590, 308, 549, 370, 370, 590, 590]\n",
      "[180, 396, 390, 390, 446, 4, 390, 233, 381, 381, 465, 561, 22, 128, 250, 586]\n",
      "[522, 37, 347, 17, 317, 275, 317, 317, 347, 205, 414, 124, 317, 413, 347, 317]\n",
      "[614, 605, 487, 430, 257, 465, 458, 96, 205, 205, 119, 193, 298, 128, 605, 86]\n",
      "[290, 493, 501, 187, 432, 562, 618, 579, 123, 270, 421, 562, 425, 603, 25, 358]\n",
      "[614, 396, 293, 293, 67, 523, 508, 356, 12, 291, 545, 617, 163, 413, 67, 47]\n",
      "[174, 578, 278, 278, 151, 151, 125, 422, 218, 531, 119, 426, 499, 426, 185, 478]\n",
      "[310, 406, 576, 78, 435, 213, 16, 422, 490, 343, 325, 495, 182, 182, 435, 213]\n",
      "[117, 116, 220, 107, 192, 166, 192, 192, 94, 210, 166, 166, 192, 596, 544, 192]\n",
      "[180, 541, 234, 13, 171, 213, 447, 328, 408, 188, 583, 162, 13, 512, 67, 583]\n",
      "[349, 349, 501, 17, 317, 196, 317, 317, 218, 410, 80, 311, 349, 611, 349, 349]\n",
      "[268, 493, 65, 508, 329, 336, 177, 441, 410, 410, 124, 124, 329, 329, 527, 578]\n",
      "[349, 349, 487, 187, 85, 465, 235, 230, 490, 183, 545, 31, 349, 158, 456, 456]\n",
      "[53, 541, 161, 293, 140, 213, 227, 541, 277, 188, 405, 207, 140, 140, 544, 388]\n",
      "[538, 319, 429, 508, 329, 300, 447, 508, 205, 205, 547, 136, 62, 329, 205, 453]\n",
      "[135, 135, 220, 553, 495, 336, 73, 52, 29, 210, 178, 495, 247, 426, 29, 86]\n",
      "[349, 204, 508, 508, 329, 166, 508, 508, 12, 12, 166, 30, 348, 348, 204, 349]\n",
      "[572, 284, 274, 471, 495, 284, 620, 551, 274, 274, 516, 495, 62, 102, 379, 274]\n",
      "[572, 504, 390, 390, 105, 336, 571, 105, 408, 343, 331, 169, 346, 346, 572, 256]\n",
      "[598, 204, 347, 278, 24, 166, 590, 156, 188, 188, 545, 245, 469, 556, 598, 303]\n",
      "[268, 319, 113, 78, 216, 300, 608, 40, 29, 150, 154, 191, 317, 102, 29, 90]\n",
      "[53, 135, 576, 514, 446, 562, 305, 621, 344, 344, 473, 562, 22, 105, 297, 200]\n",
      "[79, 591, 399, 471, 432, 300, 79, 255, 410, 79, 11, 136, 377, 186, 250, 79]\n",
      "[39, 541, 475, 187, 353, 284, 317, 317, 519, 79, 214, 593, 317, 566, 353, 317]\n",
      "[416, 13, 161, 460, 13, 166, 13, 13, 381, 13, 13, 444, 251, 596, 13, 13]\n",
      "[416, 504, 78, 78, 371, 3, 78, 74, 376, 376, 124, 124, 600, 546, 8, 194]\n",
      "[448, 448, 294, 294, 67, 426, 159, 294, 344, 344, 308, 175, 564, 482, 505, 248]\n",
      "[117, 209, 501, 510, 485, 562, 99, 179, 439, 519, 581, 485, 564, 510, 297, 528]\n",
      "[486, 190, 220, 390, 196, 196, 467, 121, 381, 381, 23, 196, 486, 426, 378, 164]\n",
      "[295, 591, 68, 430, 139, 3, 159, 115, 277, 291, 80, 202, 377, 102, 8, 478]\n",
      "[488, 493, 487, 460, 428, 465, 260, 260, 5, 79, 271, 561, 585, 556, 506, 189]\n",
      "[492, 591, 220, 510, 485, 591, 320, 281, 12, 197, 214, 175, 251, 186, 484, 26]\n",
      "[53, 532, 548, 148, 431, 166, 431, 203, 12, 219, 289, 30, 469, 346, 462, 462]\n",
      "[395, 532, 111, 471, 139, 284, 52, 328, 376, 376, 124, 124, 335, 186, 32, 376]\n",
      "[598, 319, 220, 172, 432, 213, 76, 260, 519, 519, 289, 415, 348, 413, 172, 478]\n",
      "[310, 319, 107, 107, 435, 330, 414, 351, 490, 9, 414, 330, 198, 330, 354, 132]\n",
      "[349, 349, 9, 78, 329, 190, 292, 84, 9, 9, 178, 394, 329, 329, 354, 263]\n",
      "[310, 349, 172, 172, 192, 336, 192, 192, 381, 381, 516, 593, 192, 581, 172, 192]\n",
      "[522, 204, 359, 514, 330, 330, 109, 328, 408, 267, 331, 330, 569, 330, 239, 276]\n",
      "[492, 541, 278, 278, 431, 3, 431, 255, 94, 309, 530, 563, 126, 128, 309, 424]\n",
      "[492, 350, 315, 266, 495, 380, 6, 441, 218, 246, 289, 495, 595, 611, 239, 19]\n",
      "[207, 207, 207, 324, 300, 300, 122, 122, 410, 410, 300, 300, 349, 491, 207, 349]\n",
      "[619, 350, 2, 510, 330, 330, 412, 74, 277, 291, 212, 394, 607, 596, 8, 518]\n",
      "[614, 493, 234, 294, 139, 465, 294, 294, 410, 267, 71, 175, 253, 491, 490, 105]\n",
      "[538, 578, 278, 278, 196, 196, 278, 278, 347, 210, 265, 196, 507, 176, 510, 451]\n",
      "[268, 13, 475, 471, 454, 300, 447, 13, 29, 13, 288, 162, 253, 158, 43, 86]\n",
      "[180, 349, 294, 294, 330, 3, 521, 483, 309, 309, 275, 330, 62, 330, 309, 132]\n",
      "[572, 591, 17, 17, 140, 591, 618, 483, 150, 150, 530, 591, 140, 546, 572, 34]\n",
      "[522, 434, 293, 514, 330, 330, 192, 427, 439, 197, 405, 330, 600, 128, 439, 86]\n",
      "[268, 578, 548, 13, 85, 4, 235, 233, 205, 210, 530, 479, 140, 128, 205, 0]\n",
      "[79, 434, 592, 397, 335, 380, 79, 422, 9, 79, 243, 243, 335, 186, 225, 345]\n",
      "[486, 541, 9, 471, 160, 300, 467, 467, 9, 9, 300, 162, 486, 128, 354, 376]\n",
      "[598, 488, 2, 293, 317, 213, 412, 366, 344, 344, 212, 175, 317, 491, 598, 456]\n",
      "[529, 591, 592, 471, 525, 591, 244, 88, 12, 12, 405, 591, 469, 392, 428, 591]\n",
      "[474, 448, 78, 78, 495, 523, 52, 52, 347, 531, 23, 523, 131, 370, 347, 312]\n",
      "[355, 190, 274, 471, 61, 3, 320, 316, 274, 343, 71, 190, 253, 370, 506, 358]\n",
      "[529, 591, 161, 294, 160, 562, 555, 121, 150, 183, 406, 562, 223, 330, 529, 132]\n",
      "[619, 493, 161, 471, 166, 166, 618, 618, 270, 270, 166, 166, 569, 569, 428, 0]\n",
      "[295, 406, 399, 558, 606, 523, 447, 542, 12, 13, 243, 575, 406, 128, 172, 34]\n",
      "[619, 350, 359, 17, 139, 284, 458, 285, 277, 205, 545, 202, 499, 566, 378, 0]\n",
      "[614, 209, 357, 324, 380, 380, 235, 296, 150, 150, 80, 162, 42, 128, 527, 256]\n",
      "[135, 135, 430, 430, 257, 336, 521, 156, 29, 197, 545, 561, 62, 546, 172, 142]\n",
      "[207, 207, 207, 266, 322, 275, 322, 203, 123, 183, 207, 409, 286, 186, 207, 141]\n",
      "[448, 448, 13, 13, 435, 196, 13, 13, 277, 13, 13, 549, 184, 13, 435, 13]\n",
      "[488, 488, 111, 471, 431, 465, 431, 393, 381, 381, 308, 465, 286, 560, 524, 518]\n",
      "[349, 349, 475, 107, 495, 300, 242, 242, 277, 519, 300, 495, 595, 370, 129, 567]\n",
      "[529, 209, 576, 20, 336, 336, 414, 255, 277, 183, 154, 124, 335, 335, 398, 303]\n",
      "[118, 434, 220, 430, 85, 300, 73, 230, 408, 219, 238, 30, 92, 413, 398, 19]\n",
      "[538, 434, 475, 278, 85, 465, 16, 328, 439, 291, 405, 465, 616, 497, 439, 451]\n",
      "[488, 319, 501, 510, 275, 275, 555, 242, 205, 205, 275, 275, 275, 275, 275, 567]\n",
      "[416, 578, 399, 266, 192, 300, 604, 604, 274, 210, 545, 372, 568, 413, 239, 578]\n",
      "[492, 190, 390, 390, 272, 190, 390, 508, 376, 79, 300, 54, 247, 186, 129, 79]\n",
      "[488, 116, 359, 187, 272, 523, 467, 582, 376, 376, 547, 593, 222, 57, 488, 358]\n",
      "[79, 578, 172, 172, 213, 213, 79, 181, 25, 79, 581, 415, 581, 497, 79, 79]\n",
      "[349, 578, 172, 172, 272, 336, 555, 179, 5, 5, 325, 311, 42, 128, 172, 142]\n",
      "[492, 204, 548, 148, 196, 562, 555, 393, 277, 343, 545, 562, 182, 182, 204, 605]\n",
      "[538, 605, 390, 390, 332, 4, 305, 316, 490, 101, 545, 311, 223, 370, 383, 552]\n",
      "[488, 488, 293, 293, 192, 4, 192, 192, 376, 376, 104, 4, 585, 569, 354, 376]\n",
      "[488, 493, 390, 390, 371, 196, 237, 203, 25, 246, 600, 196, 457, 512, 488, 605]\n",
      "[295, 434, 397, 397, 428, 4, 406, 427, 25, 79, 391, 136, 391, 497, 25, 406]\n",
      "[416, 504, 548, 471, 139, 426, 292, 179, 12, 343, 325, 426, 182, 182, 524, 34]\n",
      "[395, 541, 220, 324, 61, 380, 18, 395, 270, 270, 214, 165, 370, 370, 61, 90]\n",
      "[135, 135, 487, 460, 330, 330, 536, 597, 490, 270, 536, 136, 594, 594, 420, 0]\n",
      "[118, 350, 577, 294, 380, 523, 294, 294, 381, 381, 23, 523, 499, 283, 43, 303]\n",
      "[295, 284, 508, 508, 58, 58, 292, 508, 376, 197, 581, 58, 131, 566, 292, 111]\n",
      "[118, 532, 359, 324, 466, 275, 536, 393, 150, 150, 238, 341, 83, 321, 462, 337]\n",
      "[522, 591, 161, 187, 24, 591, 536, 422, 9, 210, 536, 202, 83, 146, 484, 337]\n",
      "[53, 434, 207, 20, 139, 523, 73, 88, 9, 13, 207, 207, 491, 146, 428, 358]\n",
      "[488, 488, 487, 400, 495, 275, 79, 88, 410, 410, 288, 495, 616, 566, 488, 79]\n",
      "[395, 396, 577, 172, 97, 196, 242, 242, 376, 219, 530, 196, 581, 186, 97, 164]\n",
      "[180, 578, 78, 78, 353, 166, 292, 40, 344, 344, 421, 166, 131, 176, 292, 200]\n",
      "[481, 591, 508, 508, 97, 591, 508, 356, 205, 205, 21, 591, 247, 182, 591, 591]\n",
      "[91, 578, 294, 558, 58, 58, 351, 515, 408, 246, 21, 58, 223, 146, 578, 587]\n",
      "[529, 434, 592, 266, 24, 465, 76, 24, 218, 101, 325, 549, 251, 251, 529, 303]\n"
     ]
    }
   ],
   "source": [
    "for signature_vector in signature_matrix:\n",
    "    print(signature_vector[0:16])"
   ],
   "metadata": {
    "collapsed": false,
    "ExecuteTime": {
     "end_time": "2023-11-04T16:24:53.600011Z",
     "start_time": "2023-11-04T16:24:53.595180Z"
    }
   },
   "id": "6ff016b4cc0e1ced"
  },
  {
   "cell_type": "markdown",
   "source": [],
   "metadata": {
    "collapsed": false
   },
   "id": "2750ab8f5edff0da"
  },
  {
   "cell_type": "code",
   "execution_count": null,
   "outputs": [],
   "source": [
    "signature_similarity = []\n"
   ],
   "metadata": {
    "collapsed": false
   },
   "id": "b4891dead0169289"
  }
 ],
 "metadata": {
  "kernelspec": {
   "display_name": "Python 3",
   "language": "python",
   "name": "python3"
  },
  "language_info": {
   "codemirror_mode": {
    "name": "ipython",
    "version": 2
   },
   "file_extension": ".py",
   "mimetype": "text/x-python",
   "name": "python",
   "nbconvert_exporter": "python",
   "pygments_lexer": "ipython2",
   "version": "2.7.6"
  }
 },
 "nbformat": 4,
 "nbformat_minor": 5
}
