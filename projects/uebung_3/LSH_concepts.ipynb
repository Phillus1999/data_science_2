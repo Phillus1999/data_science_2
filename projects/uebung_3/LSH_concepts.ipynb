{
 "cells": [
  {
   "cell_type": "markdown",
   "source": [
    "# Concepts\n",
    "\n",
    "## Mapper - Read file\n",
    "For each Text we create a set of k-shingles\n",
    "we need to pic the k carefulls so any given shingle is unique and we don't have too many shingles k=5 seems to be a good choice\n",
    "\n",
    "## Mapper - make shingle-sets\n",
    "We hash the shingles to reduce data size and to make the comparison of the shingles easier\n",
    "\n",
    "\n",
    "---\n",
    "##### What if all shingle sets don't fit into main memory and we cannot make a universal-set?\n",
    "---\n",
    "\n",
    "*In map reduce we don't need to make a universal-set and calculate Bit-Vectors because we use Min-Hashing to approximate the Jaccard-Distance of two Sets ,this works because if a Hash function can put each shingle into a bucket and we have as many or more buckets then Shingles in the master set, then the hash function simulates the master set and because we use the min() property this is the same as permuting the characteristic Matrix*\n",
    "\n",
    "Hierzu hilft es sich vorzustellen, dass jeder bucket der minhash funktion einer Zeile der Charakteristischen Matrix entspricht, und durch die min() eigenschaft wir dann quasi eine Permutation auf allen Spalten gleichzeitig machen, da gleiche Elemente den gleichen Hashwert haben und somit in den gleichen Bucket kommen, wir ignorieren hier, dass wir auch hash-kollisionen haben können, da wir eine sehr große anzahl an buckets haben und die wahrscheinlichkeit für eine kollision sehr gering ist, oder im Zweifel zu einem Falsch positiven führt, was nicht schlimm ist, da wir ja nur eine Approximation der Jaccard-Distanz wollen.\n",
    "\n",
    "## Mapper - calculate the MinHash-Signature for shingle set\n",
    "We don't need to calculate the Characteristic Matrix because we use Min-Hashing to approximate the Jaccard-Distance of two Sets we just need to find the right bucket-size therfore approximate the maximum number of shingles(or use a very large prime number ?)\n",
    "\n",
    "\n",
    "## Mapper - calculate the LSH-Bucket-number (key= bucket_number, value=doc_id)\n",
    "We use b Bands with size #hash_functions / b and hash each band to a bucket -> we get the following key-value pairs for the reducer (key= bucket_number, value=doc_id)\n",
    "\n",
    "## Reducer - find candidate pairs\n",
    "Since the reducer gets a list of doc_id´s that got hased into the same bucket each reducer can directly emit (yield) all possible pairs of doc_id´s that got hashed into the same bucket and we have the desired output (doc_id1, doc_id2) of a potential pair of similar documents"
   ],
   "metadata": {
    "collapsed": false
   },
   "id": "b6ea51ae415fa1a"
  },
  {
   "cell_type": "markdown",
   "source": [
    "# Load Data\n",
    " * Zuerst laden wir die Daten (Die beiden Texte aus der Eingabedatei)\n",
    " * Jeder Text wird einzeln betrachtet und in einer Liste gespeichert"
   ],
   "metadata": {
    "collapsed": false
   },
   "id": "600e21655e7fdf21"
  },
  {
   "cell_type": "code",
   "execution_count": 13,
   "outputs": [],
   "source": [
    "import numpy as np\n",
    "import pandas as pd\n",
    "import matplotlib.pyplot as plt\n",
    "import seaborn as sns"
   ],
   "metadata": {
    "collapsed": false,
    "ExecuteTime": {
     "end_time": "2023-11-05T19:52:03.372095Z",
     "start_time": "2023-11-05T19:52:03.328674Z"
    }
   },
   "id": "d6e76a28f0ab6ba"
  },
  {
   "cell_type": "code",
   "execution_count": 14,
   "id": "initial_id",
   "metadata": {
    "collapsed": true,
    "ExecuteTime": {
     "end_time": "2023-11-05T19:52:03.377834Z",
     "start_time": "2023-11-05T19:52:03.333028Z"
    }
   },
   "outputs": [],
   "source": [
    "# create a list of all the texts\n",
    "texts = []\n",
    "with open('subset.txt', 'r') as f:\n",
    "    for line in f:\n",
    "        elements = line.strip().split('\\t')\n",
    "        texts.append(elements[0].replace('\\n', ''))\n",
    "        texts.append(elements[1])"
   ]
  },
  {
   "cell_type": "code",
   "execution_count": 15,
   "outputs": [
    {
     "name": "stdout",
     "output_type": "stream",
     "text": [
      "Turn off the main breaker.\n",
      "Hot or not? Now turn the main on, and B2 off.\n",
      "I think it would.\n",
      "I don't think you should.\n",
      "You don't need any visa.\n"
     ]
    }
   ],
   "source": [
    "for i in range(0, 5):\n",
    "    print(texts[i])"
   ],
   "metadata": {
    "collapsed": false,
    "ExecuteTime": {
     "end_time": "2023-11-05T19:52:03.381550Z",
     "start_time": "2023-11-05T19:52:03.336702Z"
    }
   },
   "id": "4efb76de42092b15"
  },
  {
   "cell_type": "markdown",
   "source": [
    "# Erstellen der Shingles für jeden Text\n",
    " * Im ersten Map Schritt erstellen wir für jeden Text eine Liste von Shingles\n",
    " * Als key können wir die Texte verwenden, da wir diese später wieder brauchen\n",
    " * Der Value ist eine Liste von Shingles"
   ],
   "metadata": {
    "collapsed": false
   },
   "id": "42174621118a37bf"
  },
  {
   "cell_type": "code",
   "execution_count": 16,
   "outputs": [],
   "source": [
    "shingles_per_text = []\n",
    "k = 3\n",
    "for text in texts:\n",
    "    shingles_per_text.append(set([text[i:i + k] for i in range(len(text) - k + 1)]))"
   ],
   "metadata": {
    "collapsed": false,
    "ExecuteTime": {
     "end_time": "2023-11-05T19:52:03.381924Z",
     "start_time": "2023-11-05T19:52:03.339349Z"
    }
   },
   "id": "29bbd8a3898b7ca0"
  },
  {
   "cell_type": "markdown",
   "source": [
    "# Create Bit-Vector for each text (Matrix of Bit-Vectors [f. 51])"
   ],
   "metadata": {
    "collapsed": false
   },
   "id": "d1d3d69cda4c4ea9"
  },
  {
   "cell_type": "code",
   "execution_count": 17,
   "outputs": [],
   "source": [
    "# create a set of all shingles\n",
    "all_shingles_of_file = set()\n",
    "for shingle_of_text in shingles_per_text:\n",
    "    all_shingles_of_file.update(shingle_of_text)"
   ],
   "metadata": {
    "collapsed": false,
    "ExecuteTime": {
     "end_time": "2023-11-05T19:52:03.404960Z",
     "start_time": "2023-11-05T19:52:03.344484Z"
    }
   },
   "id": "3f2f0cf4dbaa57e0"
  },
  {
   "cell_type": "code",
   "execution_count": 18,
   "outputs": [],
   "source": [
    "# create Bit-Vector for each text -> this will yield the matrix of the bit-vectors\n",
    "bit_Matrix = []\n",
    "for shingle_of_text in shingles_per_text:\n",
    "    bit_vector_for_text = []\n",
    "    \n",
    "    for shingle_of_file in all_shingles_of_file:\n",
    "        \n",
    "        if shingle_of_file in shingle_of_text:\n",
    "            bit_vector_for_text.append(1)\n",
    "        else:\n",
    "            bit_vector_for_text.append(0)\n",
    "            \n",
    "    bit_Matrix.append(bit_vector_for_text)"
   ],
   "metadata": {
    "collapsed": false,
    "ExecuteTime": {
     "end_time": "2023-11-05T19:52:03.406728Z",
     "start_time": "2023-11-05T19:52:03.346088Z"
    }
   },
   "id": "58ffbfd601fb83cb"
  },
  {
   "cell_type": "code",
   "execution_count": 19,
   "outputs": [
    {
     "name": "stdout",
     "output_type": "stream",
     "text": [
      "[0, 0, 0, 1, 0, 0, 0, 0]\n",
      "[0, 0, 0, 1, 0, 0, 0, 0]\n",
      "[0, 1, 0, 0, 1, 0, 0, 0]\n",
      "[0, 0, 0, 0, 1, 0, 0, 0]\n",
      "[0, 0, 0, 0, 0, 0, 0, 0]\n"
     ]
    }
   ],
   "source": [
    "# nur um zz zeigen, dass es funktioniert\n",
    "for i in range(0, 5):\n",
    "    print(bit_Matrix[i][0:8])"
   ],
   "metadata": {
    "collapsed": false,
    "ExecuteTime": {
     "end_time": "2023-11-05T19:52:03.407670Z",
     "start_time": "2023-11-05T19:52:03.351021Z"
    }
   },
   "id": "84585b723508587"
  },
  {
   "cell_type": "markdown",
   "source": [
    "# Calculate MinHash-Signature for each text\n",
    "\n",
    "# Create Hash-Functions (random permutations)"
   ],
   "metadata": {
    "collapsed": false
   },
   "id": "8a3c9497859b3c92"
  },
  {
   "cell_type": "code",
   "execution_count": 20,
   "outputs": [],
   "source": [
    "# generate n hash functions (random permutations)\n",
    "n = 500\n",
    "hash_functions = []\n",
    "for h in range(n):\n",
    "    perm = np.random.permutation(len(all_shingles_of_file))\n",
    "    hash_functions.append(perm)"
   ],
   "metadata": {
    "collapsed": false,
    "ExecuteTime": {
     "end_time": "2023-11-05T19:52:03.423926Z",
     "start_time": "2023-11-05T19:52:03.357113Z"
    }
   },
   "id": "18f06956bcf565f"
  },
  {
   "cell_type": "markdown",
   "source": [
    "# Calculate MinHash-Signature for each text (MinHash Matrix)"
   ],
   "metadata": {
    "collapsed": false
   },
   "id": "34166d5f67254fb9"
  },
  {
   "cell_type": "code",
   "execution_count": 21,
   "outputs": [],
   "source": [
    "signature_matrix = []\n",
    "for bit_vector in bit_Matrix:\n",
    "    signature_vector = []\n",
    "    for hash_function in hash_functions:\n",
    "        # find the first 1 in the bit vector\n",
    "        # we don't permutate the original bit vector, we instead use the hash function and check the bit vector at the permutated index\n",
    "        for col_index in range(len(bit_vector)):\n",
    "            if bit_vector[hash_function[col_index]] == 1:\n",
    "                signature_vector.append(hash_function[col_index])\n",
    "                break\n",
    "    signature_matrix.append(signature_vector)"
   ],
   "metadata": {
    "collapsed": false,
    "ExecuteTime": {
     "end_time": "2023-11-05T19:52:03.426634Z",
     "start_time": "2023-11-05T19:52:03.377244Z"
    }
   },
   "id": "a0b2ec90c8f0699e"
  },
  {
   "cell_type": "code",
   "execution_count": 22,
   "outputs": [
    {
     "name": "stdout",
     "output_type": "stream",
     "text": [
      "[76, 168, 340, 77, 77, 263, 103, 274]\n",
      "[146, 198, 363, 77, 77, 146, 12, 366]\n",
      "[4, 355, 355, 152, 55, 55, 359, 293]\n",
      "[4, 166, 334, 165, 335, 165, 371, 104]\n",
      "[252, 226, 200, 165, 219, 165, 219, 104]\n"
     ]
    }
   ],
   "source": [
    "for i in range(0, 5):\n",
    "    print(signature_matrix[i][0:8])"
   ],
   "metadata": {
    "collapsed": false,
    "ExecuteTime": {
     "end_time": "2023-11-05T19:52:03.427119Z",
     "start_time": "2023-11-05T19:52:03.378961Z"
    }
   },
   "id": "6ff016b4cc0e1ced"
  },
  {
   "cell_type": "markdown",
   "source": [
    "### Compare the MinHash-Signatures similarity to the Jaccard-Similarity"
   ],
   "metadata": {
    "collapsed": false
   },
   "id": "819dc3d7a54573e9"
  },
  {
   "cell_type": "code",
   "execution_count": 23,
   "outputs": [],
   "source": [
    "def find_similarities(index=0):\n",
    "    sig_1 = signature_matrix[index]\n",
    "    bit_v_1 = bit_Matrix[index]\n",
    "    sig_sims = []\n",
    "    bit_sims = []\n",
    "    \n",
    "    for col in signature_matrix:\n",
    "        sig_sims.append(np.sum(np.array(sig_1) == np.array(col)) / len(signature_matrix[0]))\n",
    "    \n",
    "    for col in bit_Matrix:\n",
    "        intersection = np.sum(np.array(bit_v_1) & np.array(col))\n",
    "        union = np.sum(np.array(bit_v_1) | np.array(col))\n",
    "        bit_sims.append(intersection / union)\n",
    "        \n",
    "    \n",
    "    return pd.DataFrame({'Jaccard-Similarity': bit_sims, 'MinHash-Similarity': sig_sims, 'Text': texts, 'difference': np.array(sig_sims) - np.array(bit_sims)})"
   ],
   "metadata": {
    "collapsed": false,
    "ExecuteTime": {
     "end_time": "2023-11-05T19:52:03.427758Z",
     "start_time": "2023-11-05T19:52:03.383417Z"
    }
   },
   "id": "a11cb0cbe914553f"
  },
  {
   "cell_type": "code",
   "execution_count": 24,
   "outputs": [
    {
     "data": {
      "text/plain": "    Jaccard-Similarity  MinHash-Similarity  \\\n0             0.026316               0.040   \n1             0.017544               0.026   \n2             1.000000               1.000   \n3             0.266667               0.294   \n4             0.000000               0.000   \n5             0.000000               0.000   \n6             0.000000               0.000   \n7             0.000000               0.000   \n8             0.014706               0.018   \n9             0.052632               0.040   \n10            0.140000               0.154   \n11            0.078125               0.084   \n12            0.074074               0.094   \n13            0.000000               0.000   \n14            0.129630               0.136   \n15            0.034483               0.032   \n16            0.025000               0.024   \n17            0.000000               0.000   \n18            0.139535               0.150   \n19            0.138889               0.172   \n\n                                                 Text  difference  \n0                          Turn off the main breaker.    0.013684  \n1       Hot or not? Now turn the main on, and B2 off.    0.008456  \n2                                   I think it would.    0.000000  \n3                           I don't think you should.    0.027333  \n4                            You don't need any visa.    0.000000  \n5                        You don't need sauce at all.    0.000000  \n6                             You don't have to know.    0.000000  \n7                       \"I don't have to tell you.\"\"\"    0.000000  \n8   And if you're holding in a Roth IRA, you get t...    0.003294  \n9   Consider the tax bracket that you would be in ...   -0.012632  \n10      In the first case, I think you don't need it.    0.014000  \n11  If, however, you don't think that you can do t...    0.005875  \n12                                   Can you do this?    0.019926  \n13                           Some of what you can do:    0.000000  \n14  So I don't think you need to put it on the cover.    0.006370  \n15  Look - I understand you need to do this quick ...   -0.002483  \n16                       It depends on how it's used.   -0.001000  \n17                        It depends on your country.    0.000000  \n18              I think there isn't a general answer.    0.010465  \n19                    I don't think that there's any.    0.033111  ",
      "text/html": "<div>\n<style scoped>\n    .dataframe tbody tr th:only-of-type {\n        vertical-align: middle;\n    }\n\n    .dataframe tbody tr th {\n        vertical-align: top;\n    }\n\n    .dataframe thead th {\n        text-align: right;\n    }\n</style>\n<table border=\"1\" class=\"dataframe\">\n  <thead>\n    <tr style=\"text-align: right;\">\n      <th></th>\n      <th>Jaccard-Similarity</th>\n      <th>MinHash-Similarity</th>\n      <th>Text</th>\n      <th>difference</th>\n    </tr>\n  </thead>\n  <tbody>\n    <tr>\n      <th>0</th>\n      <td>0.026316</td>\n      <td>0.040</td>\n      <td>Turn off the main breaker.</td>\n      <td>0.013684</td>\n    </tr>\n    <tr>\n      <th>1</th>\n      <td>0.017544</td>\n      <td>0.026</td>\n      <td>Hot or not? Now turn the main on, and B2 off.</td>\n      <td>0.008456</td>\n    </tr>\n    <tr>\n      <th>2</th>\n      <td>1.000000</td>\n      <td>1.000</td>\n      <td>I think it would.</td>\n      <td>0.000000</td>\n    </tr>\n    <tr>\n      <th>3</th>\n      <td>0.266667</td>\n      <td>0.294</td>\n      <td>I don't think you should.</td>\n      <td>0.027333</td>\n    </tr>\n    <tr>\n      <th>4</th>\n      <td>0.000000</td>\n      <td>0.000</td>\n      <td>You don't need any visa.</td>\n      <td>0.000000</td>\n    </tr>\n    <tr>\n      <th>5</th>\n      <td>0.000000</td>\n      <td>0.000</td>\n      <td>You don't need sauce at all.</td>\n      <td>0.000000</td>\n    </tr>\n    <tr>\n      <th>6</th>\n      <td>0.000000</td>\n      <td>0.000</td>\n      <td>You don't have to know.</td>\n      <td>0.000000</td>\n    </tr>\n    <tr>\n      <th>7</th>\n      <td>0.000000</td>\n      <td>0.000</td>\n      <td>\"I don't have to tell you.\"\"\"</td>\n      <td>0.000000</td>\n    </tr>\n    <tr>\n      <th>8</th>\n      <td>0.014706</td>\n      <td>0.018</td>\n      <td>And if you're holding in a Roth IRA, you get t...</td>\n      <td>0.003294</td>\n    </tr>\n    <tr>\n      <th>9</th>\n      <td>0.052632</td>\n      <td>0.040</td>\n      <td>Consider the tax bracket that you would be in ...</td>\n      <td>-0.012632</td>\n    </tr>\n    <tr>\n      <th>10</th>\n      <td>0.140000</td>\n      <td>0.154</td>\n      <td>In the first case, I think you don't need it.</td>\n      <td>0.014000</td>\n    </tr>\n    <tr>\n      <th>11</th>\n      <td>0.078125</td>\n      <td>0.084</td>\n      <td>If, however, you don't think that you can do t...</td>\n      <td>0.005875</td>\n    </tr>\n    <tr>\n      <th>12</th>\n      <td>0.074074</td>\n      <td>0.094</td>\n      <td>Can you do this?</td>\n      <td>0.019926</td>\n    </tr>\n    <tr>\n      <th>13</th>\n      <td>0.000000</td>\n      <td>0.000</td>\n      <td>Some of what you can do:</td>\n      <td>0.000000</td>\n    </tr>\n    <tr>\n      <th>14</th>\n      <td>0.129630</td>\n      <td>0.136</td>\n      <td>So I don't think you need to put it on the cover.</td>\n      <td>0.006370</td>\n    </tr>\n    <tr>\n      <th>15</th>\n      <td>0.034483</td>\n      <td>0.032</td>\n      <td>Look - I understand you need to do this quick ...</td>\n      <td>-0.002483</td>\n    </tr>\n    <tr>\n      <th>16</th>\n      <td>0.025000</td>\n      <td>0.024</td>\n      <td>It depends on how it's used.</td>\n      <td>-0.001000</td>\n    </tr>\n    <tr>\n      <th>17</th>\n      <td>0.000000</td>\n      <td>0.000</td>\n      <td>It depends on your country.</td>\n      <td>0.000000</td>\n    </tr>\n    <tr>\n      <th>18</th>\n      <td>0.139535</td>\n      <td>0.150</td>\n      <td>I think there isn't a general answer.</td>\n      <td>0.010465</td>\n    </tr>\n    <tr>\n      <th>19</th>\n      <td>0.138889</td>\n      <td>0.172</td>\n      <td>I don't think that there's any.</td>\n      <td>0.033111</td>\n    </tr>\n  </tbody>\n</table>\n</div>"
     },
     "execution_count": 24,
     "metadata": {},
     "output_type": "execute_result"
    }
   ],
   "source": [
    "similarities = find_similarities(index=2)\n",
    "similarities"
   ],
   "metadata": {
    "collapsed": false,
    "ExecuteTime": {
     "end_time": "2023-11-05T19:52:03.429426Z",
     "start_time": "2023-11-05T19:52:03.388913Z"
    }
   },
   "id": "a701b64c099a197d"
  },
  {
   "cell_type": "markdown",
   "source": [
    "# find possible pairs of similar texts with LSH "
   ],
   "metadata": {
    "collapsed": false
   },
   "id": "e5a5ec041305abb0"
  },
  {
   "cell_type": "markdown",
   "source": [
    "# Create Bands and set Hyperparameters"
   ],
   "metadata": {
    "collapsed": false
   },
   "id": "8b83102284157bfe"
  },
  {
   "cell_type": "markdown",
   "source": [
    "# sort bands into buckets"
   ],
   "metadata": {
    "collapsed": false
   },
   "id": "c62772f951179375"
  },
  {
   "cell_type": "code",
   "execution_count": 25,
   "outputs": [],
   "source": [
    "def lsh_hash_function(band, num_buckets):\n",
    "    # Convert the band (which could be a list or tuple) to a string representation\n",
    "    # since the built-in hash function requires a single immutable argument.\n",
    "    string_band = str(band)\n",
    "\n",
    "    # Use the built-in hash function and take the modulo of the number of buckets\n",
    "    return hash(string_band) % num_buckets"
   ],
   "metadata": {
    "collapsed": false,
    "ExecuteTime": {
     "end_time": "2023-11-05T19:52:03.429557Z",
     "start_time": "2023-11-05T19:52:03.397301Z"
    }
   },
   "id": "51570adfc4bcd660"
  },
  {
   "cell_type": "code",
   "execution_count": 26,
   "outputs": [],
   "source": [
    "def sort_bands_into_buckets(number_of_buckets=10000000, number_bands=64, number_rows_per_band=len(hash_functions) / 64):\n",
    "    buckets = dict()\n",
    "    for col_index in range(len(signature_matrix)):\n",
    "        for band_num in range(number_bands):\n",
    "            # get the signature vector for the current text\n",
    "            signature_vector = signature_matrix[col_index]\n",
    "            # get the current band\n",
    "            start_index = int(band_num * number_rows_per_band)\n",
    "            end_index = int((band_num + 1) * number_rows_per_band)\n",
    "            band = signature_vector[start_index:end_index]\n",
    "            # calculate the hash value for the band\n",
    "            bucket_index = lsh_hash_function(band, number_of_buckets)\n",
    "            # add the text to the bucket\n",
    "            buckets[bucket_index] = buckets.get(bucket_index, []) + [col_index]\n",
    "            \n",
    "    return buckets\n",
    "        "
   ],
   "metadata": {
    "collapsed": false,
    "ExecuteTime": {
     "end_time": "2023-11-05T19:52:03.429607Z",
     "start_time": "2023-11-05T19:52:03.400373Z"
    }
   },
   "id": "b2e2025f2fb01e32"
  },
  {
   "cell_type": "markdown",
   "source": [
    "# find candidate pairs"
   ],
   "metadata": {
    "collapsed": false
   },
   "id": "41f1cb86350d8fb5"
  },
  {
   "cell_type": "code",
   "execution_count": 27,
   "outputs": [],
   "source": [
    "def find_candidate_pairs(buckets):    \n",
    "    candidate_pairs = set()\n",
    "    for bucket in buckets.values():\n",
    "        for i in range(len(bucket)):\n",
    "            for j in range(i + 1, len(bucket)):\n",
    "                candidate_pairs.add((bucket[i], bucket[j]))\n",
    "    return candidate_pairs"
   ],
   "metadata": {
    "collapsed": false,
    "ExecuteTime": {
     "end_time": "2023-11-05T19:52:03.429648Z",
     "start_time": "2023-11-05T19:52:03.403049Z"
    }
   },
   "id": "6db0840eee76ddd2"
  },
  {
   "cell_type": "markdown",
   "source": [
    "# compare number of candidate pairs for hyperparameters n_bands and n_buckets"
   ],
   "metadata": {
    "collapsed": false
   },
   "id": "2d71de27ba014d45"
  },
  {
   "cell_type": "code",
   "execution_count": 28,
   "outputs": [
    {
     "name": "stdout",
     "output_type": "stream",
     "text": [
      "Number of candidate pairs for 2 bands and 10000000 buckets: 0\n",
      "Number of candidate pairs for 2 bands and 100000000 buckets: 0\n",
      "Number of candidate pairs for 4 bands and 10000000 buckets: 0\n",
      "Number of candidate pairs for 4 bands and 100000000 buckets: 0\n",
      "Number of candidate pairs for 8 bands and 10000000 buckets: 0\n",
      "Number of candidate pairs for 8 bands and 100000000 buckets: 0\n",
      "Number of candidate pairs for 16 bands and 10000000 buckets: 0\n",
      "Number of candidate pairs for 16 bands and 100000000 buckets: 0\n",
      "Number of candidate pairs for 32 bands and 10000000 buckets: 0\n",
      "Number of candidate pairs for 32 bands and 100000000 buckets: 0\n",
      "Number of candidate pairs for 64 bands and 10000000 buckets: 1\n",
      "Number of candidate pairs for 64 bands and 100000000 buckets: 1\n"
     ]
    }
   ],
   "source": [
    "number_bands = [2, 4, 8, 16, 32, 64]\n",
    "number_rows_per_band = [len(hash_functions) / number_bands for number_bands in number_bands]\n",
    "number_of_buckets = [10000000, 100000000]\n",
    "\n",
    "# plot number of candidate pairs for number of bands going from 2 to 32 and number of buckets going from 100 to 10000000\n",
    "for n_bands in number_bands:\n",
    "    for n_buckets in number_of_buckets:\n",
    "        buckets = sort_bands_into_buckets(n_buckets, n_bands, len(hash_functions) / n_bands)\n",
    "        candidate_pairs = find_candidate_pairs(buckets)\n",
    "        print(f'Number of candidate pairs for {n_bands} bands and {n_buckets} buckets: {len(candidate_pairs)}')\n"
   ],
   "metadata": {
    "collapsed": false,
    "ExecuteTime": {
     "end_time": "2023-11-05T19:52:03.431130Z",
     "start_time": "2023-11-05T19:52:03.417350Z"
    }
   },
   "id": "233c8c5c10acdc28"
  },
  {
   "cell_type": "markdown",
   "source": [
    "# get jaccard similarity for candidate pairs (this is extremely slow)"
   ],
   "metadata": {
    "collapsed": false
   },
   "id": "d2d492b1e0a09186"
  },
  {
   "cell_type": "code",
   "execution_count": 29,
   "outputs": [],
   "source": [
    "jac_sims = []\n",
    "candidate_pairs = find_candidate_pairs(sort_bands_into_buckets())\n",
    "for pair in candidate_pairs:\n",
    "    jac_sims.append(np.sum(np.array(bit_Matrix[pair[0]]) & np.array(bit_Matrix[pair[1]])) / np.sum(np.array(bit_Matrix[pair[0]]) | np.array(bit_Matrix[pair[1]])))"
   ],
   "metadata": {
    "collapsed": false,
    "ExecuteTime": {
     "end_time": "2023-11-05T19:52:03.473150Z",
     "start_time": "2023-11-05T19:52:03.424511Z"
    }
   },
   "id": "983255b87578d81e"
  },
  {
   "cell_type": "markdown",
   "source": [
    "### create dataframe with jaccard similarities and text pairs"
   ],
   "metadata": {
    "collapsed": false
   },
   "id": "928634294603cb61"
  },
  {
   "cell_type": "code",
   "execution_count": 30,
   "outputs": [],
   "source": [
    "candidate_pairs_df = pd.DataFrame({'Jaccard-Similarity': jac_sims, 'id1': [pair[0] for pair in candidate_pairs], 'Text 1': [texts[pair[0]] for pair in candidate_pairs], 'id2': [pair[1] for pair in candidate_pairs], 'Text 2': [texts[pair[1]] for pair in candidate_pairs]})"
   ],
   "metadata": {
    "collapsed": false,
    "ExecuteTime": {
     "end_time": "2023-11-05T19:52:03.480303Z",
     "start_time": "2023-11-05T19:52:03.427726Z"
    }
   },
   "id": "79cb1368bed701db"
  },
  {
   "cell_type": "code",
   "execution_count": 31,
   "outputs": [
    {
     "name": "stdout",
     "output_type": "stream",
     "text": [
      "Number of possible pairs: 380\n",
      "Number of found equals (sim=1): 0\n",
      "Number of not equal candidate pairs: 1\n"
     ]
    }
   ],
   "source": [
    "# filter all cells, where id1 == id2\n",
    "candidate_pairs_df = candidate_pairs_df[candidate_pairs_df['id1'] != candidate_pairs_df['id2']]\n",
    "print(f'Number of possible pairs: {len(texts) * (len(texts) - 1)}')\n",
    "print(f'Number of found equals (sim=1): {len(candidate_pairs_df[candidate_pairs_df[\"Jaccard-Similarity\"] == 1])}')\n",
    "\n",
    "# remove jac_sims == 1\n",
    "candidate_pairs_df = candidate_pairs_df[candidate_pairs_df['Jaccard-Similarity'] != 1]\n",
    "\n",
    "print(f'Number of not equal candidate pairs: {len(candidate_pairs_df)}')"
   ],
   "metadata": {
    "collapsed": false,
    "ExecuteTime": {
     "end_time": "2023-11-05T19:52:03.482418Z",
     "start_time": "2023-11-05T19:52:03.431463Z"
    }
   },
   "id": "7a2385ec777d3ecf"
  },
  {
   "cell_type": "code",
   "execution_count": 32,
   "outputs": [
    {
     "data": {
      "text/plain": "   Jaccard-Similarity  id1                   Text 1  id2  \\\n0            0.371429    6  You don't have to know.    7   \n\n                          Text 2  \n0  \"I don't have to tell you.\"\"\"  ",
      "text/html": "<div>\n<style scoped>\n    .dataframe tbody tr th:only-of-type {\n        vertical-align: middle;\n    }\n\n    .dataframe tbody tr th {\n        vertical-align: top;\n    }\n\n    .dataframe thead th {\n        text-align: right;\n    }\n</style>\n<table border=\"1\" class=\"dataframe\">\n  <thead>\n    <tr style=\"text-align: right;\">\n      <th></th>\n      <th>Jaccard-Similarity</th>\n      <th>id1</th>\n      <th>Text 1</th>\n      <th>id2</th>\n      <th>Text 2</th>\n    </tr>\n  </thead>\n  <tbody>\n    <tr>\n      <th>0</th>\n      <td>0.371429</td>\n      <td>6</td>\n      <td>You don't have to know.</td>\n      <td>7</td>\n      <td>\"I don't have to tell you.\"\"\"</td>\n    </tr>\n  </tbody>\n</table>\n</div>"
     },
     "execution_count": 32,
     "metadata": {},
     "output_type": "execute_result"
    }
   ],
   "source": [
    "candidate_pairs_df"
   ],
   "metadata": {
    "collapsed": false,
    "ExecuteTime": {
     "end_time": "2023-11-05T19:52:03.484030Z",
     "start_time": "2023-11-05T19:52:03.435417Z"
    }
   },
   "id": "7729341e93596906"
  },
  {
   "cell_type": "code",
   "execution_count": 33,
   "outputs": [
    {
     "data": {
      "text/plain": "<Figure size 640x480 with 1 Axes>",
      "image/png": "[encoded data removed]"
     },
     "metadata": {},
     "output_type": "display_data"
    }
   ],
   "source": [
    "sns.histplot(candidate_pairs_df['Jaccard-Similarity'])\n",
    "plt.title('Histogram of Jaccard Similarities, buckets=10.000.000, bands=64')\n",
    "plt.show()"
   ],
   "metadata": {
    "collapsed": false,
    "ExecuteTime": {
     "end_time": "2023-11-05T19:52:03.599200Z",
     "start_time": "2023-11-05T19:52:03.438803Z"
    }
   },
   "id": "7f8f17ea292ddb24"
  },
  {
   "cell_type": "code",
   "execution_count": 33,
   "outputs": [],
   "source": [],
   "metadata": {
    "collapsed": false,
    "ExecuteTime": {
     "end_time": "2023-11-05T19:52:03.599359Z",
     "start_time": "2023-11-05T19:52:03.538015Z"
    }
   },
   "id": "a0c2bcadb9ed1eeb"
  }
 ],
 "metadata": {
  "kernelspec": {
   "display_name": "Python 3",
   "language": "python",
   "name": "python3"
  },
  "language_info": {
   "codemirror_mode": {
    "name": "ipython",
    "version": 2
   },
   "file_extension": ".py",
   "mimetype": "text/x-python",
   "name": "python",
   "nbconvert_exporter": "python",
   "pygments_lexer": "ipython2",
   "version": "2.7.6"
  }
 },
 "nbformat": 4,
 "nbformat_minor": 5
}
