{
 "cells": [
  {
   "cell_type": "markdown",
   "source": [
    "# LSH for SemEval2016-Task1\n",
    "\n",
    "### 1. Processing raw data\n",
    "\n",
    "\n",
    "### 2. Creating Shingles\n",
    "   * per Text - (2 per row in raw Data)\n",
    "\n",
    "\n",
    "### 3. Create Bit-Vector Representation\n",
    "   * sets: shingles per text\n",
    "   * master-set: all shingles over entire file vector length = length of master-set around 4000\n",
    "\n",
    "### 4. Convert sets to signatures (Minhashing)\n",
    "\n",
    "\n",
    "### 5. Calculate similarity\n",
    "\n",
    "\n",
    "### 6. Evaluate with LSH"
   ],
   "metadata": {
    "collapsed": false
   },
   "id": "83fa1907e163ef03"
  },
  {
   "cell_type": "code",
   "execution_count": null,
   "outputs": [],
   "source": [],
   "metadata": {
    "collapsed": false
   },
   "id": "56373f3f9cc5d568"
  },
  {
   "cell_type": "code",
   "execution_count": null,
   "outputs": [],
   "source": [],
   "metadata": {
    "collapsed": false
   },
   "id": "e11c55820777a0df"
  }
 ],
 "metadata": {
  "kernelspec": {
   "display_name": "Python 3",
   "language": "python",
   "name": "python3"
  },
  "language_info": {
   "codemirror_mode": {
    "name": "ipython",
    "version": 2
   },
   "file_extension": ".py",
   "mimetype": "text/x-python",
   "name": "python",
   "nbconvert_exporter": "python",
   "pygments_lexer": "ipython2",
   "version": "2.7.6"
  }
 },
 "nbformat": 4,
 "nbformat_minor": 5
}
