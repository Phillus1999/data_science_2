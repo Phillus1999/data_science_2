{
 "cells": [
  {
   "cell_type": "code",
   "execution_count": 24,
   "id": "initial_id",
   "metadata": {
    "collapsed": true,
    "ExecuteTime": {
     "end_time": "2023-11-04T11:26:54.278930Z",
     "start_time": "2023-11-04T11:26:54.275308Z"
    }
   },
   "outputs": [],
   "source": [
    "with open('subset.txt') as f:\n",
    "    lines = f.readlines()\n",
    "    split_lines = [l.strip().split('\\t') for l in lines]"
   ]
  },
  {
   "cell_type": "code",
   "execution_count": 25,
   "outputs": [
    {
     "name": "stdout",
     "output_type": "stream",
     "text": [
      "['Hope this is what you are looking for.', 'If what you are looking for is much higher, they get the picture.']\n",
      "['It really depends on how the employer documents it.', 'It really depends on your audience and setting.']\n",
      "['To give this an answer:', \"I've got an answer:\"]\n",
      "['It depends on what you want to have in your tank.', 'It depends on what you want to get out of your career.']\n",
      "['I think it probably depends on your money.', 'It really depends on your audience and setting.']\n",
      "[\"It really doesn't matter.\", \"Maybe it doesn't.\"]\n",
      "['It depends on what you want to do next, and where you want to do it.', \"I wouldn't advise you what to do with your resume, it's up to you.\"]\n",
      "['It depends on the room temperature where you live.', 'It depends on the circuit you do.']\n",
      "[\"if you don't want to derail the meeting, but the key is to speak up.\", 'The key thing you need to do in this meeting is listen.']\n",
      "['Is this a scam?', 'is it this one?']\n"
     ]
    }
   ],
   "source": [
    "for item in split_lines:\n",
    "    print(item)"
   ],
   "metadata": {
    "collapsed": false,
    "ExecuteTime": {
     "end_time": "2023-11-04T11:26:54.560787Z",
     "start_time": "2023-11-04T11:26:54.554687Z"
    }
   },
   "id": "1a2cd80664f9b5bb"
  },
  {
   "cell_type": "code",
   "execution_count": 29,
   "outputs": [],
   "source": [
    "texts = [item[0].join(item[1]) for item in split_lines]"
   ],
   "metadata": {
    "collapsed": false,
    "ExecuteTime": {
     "end_time": "2023-11-04T11:29:04.865831Z",
     "start_time": "2023-11-04T11:29:04.863974Z"
    }
   },
   "id": "43d9e4afa0230714"
  },
  {
   "cell_type": "code",
   "execution_count": 30,
   "outputs": [
    {
     "name": "stdout",
     "output_type": "stream",
     "text": [
      "['IHope this is what you are looking for.fHope this is what you are looking for. Hope this is what you are looking for.wHope this is what you are looking for.hHope this is what you are looking for.aHope this is what you are looking for.tHope this is what you are looking for. Hope this is what you are looking for.yHope this is what you are looking for.oHope this is what you are looking for.uHope this is what you are looking for. Hope this is what you are looking for.aHope this is what you are looking for.rHope this is what you are looking for.eHope this is what you are looking for. Hope this is what you are looking for.lHope this is what you are looking for.oHope this is what you are looking for.oHope this is what you are looking for.kHope this is what you are looking for.iHope this is what you are looking for.nHope this is what you are looking for.gHope this is what you are looking for. Hope this is what you are looking for.fHope this is what you are looking for.oHope this is what you are looking for.rHope this is what you are looking for. Hope this is what you are looking for.iHope this is what you are looking for.sHope this is what you are looking for. Hope this is what you are looking for.mHope this is what you are looking for.uHope this is what you are looking for.cHope this is what you are looking for.hHope this is what you are looking for. Hope this is what you are looking for.hHope this is what you are looking for.iHope this is what you are looking for.gHope this is what you are looking for.hHope this is what you are looking for.eHope this is what you are looking for.rHope this is what you are looking for.,Hope this is what you are looking for. Hope this is what you are looking for.tHope this is what you are looking for.hHope this is what you are looking for.eHope this is what you are looking for.yHope this is what you are looking for. Hope this is what you are looking for.gHope this is what you are looking for.eHope this is what you are looking for.tHope this is what you are looking for. Hope this is what you are looking for.tHope this is what you are looking for.hHope this is what you are looking for.eHope this is what you are looking for. Hope this is what you are looking for.pHope this is what you are looking for.iHope this is what you are looking for.cHope this is what you are looking for.tHope this is what you are looking for.uHope this is what you are looking for.rHope this is what you are looking for.eHope this is what you are looking for..', 'IIt really depends on how the employer documents it.tIt really depends on how the employer documents it. It really depends on how the employer documents it.rIt really depends on how the employer documents it.eIt really depends on how the employer documents it.aIt really depends on how the employer documents it.lIt really depends on how the employer documents it.lIt really depends on how the employer documents it.yIt really depends on how the employer documents it. It really depends on how the employer documents it.dIt really depends on how the employer documents it.eIt really depends on how the employer documents it.pIt really depends on how the employer documents it.eIt really depends on how the employer documents it.nIt really depends on how the employer documents it.dIt really depends on how the employer documents it.sIt really depends on how the employer documents it. It really depends on how the employer documents it.oIt really depends on how the employer documents it.nIt really depends on how the employer documents it. It really depends on how the employer documents it.yIt really depends on how the employer documents it.oIt really depends on how the employer documents it.uIt really depends on how the employer documents it.rIt really depends on how the employer documents it. It really depends on how the employer documents it.aIt really depends on how the employer documents it.uIt really depends on how the employer documents it.dIt really depends on how the employer documents it.iIt really depends on how the employer documents it.eIt really depends on how the employer documents it.nIt really depends on how the employer documents it.cIt really depends on how the employer documents it.eIt really depends on how the employer documents it. It really depends on how the employer documents it.aIt really depends on how the employer documents it.nIt really depends on how the employer documents it.dIt really depends on how the employer documents it. It really depends on how the employer documents it.sIt really depends on how the employer documents it.eIt really depends on how the employer documents it.tIt really depends on how the employer documents it.tIt really depends on how the employer documents it.iIt really depends on how the employer documents it.nIt really depends on how the employer documents it.gIt really depends on how the employer documents it..', \"ITo give this an answer:'To give this an answer:vTo give this an answer:eTo give this an answer: To give this an answer:gTo give this an answer:oTo give this an answer:tTo give this an answer: To give this an answer:aTo give this an answer:nTo give this an answer: To give this an answer:aTo give this an answer:nTo give this an answer:sTo give this an answer:wTo give this an answer:eTo give this an answer:rTo give this an answer::\", 'IIt depends on what you want to have in your tank.tIt depends on what you want to have in your tank. It depends on what you want to have in your tank.dIt depends on what you want to have in your tank.eIt depends on what you want to have in your tank.pIt depends on what you want to have in your tank.eIt depends on what you want to have in your tank.nIt depends on what you want to have in your tank.dIt depends on what you want to have in your tank.sIt depends on what you want to have in your tank. It depends on what you want to have in your tank.oIt depends on what you want to have in your tank.nIt depends on what you want to have in your tank. It depends on what you want to have in your tank.wIt depends on what you want to have in your tank.hIt depends on what you want to have in your tank.aIt depends on what you want to have in your tank.tIt depends on what you want to have in your tank. It depends on what you want to have in your tank.yIt depends on what you want to have in your tank.oIt depends on what you want to have in your tank.uIt depends on what you want to have in your tank. It depends on what you want to have in your tank.wIt depends on what you want to have in your tank.aIt depends on what you want to have in your tank.nIt depends on what you want to have in your tank.tIt depends on what you want to have in your tank. It depends on what you want to have in your tank.tIt depends on what you want to have in your tank.oIt depends on what you want to have in your tank. It depends on what you want to have in your tank.gIt depends on what you want to have in your tank.eIt depends on what you want to have in your tank.tIt depends on what you want to have in your tank. It depends on what you want to have in your tank.oIt depends on what you want to have in your tank.uIt depends on what you want to have in your tank.tIt depends on what you want to have in your tank. It depends on what you want to have in your tank.oIt depends on what you want to have in your tank.fIt depends on what you want to have in your tank. It depends on what you want to have in your tank.yIt depends on what you want to have in your tank.oIt depends on what you want to have in your tank.uIt depends on what you want to have in your tank.rIt depends on what you want to have in your tank. It depends on what you want to have in your tank.cIt depends on what you want to have in your tank.aIt depends on what you want to have in your tank.rIt depends on what you want to have in your tank.eIt depends on what you want to have in your tank.eIt depends on what you want to have in your tank.rIt depends on what you want to have in your tank..', 'II think it probably depends on your money.tI think it probably depends on your money. I think it probably depends on your money.rI think it probably depends on your money.eI think it probably depends on your money.aI think it probably depends on your money.lI think it probably depends on your money.lI think it probably depends on your money.yI think it probably depends on your money. I think it probably depends on your money.dI think it probably depends on your money.eI think it probably depends on your money.pI think it probably depends on your money.eI think it probably depends on your money.nI think it probably depends on your money.dI think it probably depends on your money.sI think it probably depends on your money. I think it probably depends on your money.oI think it probably depends on your money.nI think it probably depends on your money. I think it probably depends on your money.yI think it probably depends on your money.oI think it probably depends on your money.uI think it probably depends on your money.rI think it probably depends on your money. I think it probably depends on your money.aI think it probably depends on your money.uI think it probably depends on your money.dI think it probably depends on your money.iI think it probably depends on your money.eI think it probably depends on your money.nI think it probably depends on your money.cI think it probably depends on your money.eI think it probably depends on your money. I think it probably depends on your money.aI think it probably depends on your money.nI think it probably depends on your money.dI think it probably depends on your money. I think it probably depends on your money.sI think it probably depends on your money.eI think it probably depends on your money.tI think it probably depends on your money.tI think it probably depends on your money.iI think it probably depends on your money.nI think it probably depends on your money.gI think it probably depends on your money..', \"MIt really doesn't matter.aIt really doesn't matter.yIt really doesn't matter.bIt really doesn't matter.eIt really doesn't matter. It really doesn't matter.iIt really doesn't matter.tIt really doesn't matter. It really doesn't matter.dIt really doesn't matter.oIt really doesn't matter.eIt really doesn't matter.sIt really doesn't matter.nIt really doesn't matter.'It really doesn't matter.tIt really doesn't matter..\", \"IIt depends on what you want to do next, and where you want to do it. It depends on what you want to do next, and where you want to do it.wIt depends on what you want to do next, and where you want to do it.oIt depends on what you want to do next, and where you want to do it.uIt depends on what you want to do next, and where you want to do it.lIt depends on what you want to do next, and where you want to do it.dIt depends on what you want to do next, and where you want to do it.nIt depends on what you want to do next, and where you want to do it.'It depends on what you want to do next, and where you want to do it.tIt depends on what you want to do next, and where you want to do it. It depends on what you want to do next, and where you want to do it.aIt depends on what you want to do next, and where you want to do it.dIt depends on what you want to do next, and where you want to do it.vIt depends on what you want to do next, and where you want to do it.iIt depends on what you want to do next, and where you want to do it.sIt depends on what you want to do next, and where you want to do it.eIt depends on what you want to do next, and where you want to do it. It depends on what you want to do next, and where you want to do it.yIt depends on what you want to do next, and where you want to do it.oIt depends on what you want to do next, and where you want to do it.uIt depends on what you want to do next, and where you want to do it. It depends on what you want to do next, and where you want to do it.wIt depends on what you want to do next, and where you want to do it.hIt depends on what you want to do next, and where you want to do it.aIt depends on what you want to do next, and where you want to do it.tIt depends on what you want to do next, and where you want to do it. It depends on what you want to do next, and where you want to do it.tIt depends on what you want to do next, and where you want to do it.oIt depends on what you want to do next, and where you want to do it. It depends on what you want to do next, and where you want to do it.dIt depends on what you want to do next, and where you want to do it.oIt depends on what you want to do next, and where you want to do it. It depends on what you want to do next, and where you want to do it.wIt depends on what you want to do next, and where you want to do it.iIt depends on what you want to do next, and where you want to do it.tIt depends on what you want to do next, and where you want to do it.hIt depends on what you want to do next, and where you want to do it. It depends on what you want to do next, and where you want to do it.yIt depends on what you want to do next, and where you want to do it.oIt depends on what you want to do next, and where you want to do it.uIt depends on what you want to do next, and where you want to do it.rIt depends on what you want to do next, and where you want to do it. It depends on what you want to do next, and where you want to do it.rIt depends on what you want to do next, and where you want to do it.eIt depends on what you want to do next, and where you want to do it.sIt depends on what you want to do next, and where you want to do it.uIt depends on what you want to do next, and where you want to do it.mIt depends on what you want to do next, and where you want to do it.eIt depends on what you want to do next, and where you want to do it.,It depends on what you want to do next, and where you want to do it. It depends on what you want to do next, and where you want to do it.iIt depends on what you want to do next, and where you want to do it.tIt depends on what you want to do next, and where you want to do it.'It depends on what you want to do next, and where you want to do it.sIt depends on what you want to do next, and where you want to do it. It depends on what you want to do next, and where you want to do it.uIt depends on what you want to do next, and where you want to do it.pIt depends on what you want to do next, and where you want to do it. It depends on what you want to do next, and where you want to do it.tIt depends on what you want to do next, and where you want to do it.oIt depends on what you want to do next, and where you want to do it. It depends on what you want to do next, and where you want to do it.yIt depends on what you want to do next, and where you want to do it.oIt depends on what you want to do next, and where you want to do it.uIt depends on what you want to do next, and where you want to do it..\", 'IIt depends on the room temperature where you live.tIt depends on the room temperature where you live. It depends on the room temperature where you live.dIt depends on the room temperature where you live.eIt depends on the room temperature where you live.pIt depends on the room temperature where you live.eIt depends on the room temperature where you live.nIt depends on the room temperature where you live.dIt depends on the room temperature where you live.sIt depends on the room temperature where you live. It depends on the room temperature where you live.oIt depends on the room temperature where you live.nIt depends on the room temperature where you live. It depends on the room temperature where you live.tIt depends on the room temperature where you live.hIt depends on the room temperature where you live.eIt depends on the room temperature where you live. It depends on the room temperature where you live.cIt depends on the room temperature where you live.iIt depends on the room temperature where you live.rIt depends on the room temperature where you live.cIt depends on the room temperature where you live.uIt depends on the room temperature where you live.iIt depends on the room temperature where you live.tIt depends on the room temperature where you live. It depends on the room temperature where you live.yIt depends on the room temperature where you live.oIt depends on the room temperature where you live.uIt depends on the room temperature where you live. It depends on the room temperature where you live.dIt depends on the room temperature where you live.oIt depends on the room temperature where you live..', \"Tif you don't want to derail the meeting, but the key is to speak up.hif you don't want to derail the meeting, but the key is to speak up.eif you don't want to derail the meeting, but the key is to speak up. if you don't want to derail the meeting, but the key is to speak up.kif you don't want to derail the meeting, but the key is to speak up.eif you don't want to derail the meeting, but the key is to speak up.yif you don't want to derail the meeting, but the key is to speak up. if you don't want to derail the meeting, but the key is to speak up.tif you don't want to derail the meeting, but the key is to speak up.hif you don't want to derail the meeting, but the key is to speak up.iif you don't want to derail the meeting, but the key is to speak up.nif you don't want to derail the meeting, but the key is to speak up.gif you don't want to derail the meeting, but the key is to speak up. if you don't want to derail the meeting, but the key is to speak up.yif you don't want to derail the meeting, but the key is to speak up.oif you don't want to derail the meeting, but the key is to speak up.uif you don't want to derail the meeting, but the key is to speak up. if you don't want to derail the meeting, but the key is to speak up.nif you don't want to derail the meeting, but the key is to speak up.eif you don't want to derail the meeting, but the key is to speak up.eif you don't want to derail the meeting, but the key is to speak up.dif you don't want to derail the meeting, but the key is to speak up. if you don't want to derail the meeting, but the key is to speak up.tif you don't want to derail the meeting, but the key is to speak up.oif you don't want to derail the meeting, but the key is to speak up. if you don't want to derail the meeting, but the key is to speak up.dif you don't want to derail the meeting, but the key is to speak up.oif you don't want to derail the meeting, but the key is to speak up. if you don't want to derail the meeting, but the key is to speak up.iif you don't want to derail the meeting, but the key is to speak up.nif you don't want to derail the meeting, but the key is to speak up. if you don't want to derail the meeting, but the key is to speak up.tif you don't want to derail the meeting, but the key is to speak up.hif you don't want to derail the meeting, but the key is to speak up.iif you don't want to derail the meeting, but the key is to speak up.sif you don't want to derail the meeting, but the key is to speak up. if you don't want to derail the meeting, but the key is to speak up.mif you don't want to derail the meeting, but the key is to speak up.eif you don't want to derail the meeting, but the key is to speak up.eif you don't want to derail the meeting, but the key is to speak up.tif you don't want to derail the meeting, but the key is to speak up.iif you don't want to derail the meeting, but the key is to speak up.nif you don't want to derail the meeting, but the key is to speak up.gif you don't want to derail the meeting, but the key is to speak up. if you don't want to derail the meeting, but the key is to speak up.iif you don't want to derail the meeting, but the key is to speak up.sif you don't want to derail the meeting, but the key is to speak up. if you don't want to derail the meeting, but the key is to speak up.lif you don't want to derail the meeting, but the key is to speak up.iif you don't want to derail the meeting, but the key is to speak up.sif you don't want to derail the meeting, but the key is to speak up.tif you don't want to derail the meeting, but the key is to speak up.eif you don't want to derail the meeting, but the key is to speak up.nif you don't want to derail the meeting, but the key is to speak up..\", 'iIs this a scam?sIs this a scam? Is this a scam?iIs this a scam?tIs this a scam? Is this a scam?tIs this a scam?hIs this a scam?iIs this a scam?sIs this a scam? Is this a scam?oIs this a scam?nIs this a scam?eIs this a scam??']\n"
     ]
    }
   ],
   "source": [
    "print(texts)"
   ],
   "metadata": {
    "collapsed": false,
    "ExecuteTime": {
     "end_time": "2023-11-04T11:29:05.993196Z",
     "start_time": "2023-11-04T11:29:05.990833Z"
    }
   },
   "id": "3bfffc3948f672f"
  },
  {
   "cell_type": "code",
   "execution_count": null,
   "outputs": [],
   "source": [],
   "metadata": {
    "collapsed": false
   },
   "id": "ee10a36af3452c03"
  }
 ],
 "metadata": {
  "kernelspec": {
   "display_name": "Python 3",
   "language": "python",
   "name": "python3"
  },
  "language_info": {
   "codemirror_mode": {
    "name": "ipython",
    "version": 2
   },
   "file_extension": ".py",
   "mimetype": "text/x-python",
   "name": "python",
   "nbconvert_exporter": "python",
   "pygments_lexer": "ipython2",
   "version": "2.7.6"
  }
 },
 "nbformat": 4,
 "nbformat_minor": 5
}
